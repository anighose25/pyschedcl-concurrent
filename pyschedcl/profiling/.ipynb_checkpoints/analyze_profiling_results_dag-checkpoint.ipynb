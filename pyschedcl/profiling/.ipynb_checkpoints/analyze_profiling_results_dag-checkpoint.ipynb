{
 "cells": [
  {
   "cell_type": "code",
   "execution_count": 1,
   "metadata": {},
   "outputs": [],
   "source": [
    "import os\n",
    "import json\n",
    "from copy import deepcopy\n",
    "from collections import defaultdict\n",
    "from utils import adjust_zero\n",
    "import pandas as pd\n",
    "import numpy as np\n",
    "import sklearn\n",
    "from sklearn.model_selection import train_test_split\n",
    "import xgboost as xgb\n",
    "from xgboost import XGBClassifier\n",
    "import matplotlib.pyplot as plt\n",
    "%matplotlib inline"
   ]
  },
  {
   "cell_type": "code",
   "execution_count": 2,
   "metadata": {},
   "outputs": [
    {
     "data": {
      "text/plain": [
       "['corr_kernel',\n",
       " 'mm',\n",
       " 'Convolution2D_kernel',\n",
       " 'Convolution3D_kernel',\n",
       " 'mm2_kernel1',\n",
       " 'naive_copy',\n",
       " 'mt',\n",
       " 'memset2',\n",
       " 'atax_kernel1',\n",
       " 'naive_transpose',\n",
       " 'mm2metersKernel',\n",
       " 'FFC',\n",
       " 'gemm',\n",
       " 'memset1',\n",
       " 'reduce_kernel',\n",
       " 'atax_kernel2',\n",
       " 'syrk_kernel',\n",
       " 'fdtd_kernel1',\n",
       " 'MatVecMulCoalesced2',\n",
       " 'spmv_jds_naive',\n",
       " 'syr2k_kernel',\n",
       " 'MatVecMulCoalesced1',\n",
       " 'bicgKernel1',\n",
       " 'mvt_kernel1',\n",
       " 'naive_kernel',\n",
       " 'MatVecMulUncoalesced1',\n",
       " 'covar_kernel',\n",
       " 'mm3_kernel1',\n",
       " 'mean_kernel',\n",
       " 'fdtd_kernel3',\n",
       " 'std_kernel',\n",
       " 'gesummv_kernel',\n",
       " 'fdtd_kernel2',\n",
       " 'coalesced_gemm']"
      ]
     },
     "execution_count": 2,
     "metadata": {},
     "output_type": "execute_result"
    }
   ],
   "source": [
    "kernels = os.listdir(\"./dumps_dag/\")\n",
    "kernels"
   ]
  },
  {
   "cell_type": "code",
   "execution_count": 3,
   "metadata": {},
   "outputs": [],
   "source": [
    "def construct_table(profiling_results,kernel,d2h,h2d,workdim,data=None):\n",
    "    if not data:\n",
    "        data = defaultdict(list)\n",
    "    dev_dict = {0:\"cpu\",10:\"gpu\"}\n",
    "    for result in profiling_results:\n",
    "        with open(os.path.join(\"./dumps_dag\",kernel,result)) as f:\n",
    "            timestamps = json.load(f)\n",
    "        launch_params = result[:-5].split('_')\n",
    "        #print launch_params\n",
    "        m1 = n1 = p1 = dataset = global_work_size = int(launch_params[-3])\n",
    "        \n",
    "        device = int(launch_params[-4])\n",
    "        local_work_size = int(launch_params[-2])\n",
    "        run_number = int(launch_params[-1])\n",
    "        h2d_num_bytes = sum([eval(buff_size) for buff_size in h2d])\n",
    "        d2h_num_bytes = sum([eval(buff_size) for buff_size in d2h])\n",
    "        timestamps,total_time = adjust_zero(timestamps)\n",
    "        \n",
    "        key = timestamps.keys()[0]\n",
    "        \n",
    "        \n",
    "        try:\n",
    "            h2d_time = timestamps[key][\"write\"][\"device_end\"] - timestamps[key][\"write\"][\"device_start\"]\n",
    "        except:\n",
    "            h2d_time = None\n",
    "        \n",
    "        try:\n",
    "            d2h_time = timestamps[key][\"read\"][\"device_end\"] - timestamps[key][\"read\"][\"device_start\"]\n",
    "        except:\n",
    "            d2h_time = None\n",
    "        \n",
    "        try:\n",
    "            exec_time = timestamps[key][\"nd_range\"][\"device_end\"] - timestamps[key][\"nd_range\"][\"device_start\"]\n",
    "        except:\n",
    "            exec_time = None\n",
    "        \n",
    "        \n",
    "        data[\"kernel\"].append(kernel)\n",
    "        data[\"work_dim\"].append(workdim)\n",
    "        data[\"global_work_size\"].append(global_work_size**(workdim))\n",
    "        data[\"local_work_size\"].append(local_work_size**(workdim))\n",
    "        data[\"run\"].append(run_number)\n",
    "        data[\"device\"].append(dev_dict[device])\n",
    "        \n",
    "        data[\"h2d_bytes\"].append(h2d_num_bytes)\n",
    "        data[\"d2h_bytes\"].append(d2h_num_bytes)\n",
    "        data[\"h2d_time\"].append(h2d_time)\n",
    "        data[\"d2h_time\"].append(d2h_time)\n",
    "        data[\"exec_time\"].append(exec_time)\n",
    "        data[\"total_time\"].append(total_time)\n",
    "        \n",
    "    return data"
   ]
  },
  {
   "cell_type": "code",
   "execution_count": 4,
   "metadata": {},
   "outputs": [
    {
     "name": "stdout",
     "output_type": "stream",
     "text": [
      "('memset2', TypeError(\"unsupported operand type(s) for -=: 'float' and 'NoneType'\",))\n",
      "('memset1', TypeError(\"unsupported operand type(s) for -=: 'float' and 'NoneType'\",))\n"
     ]
    }
   ],
   "source": [
    "data = None\n",
    "kernels = os.listdir(\"./dumps_dag/\")\n",
    "\n",
    "for kernel in kernels:\n",
    "    #print(kernel)\n",
    "    try:\n",
    "        profiling_results = os.listdir(os.path.join(\"./dumps_dag\",kernel))\n",
    "\n",
    "        with open(\"../database/info/{}.json\".format(kernel)) as f:\n",
    "            source_info = json.load(f)\n",
    "\n",
    "        h2d = []\n",
    "        d2h = []\n",
    "        workdim = source_info[\"workDimension\"]\n",
    "\n",
    "        for key in [\"inputBuffers\",'ioBuffers']:\n",
    "            if key in source_info:\n",
    "                for buff in source_info[key]:\n",
    "                    h2d.append(buff['size'])\n",
    "\n",
    "        for key in [\"outputBuffers\",'ioBuffers']:\n",
    "            if key in source_info:\n",
    "                for buff in source_info[key]:\n",
    "                    d2h.append(buff['size'])\n",
    "        data = construct_table(profiling_results,kernel,d2h,h2d,workdim,data)\n",
    "    except KeyboardInterrupt:\n",
    "        raise\n",
    "    except IOError:\n",
    "        continue\n",
    "    except Exception as e:\n",
    "        print(kernel,e)\n",
    "        continue"
   ]
  },
  {
   "cell_type": "code",
   "execution_count": 5,
   "metadata": {},
   "outputs": [],
   "source": [
    "df = pd.DataFrame.from_dict(data)\n",
    "a = df.groupby(['kernel','global_work_size','local_work_size','device'])\n"
   ]
  },
  {
   "cell_type": "code",
   "execution_count": 6,
   "metadata": {},
   "outputs": [],
   "source": [
    "grouped_data = defaultdict(dict)\n",
    "\n",
    "for group in a:\n",
    "    kernel,glob,loc,dev = group[0]\n",
    "    data = group[1].mean()\n",
    "    #print(kernel,glob,loc,dev)\n",
    "    #print(data.keys())\n",
    "    for key in ['d2h_time','h2d_time','exec_time','total_time']:\n",
    "        grouped_data[(kernel,glob,loc)][key+\"_\"+dev] = data[key]\n",
    "    for key in ['d2h_bytes','h2d_bytes','work_dim']:\n",
    "        grouped_data[(kernel,glob,loc)][key] = data[key]\n",
    "    \n",
    "    "
   ]
  },
  {
   "cell_type": "code",
   "execution_count": 7,
   "metadata": {},
   "outputs": [
    {
     "name": "stdout",
     "output_type": "stream",
     "text": [
      "(('bicgKernel1', 512, 64), {'exec_time_gpu': 0.0005009651184082031, 'd2h_time_gpu': 3.147125244140625e-06, 'h2d_bytes': 1024.0, 'total_time_gpu': 0.00057525634765625, 'h2d_time_gpu': 1.8215179443359376e-05, 'd2h_bytes': 512.0, 'work_dim': 1.0})\n",
      "(('Convolution3D_kernel', 1048576, 4096), {'h2d_bytes': 1073741824.0, 'exec_time_cpu': 0.0014839649200439453, 'total_time_cpu': 4.013317084312439, 'd2h_time_cpu': 2.4141146421432493, 'd2h_bytes': 1073741824.0, 'h2d_time_cpu': 1.5973314046859741, 'work_dim': 2.0})\n",
      "(('bicgKernel1', 512, 8), {'exec_time_gpu': 0.0002749443054199219, 'd2h_time_gpu': 3.0040740966796874e-06, 'h2d_bytes': 1024.0, 'total_time_gpu': 0.0003520965576171875, 'h2d_time_gpu': 1.9121170043945313e-05, 'd2h_bytes': 512.0, 'work_dim': 1.0})\n",
      "(('bicgKernel1', 512, 16), {'exec_time_gpu': 0.0003509998321533203, 'd2h_time_gpu': 3.0040740966796874e-06, 'h2d_bytes': 1024.0, 'total_time_gpu': 0.00043230056762695314, 'h2d_time_gpu': 1.9121170043945313e-05, 'd2h_bytes': 512.0, 'work_dim': 1.0})\n",
      "(('Convolution3D_kernel', 262144, 4096), {'h2d_bytes': 134217728.0, 'exec_time_cpu': 0.0011899709701538087, 'total_time_cpu': 0.5023569107055664, 'd2h_time_cpu': 0.2971623420715332, 'd2h_bytes': 134217728.0, 'h2d_time_cpu': 0.20362203121185302, 'work_dim': 2.0})\n",
      "(('bicgKernel1', 512, 32), {'exec_time_gpu': 0.0005014896392822266, 'd2h_time_gpu': 3.0517578125e-06, 'h2d_bytes': 1024.0, 'total_time_gpu': 0.0005743503570556641, 'h2d_time_gpu': 1.7070770263671874e-05, 'd2h_bytes': 512.0, 'work_dim': 1.0})\n",
      "(('Convolution3D_kernel', 16384, 4096), {'h2d_bytes': 2097152.0, 'exec_time_cpu': 5.8603286743164065e-05, 'total_time_cpu': 0.006723856925964356, 'd2h_time_cpu': 0.003563380241394043, 'd2h_bytes': 2097152.0, 'h2d_time_cpu': 0.00275568962097168, 'work_dim': 2.0})\n",
      "(('Convolution3D_kernel', 4096, 4096), {'h2d_bytes': 262144.0, 'exec_time_cpu': 2.1195411682128908e-05, 'total_time_cpu': 0.001300215721130371, 'd2h_time_cpu': 0.00046837329864501953, 'd2h_bytes': 262144.0, 'h2d_time_cpu': 0.0004847526550292969, 'work_dim': 2.0})\n",
      "(('corr_kernel', 4194304, 16), {'h2d_bytes': 4194304.0, 'exec_time_cpu': 456.26810336112976, 'total_time_cpu': 456.2807867527008, 'd2h_time_cpu': 0.005963563919067383, 'd2h_bytes': 4194304.0, 'h2d_time_cpu': 0.006347179412841797, 'work_dim': 2.0})\n",
      "(('bicgKernel1', 512, 128), {'exec_time_gpu': 0.0005048274993896485, 'd2h_time_gpu': 3.0994415283203125e-06, 'h2d_bytes': 1024.0, 'total_time_gpu': 0.0005836009979248047, 'h2d_time_gpu': 1.8644332885742188e-05, 'd2h_bytes': 512.0, 'work_dim': 1.0})\n",
      "(('bicgKernel1', 512, 4), {'exec_time_gpu': 0.00023832321166992188, 'd2h_time_gpu': 3.0517578125e-06, 'h2d_bytes': 1024.0, 'total_time_gpu': 0.0003108501434326172, 'h2d_time_gpu': 1.749992370605469e-05, 'd2h_bytes': 512.0, 'work_dim': 1.0})\n",
      "(('Convolution3D_kernel', 65536, 4096), {'h2d_bytes': 16777216.0, 'exec_time_cpu': 0.00027339458465576173, 'total_time_cpu': 0.06253795623779297, 'd2h_time_cpu': 0.03641278743743896, 'd2h_bytes': 16777216.0, 'h2d_time_cpu': 0.02547793388366699, 'work_dim': 2.0})\n"
     ]
    }
   ],
   "source": [
    "new_data = defaultdict(list)\n",
    "for key,timing in grouped_data.items():    \n",
    "    if 'total_time_gpu' in timing and 'total_time_cpu' in timing:\n",
    "        kernel,glob,loc = key\n",
    "        new_data[\"kernel\"].append(kernel)\n",
    "        new_data[\"global_work_size\"].append(glob)\n",
    "        new_data[\"local_work_size\"].append(loc)\n",
    "\n",
    "        for key1,val in timing.items():\n",
    "            new_data[key1].append(val)\n",
    "            \n",
    "    else:\n",
    "        print(key,timing)\n"
   ]
  },
  {
   "cell_type": "code",
   "execution_count": 8,
   "metadata": {},
   "outputs": [
    {
     "data": {
      "text/html": [
       "<div>\n",
       "<style scoped>\n",
       "    .dataframe tbody tr th:only-of-type {\n",
       "        vertical-align: middle;\n",
       "    }\n",
       "\n",
       "    .dataframe tbody tr th {\n",
       "        vertical-align: top;\n",
       "    }\n",
       "\n",
       "    .dataframe thead th {\n",
       "        text-align: right;\n",
       "    }\n",
       "</style>\n",
       "<table border=\"1\" class=\"dataframe\">\n",
       "  <thead>\n",
       "    <tr style=\"text-align: right;\">\n",
       "      <th></th>\n",
       "      <th>d2h_bytes</th>\n",
       "      <th>d2h_time_cpu</th>\n",
       "      <th>d2h_time_gpu</th>\n",
       "      <th>exec_time_cpu</th>\n",
       "      <th>exec_time_gpu</th>\n",
       "      <th>global_work_size</th>\n",
       "      <th>h2d_bytes</th>\n",
       "      <th>h2d_time_cpu</th>\n",
       "      <th>h2d_time_gpu</th>\n",
       "      <th>kernel</th>\n",
       "      <th>local_work_size</th>\n",
       "      <th>total_time_cpu</th>\n",
       "      <th>total_time_gpu</th>\n",
       "      <th>work_dim</th>\n",
       "    </tr>\n",
       "  </thead>\n",
       "  <tbody>\n",
       "    <tr>\n",
       "      <th>0</th>\n",
       "      <td>32768.0</td>\n",
       "      <td>2.288818e-05</td>\n",
       "      <td>0.000023</td>\n",
       "      <td>0.000415</td>\n",
       "      <td>0.000021</td>\n",
       "      <td>32768</td>\n",
       "      <td>32768.0</td>\n",
       "      <td>0.000118</td>\n",
       "      <td>0.000024</td>\n",
       "      <td>naive_kernel</td>\n",
       "      <td>64</td>\n",
       "      <td>0.000908</td>\n",
       "      <td>0.000170</td>\n",
       "      <td>3.0</td>\n",
       "    </tr>\n",
       "    <tr>\n",
       "      <th>1</th>\n",
       "      <td>4194304.0</td>\n",
       "      <td>2.417946e-03</td>\n",
       "      <td>0.003681</td>\n",
       "      <td>0.001222</td>\n",
       "      <td>0.001743</td>\n",
       "      <td>4194304</td>\n",
       "      <td>8388609.0</td>\n",
       "      <td>0.011572</td>\n",
       "      <td>0.007313</td>\n",
       "      <td>fdtd_kernel2</td>\n",
       "      <td>16</td>\n",
       "      <td>0.015644</td>\n",
       "      <td>0.012778</td>\n",
       "      <td>2.0</td>\n",
       "    </tr>\n",
       "    <tr>\n",
       "      <th>2</th>\n",
       "      <td>16384.0</td>\n",
       "      <td>1.177788e-05</td>\n",
       "      <td>0.000013</td>\n",
       "      <td>0.000202</td>\n",
       "      <td>0.000036</td>\n",
       "      <td>16384</td>\n",
       "      <td>16384.0</td>\n",
       "      <td>0.000081</td>\n",
       "      <td>0.000012</td>\n",
       "      <td>naive_transpose</td>\n",
       "      <td>16</td>\n",
       "      <td>0.000633</td>\n",
       "      <td>0.000130</td>\n",
       "      <td>2.0</td>\n",
       "    </tr>\n",
       "    <tr>\n",
       "      <th>3</th>\n",
       "      <td>65536.0</td>\n",
       "      <td>5.128384e-05</td>\n",
       "      <td>0.000042</td>\n",
       "      <td>0.000549</td>\n",
       "      <td>0.000022</td>\n",
       "      <td>65536</td>\n",
       "      <td>65536.0</td>\n",
       "      <td>0.000228</td>\n",
       "      <td>0.000045</td>\n",
       "      <td>naive_copy</td>\n",
       "      <td>16</td>\n",
       "      <td>0.001158</td>\n",
       "      <td>0.000240</td>\n",
       "      <td>2.0</td>\n",
       "    </tr>\n",
       "    <tr>\n",
       "      <th>4</th>\n",
       "      <td>64.0</td>\n",
       "      <td>7.629395e-07</td>\n",
       "      <td>0.000003</td>\n",
       "      <td>0.000018</td>\n",
       "      <td>0.000068</td>\n",
       "      <td>64</td>\n",
       "      <td>8192.0</td>\n",
       "      <td>0.000068</td>\n",
       "      <td>0.000026</td>\n",
       "      <td>MatVecMulUncoalesced1</td>\n",
       "      <td>64</td>\n",
       "      <td>0.000433</td>\n",
       "      <td>0.000271</td>\n",
       "      <td>1.0</td>\n",
       "    </tr>\n",
       "  </tbody>\n",
       "</table>\n",
       "</div>"
      ],
      "text/plain": [
       "   d2h_bytes  d2h_time_cpu  d2h_time_gpu  exec_time_cpu  exec_time_gpu  \\\n",
       "0    32768.0  2.288818e-05      0.000023       0.000415       0.000021   \n",
       "1  4194304.0  2.417946e-03      0.003681       0.001222       0.001743   \n",
       "2    16384.0  1.177788e-05      0.000013       0.000202       0.000036   \n",
       "3    65536.0  5.128384e-05      0.000042       0.000549       0.000022   \n",
       "4       64.0  7.629395e-07      0.000003       0.000018       0.000068   \n",
       "\n",
       "   global_work_size  h2d_bytes  h2d_time_cpu  h2d_time_gpu  \\\n",
       "0             32768    32768.0      0.000118      0.000024   \n",
       "1           4194304  8388609.0      0.011572      0.007313   \n",
       "2             16384    16384.0      0.000081      0.000012   \n",
       "3             65536    65536.0      0.000228      0.000045   \n",
       "4                64     8192.0      0.000068      0.000026   \n",
       "\n",
       "                  kernel  local_work_size  total_time_cpu  total_time_gpu  \\\n",
       "0           naive_kernel               64        0.000908        0.000170   \n",
       "1           fdtd_kernel2               16        0.015644        0.012778   \n",
       "2        naive_transpose               16        0.000633        0.000130   \n",
       "3             naive_copy               16        0.001158        0.000240   \n",
       "4  MatVecMulUncoalesced1               64        0.000433        0.000271   \n",
       "\n",
       "   work_dim  \n",
       "0       3.0  \n",
       "1       2.0  \n",
       "2       2.0  \n",
       "3       2.0  \n",
       "4       1.0  "
      ]
     },
     "execution_count": 8,
     "metadata": {},
     "output_type": "execute_result"
    }
   ],
   "source": [
    "# for k,v in new_data.items():\n",
    "#     print(k,len(v))\n",
    "df = pd.DataFrame.from_dict(new_data)\n",
    "df.head()"
   ]
  },
  {
   "cell_type": "code",
   "execution_count": 9,
   "metadata": {},
   "outputs": [],
   "source": [
    "\n",
    "def extract_feature_vector(file):\n",
    "    feats = []\n",
    "    with open(os.path.join(\"../database/features/\",file)) as f:\n",
    "        lines = f.readlines()\n",
    "        start = False\n",
    "        end = False\n",
    "        for line in lines:\n",
    "            line = line.strip()\n",
    "            if start:\n",
    "                a = line.split()\n",
    "                if a[0]=='instsPerBlock:':\n",
    "                    break\n",
    "                val = float(a[1])\n",
    "                feats.append(val)\n",
    "                \n",
    "            elif line == '---':\n",
    "                start = True\n",
    "    return feats"
   ]
  },
  {
   "cell_type": "code",
   "execution_count": 10,
   "metadata": {},
   "outputs": [
    {
     "data": {
      "text/html": [
       "<div>\n",
       "<style scoped>\n",
       "    .dataframe tbody tr th:only-of-type {\n",
       "        vertical-align: middle;\n",
       "    }\n",
       "\n",
       "    .dataframe tbody tr th {\n",
       "        vertical-align: top;\n",
       "    }\n",
       "\n",
       "    .dataframe thead th {\n",
       "        text-align: right;\n",
       "    }\n",
       "</style>\n",
       "<table border=\"1\" class=\"dataframe\">\n",
       "  <thead>\n",
       "    <tr style=\"text-align: right;\">\n",
       "      <th></th>\n",
       "      <th>kernel</th>\n",
       "      <th>f_0</th>\n",
       "      <th>f_1</th>\n",
       "      <th>f_2</th>\n",
       "      <th>f_3</th>\n",
       "      <th>f_4</th>\n",
       "      <th>f_5</th>\n",
       "      <th>f_6</th>\n",
       "      <th>f_7</th>\n",
       "      <th>f_8</th>\n",
       "      <th>...</th>\n",
       "      <th>f_70</th>\n",
       "      <th>f_71</th>\n",
       "      <th>f_72</th>\n",
       "      <th>f_73</th>\n",
       "      <th>f_74</th>\n",
       "      <th>f_75</th>\n",
       "      <th>f_76</th>\n",
       "      <th>f_77</th>\n",
       "      <th>f_78</th>\n",
       "      <th>f_79</th>\n",
       "    </tr>\n",
       "  </thead>\n",
       "  <tbody>\n",
       "    <tr>\n",
       "      <th>0</th>\n",
       "      <td>corr_kernel</td>\n",
       "      <td>0.0</td>\n",
       "      <td>18.0</td>\n",
       "      <td>0.0</td>\n",
       "      <td>0.0</td>\n",
       "      <td>0.0</td>\n",
       "      <td>0.0</td>\n",
       "      <td>0.0</td>\n",
       "      <td>0.0</td>\n",
       "      <td>14.0</td>\n",
       "      <td>...</td>\n",
       "      <td>1.0</td>\n",
       "      <td>65.0</td>\n",
       "      <td>0.0</td>\n",
       "      <td>0.0</td>\n",
       "      <td>0.0</td>\n",
       "      <td>8.0</td>\n",
       "      <td>0.0</td>\n",
       "      <td>0.0</td>\n",
       "      <td>0.0</td>\n",
       "      <td>0.0</td>\n",
       "    </tr>\n",
       "    <tr>\n",
       "      <th>1</th>\n",
       "      <td>atax_kernel1</td>\n",
       "      <td>0.0</td>\n",
       "      <td>2.0</td>\n",
       "      <td>0.0</td>\n",
       "      <td>0.0</td>\n",
       "      <td>0.0</td>\n",
       "      <td>0.0</td>\n",
       "      <td>0.0</td>\n",
       "      <td>0.0</td>\n",
       "      <td>8.0</td>\n",
       "      <td>...</td>\n",
       "      <td>0.0</td>\n",
       "      <td>27.0</td>\n",
       "      <td>0.0</td>\n",
       "      <td>0.0</td>\n",
       "      <td>0.0</td>\n",
       "      <td>5.0</td>\n",
       "      <td>1.0</td>\n",
       "      <td>0.0</td>\n",
       "      <td>0.0</td>\n",
       "      <td>0.0</td>\n",
       "    </tr>\n",
       "    <tr>\n",
       "      <th>2</th>\n",
       "      <td>Convolution3D_kernel</td>\n",
       "      <td>0.0</td>\n",
       "      <td>58.0</td>\n",
       "      <td>0.0</td>\n",
       "      <td>0.0</td>\n",
       "      <td>0.0</td>\n",
       "      <td>0.0</td>\n",
       "      <td>0.0</td>\n",
       "      <td>0.0</td>\n",
       "      <td>14.0</td>\n",
       "      <td>...</td>\n",
       "      <td>16.0</td>\n",
       "      <td>222.0</td>\n",
       "      <td>0.0</td>\n",
       "      <td>0.0</td>\n",
       "      <td>0.0</td>\n",
       "      <td>7.0</td>\n",
       "      <td>0.0</td>\n",
       "      <td>0.0</td>\n",
       "      <td>0.0</td>\n",
       "      <td>0.0</td>\n",
       "    </tr>\n",
       "    <tr>\n",
       "      <th>3</th>\n",
       "      <td>bicgKernel1</td>\n",
       "      <td>0.0</td>\n",
       "      <td>2.0</td>\n",
       "      <td>0.0</td>\n",
       "      <td>0.0</td>\n",
       "      <td>0.0</td>\n",
       "      <td>0.0</td>\n",
       "      <td>0.0</td>\n",
       "      <td>0.0</td>\n",
       "      <td>8.0</td>\n",
       "      <td>...</td>\n",
       "      <td>1.0</td>\n",
       "      <td>29.0</td>\n",
       "      <td>0.0</td>\n",
       "      <td>0.0</td>\n",
       "      <td>0.0</td>\n",
       "      <td>5.0</td>\n",
       "      <td>1.0</td>\n",
       "      <td>0.0</td>\n",
       "      <td>0.0</td>\n",
       "      <td>0.0</td>\n",
       "    </tr>\n",
       "    <tr>\n",
       "      <th>4</th>\n",
       "      <td>naive_copy</td>\n",
       "      <td>0.0</td>\n",
       "      <td>2.0</td>\n",
       "      <td>0.0</td>\n",
       "      <td>0.0</td>\n",
       "      <td>0.0</td>\n",
       "      <td>0.0</td>\n",
       "      <td>0.0</td>\n",
       "      <td>0.0</td>\n",
       "      <td>0.0</td>\n",
       "      <td>...</td>\n",
       "      <td>0.0</td>\n",
       "      <td>11.0</td>\n",
       "      <td>0.0</td>\n",
       "      <td>0.0</td>\n",
       "      <td>0.0</td>\n",
       "      <td>0.0</td>\n",
       "      <td>0.0</td>\n",
       "      <td>0.0</td>\n",
       "      <td>0.0</td>\n",
       "      <td>0.0</td>\n",
       "    </tr>\n",
       "  </tbody>\n",
       "</table>\n",
       "<p>5 rows × 81 columns</p>\n",
       "</div>"
      ],
      "text/plain": [
       "                 kernel  f_0   f_1  f_2  f_3  f_4  f_5  f_6  f_7   f_8  ...   \\\n",
       "0           corr_kernel  0.0  18.0  0.0  0.0  0.0  0.0  0.0  0.0  14.0  ...    \n",
       "1          atax_kernel1  0.0   2.0  0.0  0.0  0.0  0.0  0.0  0.0   8.0  ...    \n",
       "2  Convolution3D_kernel  0.0  58.0  0.0  0.0  0.0  0.0  0.0  0.0  14.0  ...    \n",
       "3           bicgKernel1  0.0   2.0  0.0  0.0  0.0  0.0  0.0  0.0   8.0  ...    \n",
       "4            naive_copy  0.0   2.0  0.0  0.0  0.0  0.0  0.0  0.0   0.0  ...    \n",
       "\n",
       "   f_70   f_71  f_72  f_73  f_74  f_75  f_76  f_77  f_78  f_79  \n",
       "0   1.0   65.0   0.0   0.0   0.0   8.0   0.0   0.0   0.0   0.0  \n",
       "1   0.0   27.0   0.0   0.0   0.0   5.0   1.0   0.0   0.0   0.0  \n",
       "2  16.0  222.0   0.0   0.0   0.0   7.0   0.0   0.0   0.0   0.0  \n",
       "3   1.0   29.0   0.0   0.0   0.0   5.0   1.0   0.0   0.0   0.0  \n",
       "4   0.0   11.0   0.0   0.0   0.0   0.0   0.0   0.0   0.0   0.0  \n",
       "\n",
       "[5 rows x 81 columns]"
      ]
     },
     "execution_count": 10,
     "metadata": {},
     "output_type": "execute_result"
    }
   ],
   "source": [
    "feature_files = os.listdir(\"../database/features/\")\n",
    "records = []\n",
    "for feat_file in feature_files:\n",
    "    kernel = feat_file[:-5]\n",
    "    features = extract_feature_vector(feat_file)\n",
    "    record = [kernel] + features\n",
    "    records.append(record)\n",
    "\n",
    "columns = [\"f_{}\".format(i) for i in range(len(records[0])-1)]\n",
    "columns = [\"kernel\"] + columns\n",
    "df_feat = pd.DataFrame.from_records(records,columns=columns)\n",
    "df_feat.head()"
   ]
  },
  {
   "cell_type": "code",
   "execution_count": 22,
   "metadata": {},
   "outputs": [
    {
     "name": "stdout",
     "output_type": "stream",
     "text": [
      "gemm\n",
      "[0.0 5.0 0.0 0.0 0.0 0.0 0.0 0.0 9.0 2.0 0.0 0.0 1.0 0.0 0.0 3.0 0.0 0.0\n",
      " 0.0 0.0 0.0 0.0 0.0 4.0 3.0 0.0 0.0 0.0 0.0 0.0 0.0 0.0 4.0 4.0 0.0 3.0\n",
      " 0.0 0.0 1.0 0.0 0.0 0.0 0.0 0.0 0.0 0.0 2.0 0.0 0.0 0.0 0.0 0.0 0.0 0.0\n",
      " 0.0 0.0 0.0 0.0 0.0 8.0 0.0 10.0 4.0 4.0 27.0 77.0 2.0 13.0 0.0 4.0 0.0\n",
      " 41.0 0.0 0.0 0.0 5.0 1.0 0.0 0.0 0.0]\n",
      "gesummv_kernel\n",
      "[0.0 3.0 0.0 0.0 0.0 0.0 0.0 0.0 8.0 2.0 0.0 0.0 2.0 0.0 0.0 3.0 0.0 0.0\n",
      " 0.0 0.0 0.0 0.0 0.0 9.0 2.0 0.0 0.0 0.0 0.0 0.0 0.0 0.0 8.0 2.0 0.0 3.0\n",
      " 0.0 0.0 1.0 0.0 0.0 0.0 0.0 0.0 0.0 0.0 3.0 0.0 0.0 0.0 0.0 0.0 0.0 0.0\n",
      " 0.0 0.0 0.0 0.0 0.0 8.0 0.0 9.0 3.0 3.0 29.0 45.0 1.0 11.0 0.0 3.0 0.0\n",
      " 46.0 0.0 0.0 0.0 5.0 2.0 0.0 0.0 0.0]\n",
      "mm\n",
      "[0.0 4.0 0.0 0.0 0.0 0.0 0.0 0.0 5.0 2.0 0.0 0.0 1.0 0.0 0.0 1.0 0.0 0.0\n",
      " 0.0 0.0 0.0 0.0 0.0 3.0 1.0 0.0 0.0 0.0 0.0 0.0 0.0 0.0 2.0 3.0 0.0 5.0\n",
      " 0.0 0.0 1.0 0.0 0.0 0.0 0.0 0.0 0.0 0.0 1.0 0.0 0.0 0.0 0.0 0.0 0.0 0.0\n",
      " 0.0 0.0 0.0 0.0 0.0 5.0 0.0 6.0 2.0 2.0 17.0 0.0 0.0 7.0 0.0 4.0 1.0 29.0\n",
      " 0.0 0.0 0.0 3.0 1.0 0.0 0.0 0.0]\n",
      "mt\n",
      "[0.0 2.0 0.0 0.0 0.0 0.0 0.0 0.0 0.0 2.0 0.0 0.0 0.0 0.0 0.0 0.0 0.0 0.0\n",
      " 0.0 0.0 0.0 0.0 0.0 2.0 0.0 0.0 0.0 0.0 0.0 0.0 0.0 0.0 1.0 2.0 0.0 0.0\n",
      " 0.0 0.0 1.0 0.0 0.0 0.0 0.0 0.0 0.0 0.0 1.0 0.0 0.0 0.0 0.0 0.0 0.0 0.0\n",
      " 0.0 0.0 0.0 0.0 0.0 4.0 0.0 1.0 0.0 0.0 10.0 0.0 0.0 0.0 0.0 2.0 0.0 11.0\n",
      " 0.0 0.0 0.0 0.0 0.0 0.0 0.0 0.0]\n"
     ]
    }
   ],
   "source": [
    "for kernel in ['gemm','gesummv_kernel','mm','mt']:\n",
    "    print kernel\n",
    "    print df_feat[df_feat['kernel']==kernel].values[0][1:]"
   ]
  },
  {
   "cell_type": "code",
   "execution_count": 31,
   "metadata": {},
   "outputs": [
    {
     "data": {
      "text/plain": [
       "array([[ 76],\n",
       "       [109],\n",
       "       [227],\n",
       "       [249],\n",
       "       [254],\n",
       "       [260],\n",
       "       [315],\n",
       "       [324],\n",
       "       [348],\n",
       "       [370],\n",
       "       [394],\n",
       "       [424],\n",
       "       [476],\n",
       "       [495],\n",
       "       [522],\n",
       "       [532],\n",
       "       [547],\n",
       "       [554],\n",
       "       [587],\n",
       "       [591],\n",
       "       [639],\n",
       "       [648],\n",
       "       [667],\n",
       "       [717],\n",
       "       [722],\n",
       "       [758],\n",
       "       [769],\n",
       "       [781]])"
      ]
     },
     "execution_count": 31,
     "metadata": {},
     "output_type": "execute_result"
    }
   ],
   "source": [
    "np.argwhere(np.array(df['kernel']=='gemm'))"
   ]
  },
  {
   "cell_type": "code",
   "execution_count": 11,
   "metadata": {},
   "outputs": [
    {
     "data": {
      "text/html": [
       "<div>\n",
       "<style scoped>\n",
       "    .dataframe tbody tr th:only-of-type {\n",
       "        vertical-align: middle;\n",
       "    }\n",
       "\n",
       "    .dataframe tbody tr th {\n",
       "        vertical-align: top;\n",
       "    }\n",
       "\n",
       "    .dataframe thead th {\n",
       "        text-align: right;\n",
       "    }\n",
       "</style>\n",
       "<table border=\"1\" class=\"dataframe\">\n",
       "  <thead>\n",
       "    <tr style=\"text-align: right;\">\n",
       "      <th></th>\n",
       "      <th>d2h_bytes</th>\n",
       "      <th>d2h_time_cpu</th>\n",
       "      <th>d2h_time_gpu</th>\n",
       "      <th>exec_time_cpu</th>\n",
       "      <th>exec_time_gpu</th>\n",
       "      <th>global_work_size</th>\n",
       "      <th>h2d_bytes</th>\n",
       "      <th>h2d_time_cpu</th>\n",
       "      <th>h2d_time_gpu</th>\n",
       "      <th>local_work_size</th>\n",
       "      <th>...</th>\n",
       "      <th>f_70</th>\n",
       "      <th>f_71</th>\n",
       "      <th>f_72</th>\n",
       "      <th>f_73</th>\n",
       "      <th>f_74</th>\n",
       "      <th>f_75</th>\n",
       "      <th>f_76</th>\n",
       "      <th>f_77</th>\n",
       "      <th>f_78</th>\n",
       "      <th>f_79</th>\n",
       "    </tr>\n",
       "    <tr>\n",
       "      <th>kernel</th>\n",
       "      <th></th>\n",
       "      <th></th>\n",
       "      <th></th>\n",
       "      <th></th>\n",
       "      <th></th>\n",
       "      <th></th>\n",
       "      <th></th>\n",
       "      <th></th>\n",
       "      <th></th>\n",
       "      <th></th>\n",
       "      <th></th>\n",
       "      <th></th>\n",
       "      <th></th>\n",
       "      <th></th>\n",
       "      <th></th>\n",
       "      <th></th>\n",
       "      <th></th>\n",
       "      <th></th>\n",
       "      <th></th>\n",
       "      <th></th>\n",
       "      <th></th>\n",
       "    </tr>\n",
       "  </thead>\n",
       "  <tbody>\n",
       "    <tr>\n",
       "      <th>Convolution2D_kernel</th>\n",
       "      <td>1048576.0</td>\n",
       "      <td>0.001908</td>\n",
       "      <td>0.001726</td>\n",
       "      <td>0.002781</td>\n",
       "      <td>0.000143</td>\n",
       "      <td>1048576</td>\n",
       "      <td>1048576.0</td>\n",
       "      <td>0.001880</td>\n",
       "      <td>0.000808</td>\n",
       "      <td>1024</td>\n",
       "      <td>...</td>\n",
       "      <td>9.0</td>\n",
       "      <td>84.0</td>\n",
       "      <td>0.0</td>\n",
       "      <td>0.0</td>\n",
       "      <td>0.0</td>\n",
       "      <td>4.0</td>\n",
       "      <td>0.0</td>\n",
       "      <td>0.0</td>\n",
       "      <td>0.0</td>\n",
       "      <td>0.0</td>\n",
       "    </tr>\n",
       "    <tr>\n",
       "      <th>Convolution2D_kernel</th>\n",
       "      <td>4096.0</td>\n",
       "      <td>0.000004</td>\n",
       "      <td>0.000005</td>\n",
       "      <td>0.000070</td>\n",
       "      <td>0.000035</td>\n",
       "      <td>4096</td>\n",
       "      <td>4096.0</td>\n",
       "      <td>0.000035</td>\n",
       "      <td>0.000004</td>\n",
       "      <td>256</td>\n",
       "      <td>...</td>\n",
       "      <td>9.0</td>\n",
       "      <td>84.0</td>\n",
       "      <td>0.0</td>\n",
       "      <td>0.0</td>\n",
       "      <td>0.0</td>\n",
       "      <td>4.0</td>\n",
       "      <td>0.0</td>\n",
       "      <td>0.0</td>\n",
       "      <td>0.0</td>\n",
       "      <td>0.0</td>\n",
       "    </tr>\n",
       "    <tr>\n",
       "      <th>Convolution2D_kernel</th>\n",
       "      <td>262144.0</td>\n",
       "      <td>0.000442</td>\n",
       "      <td>0.000164</td>\n",
       "      <td>0.000239</td>\n",
       "      <td>0.000077</td>\n",
       "      <td>262144</td>\n",
       "      <td>262144.0</td>\n",
       "      <td>0.000561</td>\n",
       "      <td>0.000173</td>\n",
       "      <td>64</td>\n",
       "      <td>...</td>\n",
       "      <td>9.0</td>\n",
       "      <td>84.0</td>\n",
       "      <td>0.0</td>\n",
       "      <td>0.0</td>\n",
       "      <td>0.0</td>\n",
       "      <td>4.0</td>\n",
       "      <td>0.0</td>\n",
       "      <td>0.0</td>\n",
       "      <td>0.0</td>\n",
       "      <td>0.0</td>\n",
       "    </tr>\n",
       "    <tr>\n",
       "      <th>Convolution2D_kernel</th>\n",
       "      <td>262144.0</td>\n",
       "      <td>0.000520</td>\n",
       "      <td>0.000168</td>\n",
       "      <td>0.000274</td>\n",
       "      <td>0.000050</td>\n",
       "      <td>262144</td>\n",
       "      <td>262144.0</td>\n",
       "      <td>0.000558</td>\n",
       "      <td>0.000173</td>\n",
       "      <td>256</td>\n",
       "      <td>...</td>\n",
       "      <td>9.0</td>\n",
       "      <td>84.0</td>\n",
       "      <td>0.0</td>\n",
       "      <td>0.0</td>\n",
       "      <td>0.0</td>\n",
       "      <td>4.0</td>\n",
       "      <td>0.0</td>\n",
       "      <td>0.0</td>\n",
       "      <td>0.0</td>\n",
       "      <td>0.0</td>\n",
       "    </tr>\n",
       "    <tr>\n",
       "      <th>Convolution2D_kernel</th>\n",
       "      <td>4096.0</td>\n",
       "      <td>0.000004</td>\n",
       "      <td>0.000005</td>\n",
       "      <td>0.000153</td>\n",
       "      <td>0.000034</td>\n",
       "      <td>4096</td>\n",
       "      <td>4096.0</td>\n",
       "      <td>0.000033</td>\n",
       "      <td>0.000004</td>\n",
       "      <td>16</td>\n",
       "      <td>...</td>\n",
       "      <td>9.0</td>\n",
       "      <td>84.0</td>\n",
       "      <td>0.0</td>\n",
       "      <td>0.0</td>\n",
       "      <td>0.0</td>\n",
       "      <td>4.0</td>\n",
       "      <td>0.0</td>\n",
       "      <td>0.0</td>\n",
       "      <td>0.0</td>\n",
       "      <td>0.0</td>\n",
       "    </tr>\n",
       "  </tbody>\n",
       "</table>\n",
       "<p>5 rows × 93 columns</p>\n",
       "</div>"
      ],
      "text/plain": [
       "                      d2h_bytes  d2h_time_cpu  d2h_time_gpu  exec_time_cpu  \\\n",
       "kernel                                                                       \n",
       "Convolution2D_kernel  1048576.0      0.001908      0.001726       0.002781   \n",
       "Convolution2D_kernel     4096.0      0.000004      0.000005       0.000070   \n",
       "Convolution2D_kernel   262144.0      0.000442      0.000164       0.000239   \n",
       "Convolution2D_kernel   262144.0      0.000520      0.000168       0.000274   \n",
       "Convolution2D_kernel     4096.0      0.000004      0.000005       0.000153   \n",
       "\n",
       "                      exec_time_gpu  global_work_size  h2d_bytes  \\\n",
       "kernel                                                             \n",
       "Convolution2D_kernel       0.000143           1048576  1048576.0   \n",
       "Convolution2D_kernel       0.000035              4096     4096.0   \n",
       "Convolution2D_kernel       0.000077            262144   262144.0   \n",
       "Convolution2D_kernel       0.000050            262144   262144.0   \n",
       "Convolution2D_kernel       0.000034              4096     4096.0   \n",
       "\n",
       "                      h2d_time_cpu  h2d_time_gpu  local_work_size  ...   f_70  \\\n",
       "kernel                                                             ...          \n",
       "Convolution2D_kernel      0.001880      0.000808             1024  ...    9.0   \n",
       "Convolution2D_kernel      0.000035      0.000004              256  ...    9.0   \n",
       "Convolution2D_kernel      0.000561      0.000173               64  ...    9.0   \n",
       "Convolution2D_kernel      0.000558      0.000173              256  ...    9.0   \n",
       "Convolution2D_kernel      0.000033      0.000004               16  ...    9.0   \n",
       "\n",
       "                      f_71  f_72  f_73  f_74  f_75  f_76  f_77  f_78  f_79  \n",
       "kernel                                                                      \n",
       "Convolution2D_kernel  84.0   0.0   0.0   0.0   4.0   0.0   0.0   0.0   0.0  \n",
       "Convolution2D_kernel  84.0   0.0   0.0   0.0   4.0   0.0   0.0   0.0   0.0  \n",
       "Convolution2D_kernel  84.0   0.0   0.0   0.0   4.0   0.0   0.0   0.0   0.0  \n",
       "Convolution2D_kernel  84.0   0.0   0.0   0.0   4.0   0.0   0.0   0.0   0.0  \n",
       "Convolution2D_kernel  84.0   0.0   0.0   0.0   4.0   0.0   0.0   0.0   0.0  \n",
       "\n",
       "[5 rows x 93 columns]"
      ]
     },
     "execution_count": 11,
     "metadata": {},
     "output_type": "execute_result"
    }
   ],
   "source": [
    "df2 = df.set_index('kernel').join(df_feat.set_index('kernel'))\n",
    "# df2 = df.groupby(['kernel','device','global_work_size','local_work_size']).mean()\n",
    "# df2 = df2.drop(columns=['run'])\n",
    "df2.to_csv('profiled_data.csv')\n",
    "df2.head()"
   ]
  },
  {
   "cell_type": "code",
   "execution_count": 13,
   "metadata": {},
   "outputs": [],
   "source": [
    "# from math import floor\n",
    "# for kernel in np.unique(df[df['work_dim']==3]['kernel']):\n",
    "#    print kernel.replace(\"_\",\"\\\\_\"),\" & \",floor(np.min(df[df['kernel']==str(kernel)]['d2h_bytes'])/1024),\"-\",floor(np.max(df[df['kernel']==str(kernel)]\\\n",
    "#                                                                                         ['d2h_bytes'])/1024),\" & \",\\\n",
    "# floor(np.min(df[df['kernel']==str(kernel)]['h2d_bytes'])/1024),\"-\",floor(np.max(df[df['kernel']==str(kernel)]['h2d_bytes'])/1024),\" \\\\\\\\\","
   ]
  },
  {
   "cell_type": "code",
   "execution_count": 14,
   "metadata": {},
   "outputs": [],
   "source": [
    "# c = 0\n",
    "# for kernel in np.unique(df[df['work_dim']==3]['kernel']):\n",
    "#    print \"& \",kernel.replace(\"_\",\"\\\\_\"),\" & \",\"NVIDIA\",\" \\\\\\\\\",\n",
    "#    c+=1\n",
    "    \n",
    "# print \"\\n\\n\",c"
   ]
  },
  {
   "cell_type": "code",
   "execution_count": 15,
   "metadata": {},
   "outputs": [
    {
     "data": {
      "text/html": [
       "<div>\n",
       "<style scoped>\n",
       "    .dataframe tbody tr th:only-of-type {\n",
       "        vertical-align: middle;\n",
       "    }\n",
       "\n",
       "    .dataframe tbody tr th {\n",
       "        vertical-align: top;\n",
       "    }\n",
       "\n",
       "    .dataframe thead th {\n",
       "        text-align: right;\n",
       "    }\n",
       "</style>\n",
       "<table border=\"1\" class=\"dataframe\">\n",
       "  <thead>\n",
       "    <tr style=\"text-align: right;\">\n",
       "      <th></th>\n",
       "      <th>d2h_bytes</th>\n",
       "      <th>global_work_size</th>\n",
       "      <th>h2d_bytes</th>\n",
       "      <th>local_work_size</th>\n",
       "      <th>work_dim</th>\n",
       "      <th>f_0</th>\n",
       "      <th>f_1</th>\n",
       "      <th>f_2</th>\n",
       "      <th>f_3</th>\n",
       "      <th>f_4</th>\n",
       "      <th>...</th>\n",
       "      <th>f_70</th>\n",
       "      <th>f_71</th>\n",
       "      <th>f_72</th>\n",
       "      <th>f_73</th>\n",
       "      <th>f_74</th>\n",
       "      <th>f_75</th>\n",
       "      <th>f_76</th>\n",
       "      <th>f_77</th>\n",
       "      <th>f_78</th>\n",
       "      <th>f_79</th>\n",
       "    </tr>\n",
       "    <tr>\n",
       "      <th>kernel</th>\n",
       "      <th></th>\n",
       "      <th></th>\n",
       "      <th></th>\n",
       "      <th></th>\n",
       "      <th></th>\n",
       "      <th></th>\n",
       "      <th></th>\n",
       "      <th></th>\n",
       "      <th></th>\n",
       "      <th></th>\n",
       "      <th></th>\n",
       "      <th></th>\n",
       "      <th></th>\n",
       "      <th></th>\n",
       "      <th></th>\n",
       "      <th></th>\n",
       "      <th></th>\n",
       "      <th></th>\n",
       "      <th></th>\n",
       "      <th></th>\n",
       "      <th></th>\n",
       "    </tr>\n",
       "  </thead>\n",
       "  <tbody>\n",
       "    <tr>\n",
       "      <th>Convolution2D_kernel</th>\n",
       "      <td>1048576.0</td>\n",
       "      <td>1048576</td>\n",
       "      <td>1048576.0</td>\n",
       "      <td>1024</td>\n",
       "      <td>2.0</td>\n",
       "      <td>0.0</td>\n",
       "      <td>22.0</td>\n",
       "      <td>0.0</td>\n",
       "      <td>0.0</td>\n",
       "      <td>0.0</td>\n",
       "      <td>...</td>\n",
       "      <td>9.0</td>\n",
       "      <td>84.0</td>\n",
       "      <td>0.0</td>\n",
       "      <td>0.0</td>\n",
       "      <td>0.0</td>\n",
       "      <td>4.0</td>\n",
       "      <td>0.0</td>\n",
       "      <td>0.0</td>\n",
       "      <td>0.0</td>\n",
       "      <td>0.0</td>\n",
       "    </tr>\n",
       "    <tr>\n",
       "      <th>Convolution2D_kernel</th>\n",
       "      <td>4096.0</td>\n",
       "      <td>4096</td>\n",
       "      <td>4096.0</td>\n",
       "      <td>256</td>\n",
       "      <td>2.0</td>\n",
       "      <td>0.0</td>\n",
       "      <td>22.0</td>\n",
       "      <td>0.0</td>\n",
       "      <td>0.0</td>\n",
       "      <td>0.0</td>\n",
       "      <td>...</td>\n",
       "      <td>9.0</td>\n",
       "      <td>84.0</td>\n",
       "      <td>0.0</td>\n",
       "      <td>0.0</td>\n",
       "      <td>0.0</td>\n",
       "      <td>4.0</td>\n",
       "      <td>0.0</td>\n",
       "      <td>0.0</td>\n",
       "      <td>0.0</td>\n",
       "      <td>0.0</td>\n",
       "    </tr>\n",
       "    <tr>\n",
       "      <th>Convolution2D_kernel</th>\n",
       "      <td>262144.0</td>\n",
       "      <td>262144</td>\n",
       "      <td>262144.0</td>\n",
       "      <td>64</td>\n",
       "      <td>2.0</td>\n",
       "      <td>0.0</td>\n",
       "      <td>22.0</td>\n",
       "      <td>0.0</td>\n",
       "      <td>0.0</td>\n",
       "      <td>0.0</td>\n",
       "      <td>...</td>\n",
       "      <td>9.0</td>\n",
       "      <td>84.0</td>\n",
       "      <td>0.0</td>\n",
       "      <td>0.0</td>\n",
       "      <td>0.0</td>\n",
       "      <td>4.0</td>\n",
       "      <td>0.0</td>\n",
       "      <td>0.0</td>\n",
       "      <td>0.0</td>\n",
       "      <td>0.0</td>\n",
       "    </tr>\n",
       "    <tr>\n",
       "      <th>Convolution2D_kernel</th>\n",
       "      <td>262144.0</td>\n",
       "      <td>262144</td>\n",
       "      <td>262144.0</td>\n",
       "      <td>256</td>\n",
       "      <td>2.0</td>\n",
       "      <td>0.0</td>\n",
       "      <td>22.0</td>\n",
       "      <td>0.0</td>\n",
       "      <td>0.0</td>\n",
       "      <td>0.0</td>\n",
       "      <td>...</td>\n",
       "      <td>9.0</td>\n",
       "      <td>84.0</td>\n",
       "      <td>0.0</td>\n",
       "      <td>0.0</td>\n",
       "      <td>0.0</td>\n",
       "      <td>4.0</td>\n",
       "      <td>0.0</td>\n",
       "      <td>0.0</td>\n",
       "      <td>0.0</td>\n",
       "      <td>0.0</td>\n",
       "    </tr>\n",
       "    <tr>\n",
       "      <th>Convolution2D_kernel</th>\n",
       "      <td>4096.0</td>\n",
       "      <td>4096</td>\n",
       "      <td>4096.0</td>\n",
       "      <td>16</td>\n",
       "      <td>2.0</td>\n",
       "      <td>0.0</td>\n",
       "      <td>22.0</td>\n",
       "      <td>0.0</td>\n",
       "      <td>0.0</td>\n",
       "      <td>0.0</td>\n",
       "      <td>...</td>\n",
       "      <td>9.0</td>\n",
       "      <td>84.0</td>\n",
       "      <td>0.0</td>\n",
       "      <td>0.0</td>\n",
       "      <td>0.0</td>\n",
       "      <td>4.0</td>\n",
       "      <td>0.0</td>\n",
       "      <td>0.0</td>\n",
       "      <td>0.0</td>\n",
       "      <td>0.0</td>\n",
       "    </tr>\n",
       "  </tbody>\n",
       "</table>\n",
       "<p>5 rows × 85 columns</p>\n",
       "</div>"
      ],
      "text/plain": [
       "                      d2h_bytes  global_work_size  h2d_bytes  local_work_size  \\\n",
       "kernel                                                                          \n",
       "Convolution2D_kernel  1048576.0           1048576  1048576.0             1024   \n",
       "Convolution2D_kernel     4096.0              4096     4096.0              256   \n",
       "Convolution2D_kernel   262144.0            262144   262144.0               64   \n",
       "Convolution2D_kernel   262144.0            262144   262144.0              256   \n",
       "Convolution2D_kernel     4096.0              4096     4096.0               16   \n",
       "\n",
       "                      work_dim  f_0   f_1  f_2  f_3  f_4  ...   f_70  f_71  \\\n",
       "kernel                                                    ...                \n",
       "Convolution2D_kernel       2.0  0.0  22.0  0.0  0.0  0.0  ...    9.0  84.0   \n",
       "Convolution2D_kernel       2.0  0.0  22.0  0.0  0.0  0.0  ...    9.0  84.0   \n",
       "Convolution2D_kernel       2.0  0.0  22.0  0.0  0.0  0.0  ...    9.0  84.0   \n",
       "Convolution2D_kernel       2.0  0.0  22.0  0.0  0.0  0.0  ...    9.0  84.0   \n",
       "Convolution2D_kernel       2.0  0.0  22.0  0.0  0.0  0.0  ...    9.0  84.0   \n",
       "\n",
       "                      f_72  f_73  f_74  f_75  f_76  f_77  f_78  f_79  \n",
       "kernel                                                                \n",
       "Convolution2D_kernel   0.0   0.0   0.0   4.0   0.0   0.0   0.0   0.0  \n",
       "Convolution2D_kernel   0.0   0.0   0.0   4.0   0.0   0.0   0.0   0.0  \n",
       "Convolution2D_kernel   0.0   0.0   0.0   4.0   0.0   0.0   0.0   0.0  \n",
       "Convolution2D_kernel   0.0   0.0   0.0   4.0   0.0   0.0   0.0   0.0  \n",
       "Convolution2D_kernel   0.0   0.0   0.0   4.0   0.0   0.0   0.0   0.0  \n",
       "\n",
       "[5 rows x 85 columns]"
      ]
     },
     "execution_count": 15,
     "metadata": {},
     "output_type": "execute_result"
    }
   ],
   "source": [
    "y_df = df2[['d2h_time_cpu','h2d_time_cpu','exec_time_cpu','total_time_cpu',\\\n",
    "            'd2h_time_gpu','h2d_time_gpu','exec_time_gpu','total_time_gpu']]\n",
    "x_df = df2.drop(columns =['d2h_time_cpu','h2d_time_cpu','exec_time_cpu','total_time_cpu',\\\n",
    "                          'd2h_time_gpu','h2d_time_gpu','exec_time_gpu','total_time_gpu'] )\n",
    "x_df.head()"
   ]
  },
  {
   "cell_type": "code",
   "execution_count": 49,
   "metadata": {},
   "outputs": [],
   "source": [
    "transformer_kernels = ['coalesced_gemm','coalesced_transpose','softmax']\n",
    "x_transformer = []\n",
    "N=1024\n",
    "W=1024\n",
    "Q=1024\n",
    "\n",
    "\n",
    "\n",
    "for kernel in transformer_kernels:\n",
    "    feature = list(df_feat[df_feat['kernel']==kernel].values[0,1:])\n",
    "    with open(\"../dag_info/dag_3_gemm/info/{}.json\".format(kernel)) as f:\n",
    "            source_info = json.load(f)\n",
    "\n",
    "    h2d = []\n",
    "    d2h = []\n",
    "    workdim = source_info[\"workDimension\"]\n",
    "\n",
    "    for key in [\"inputBuffers\",'ioBuffers']:\n",
    "        if key in source_info:\n",
    "            for buff in source_info[key]:\n",
    "                h2d.append(buff['size'])\n",
    "\n",
    "    for key in [\"outputBuffers\",'ioBuffers']:\n",
    "        if key in source_info:\n",
    "            for buff in source_info[key]:\n",
    "                d2h.append(buff['size'])\n",
    "    \n",
    "    if kernel == 'coalesced_gemm':\n",
    "        for m1,n1,p1 in [(N,Q,W),(N,N,Q),(N,Q,N),(N,W,Q)]:\n",
    "            h2d_bytes = sum([eval(buff_size) for buff_size in h2d])\n",
    "            d2h_bytes = sum([eval(buff_size) for buff_size in d2h])\n",
    "            x_transformer.append([kernel,d2h_bytes,m1*n1,h2d_bytes,32**(workdim),workdim]+feature)\n",
    "\n",
    "\n",
    "    elif kernel == 'coalesced_transpose':\n",
    "        for m1,n1 in [(N,Q)]:\n",
    "            h2d_bytes = sum([eval(buff_size) for buff_size in h2d])\n",
    "            d2h_bytes = sum([eval(buff_size) for buff_size in d2h])\n",
    "            x_transformer.append([kernel,d2h_bytes,m1*n1,h2d_bytes,32**(workdim),workdim]+feature)\n",
    "    \n",
    "    elif kernel == 'softmax':\n",
    "        for r1,c1 in [(N,N)]:\n",
    "            h2d_bytes = sum([eval(buff_size) for buff_size in h2d])\n",
    "            d2h_bytes = sum([eval(buff_size) for buff_size in d2h])\n",
    "            x_transformer.append([kernel,d2h_bytes,m1*n1,h2d_bytes,32**(workdim),workdim]+feature)\n",
    "            \n",
    "x_transformer = np.array(x_transformer)\n",
    "#x_transformer\n",
    "    "
   ]
  },
  {
   "cell_type": "code",
   "execution_count": 50,
   "metadata": {},
   "outputs": [
    {
     "data": {
      "text/plain": [
       "((815, 85), (815, 8))"
      ]
     },
     "execution_count": 50,
     "metadata": {},
     "output_type": "execute_result"
    }
   ],
   "source": [
    "x = x_df.values\n",
    "y = y_df.values\n",
    "x.shape,y.shape"
   ]
  },
  {
   "cell_type": "code",
   "execution_count": 51,
   "metadata": {},
   "outputs": [
    {
     "data": {
      "text/plain": [
       "((652, 85), (163, 85), (652, 8), (163, 8))"
      ]
     },
     "execution_count": 51,
     "metadata": {},
     "output_type": "execute_result"
    }
   ],
   "source": [
    "x_train,x_test,y_train,y_test = train_test_split(x,y,test_size=0.2,random_state=43)\n",
    "x_train.shape,x_test.shape,y_train.shape,y_test.shape"
   ]
  },
  {
   "cell_type": "code",
   "execution_count": 52,
   "metadata": {},
   "outputs": [],
   "source": [
    "# y_df = df2[['d2h_time_cpu','h2d_time_cpu','exec_time_cpu','total_time_cpu',\\\n",
    "#             'd2h_time_gpu','h2d_time_gpu','exec_time_gpu','total_time_gpu']]\n",
    "\n",
    "var1 = 7\n",
    "var2 = 3\n",
    "\n",
    "y_speedups_test = y_test[:,var1]/y_test[:,var2]   #total_time_cpu/total_time_gpu\n",
    "y_speedups_train = y_train[:,var1]/y_train[:,var2]    #total_time_cpu/total_time_gpu\n"
   ]
  },
  {
   "cell_type": "code",
   "execution_count": 136,
   "metadata": {},
   "outputs": [],
   "source": [
    "\n",
    "class MLmodule(object):\n",
    "    def __init__(self,num_bins):\n",
    "        self.models = [XGBClassifier(n_estimators=100,max_depth=10) for _ in range(3)]\n",
    "        self.num_bins = num_bins\n",
    "        self.bins = []\n",
    "        \n",
    "    def bin_hist(self,y_speedups_train,y_speedups_test,N_BINS,title=None):\n",
    "        plt.figure()\n",
    "        if title:\n",
    "            plt.title(title)\n",
    "        plt.xlabel(\"Ratio\")\n",
    "        plt.ylabel(\"Number of Items\")\n",
    "        n,bins,_ = plt.hist(np.concatenate([y_speedups_train,y_speedups_test]),bins=N_BINS)\n",
    "        bin_size = 0\n",
    "        for i in range(bins.shape[0]-1):\n",
    "            #print \"Bin [{} - {}] => Num elements {}\".format(bins[i],bins[i+1],n[i])\n",
    "            bin_size += bins[i+1]-bins[i]\n",
    "\n",
    "        bin_size /= (bins.shape[0]-1)\n",
    "\n",
    "        y_sp_train_class = []\n",
    "        y_sp_test_class = []\n",
    "\n",
    "\n",
    "        for spdup in y_speedups_train:\n",
    "            found=False\n",
    "            for i in range(bins.shape[0]-1):\n",
    "                if spdup >= bins[i]-1e-4 and spdup <= bins[i+1]+1e-4:\n",
    "                    y_sp_train_class.append(i)\n",
    "                    found=True\n",
    "                    break\n",
    "            assert found,spdup\n",
    "\n",
    "        for spdup in y_speedups_test:\n",
    "            found=False\n",
    "            for i in range(bins.shape[0]-1):\n",
    "                if spdup >= bins[i]-1e-4 and spdup <= bins[i+1]+1e-4:\n",
    "                    y_sp_test_class.append(i)\n",
    "                    found=True\n",
    "                    break\n",
    "            assert found,spdup\n",
    "\n",
    "        y_sp_train_class = np.array(y_sp_train_class)\n",
    "        y_sp_test_class = np.array(y_sp_test_class)\n",
    "        \n",
    "        return y_sp_train_class,y_sp_test_class,bins\n",
    "    \n",
    "    def train(self,x_train,y_train,x_test,y_test):\n",
    "        # y is in this format - [['d2h_time_cpu','h2d_time_cpu','exec_time_cpu','total_time_cpu',\\\n",
    "        #                       'd2h_time_gpu','h2d_time_gpu','exec_time_gpu','total_time_gpu']]\n",
    "        \n",
    "        ##1 tcpu/tgpu\n",
    "        spdups_train = y_train[:,3]/y_train[:,7]\n",
    "        spdups_test = y_test[:,3]/y_test[:,7]\n",
    "        y_sp_train_class,y_sp_test_class,bins = self.bin_hist(spdups_train,spdups_test,self.num_bins[0],\\\n",
    "                                                              \"Tcpu/TGpu Histogram\")\n",
    "        self.bins.append(bins)\n",
    "        model = self.models[0]\n",
    "        model.fit(x_train,y_sp_train_class)\n",
    "        y_pred = model.predict(x_test)\n",
    "        \n",
    "        time_preds = np.array([0.5*(bins[y_pred[i]+1]+bins[y_pred[i]])*y_test[i,7] for i in range(len(y_pred))])\n",
    "        time_act = y_test[:,3]\n",
    "        print \"Mean relative binning error - \", 100*np.mean(np.abs(y_pred-y_sp_test_class)/(y_sp_test_class+1))\n",
    "        print \"% error in time pred (tcpu/tgpu) - \",100*np.mean(np.abs(time_preds-time_act)/time_act)\n",
    "\n",
    "        \n",
    "        ##2 td2h/tgpu\n",
    "        spdups_train = y_train[:,4]/y_train[:,7]\n",
    "        spdups_test = y_test[:,4]/y_test[:,7]\n",
    "        y_sp_train_class,y_sp_test_class,bins = self.bin_hist(spdups_train,spdups_test,self.num_bins[1],\\\n",
    "                                                              \"Td2h/TGpu Histogram\")\n",
    "        self.bins.append(bins)\n",
    "        model = self.models[1]\n",
    "        model.fit(x_train,y_sp_train_class)\n",
    "        y_pred = model.predict(x_test)\n",
    "        \n",
    "        time_preds = np.array([0.5*(bins[y_pred[i]+1]+bins[y_pred[i]])*y_test[i,7] for i in range(len(y_pred))])\n",
    "        time_act = y_test[:,4]\n",
    "        print \"Mean relative binning error - \", 100*np.mean(np.abs(y_pred-y_sp_test_class)/(y_sp_test_class+1))\n",
    "        print \"% error in time pred (td2h/tgpu) - \",100*np.mean(np.abs(time_preds-time_act)/time_act)\n",
    "\n",
    "        \n",
    "        ##3 th2d/tgpu\n",
    "        spdups_train = y_train[:,5]/y_train[:,7]\n",
    "        spdups_test = y_test[:,5]/y_test[:,7]\n",
    "        y_sp_train_class,y_sp_test_class,bins = self.bin_hist(spdups_train,spdups_test,self.num_bins[2],\\\n",
    "                                                              \"Th2d/TGpu Histogram\")\n",
    "        self.bins.append(bins)\n",
    "        model = self.models[2]\n",
    "        model.fit(x_train,y_sp_train_class)\n",
    "        y_pred = model.predict(x_test)\n",
    "        \n",
    "        time_preds = np.array([0.5*(bins[y_pred[i]+1]+bins[y_pred[i]])*y_test[i,7] for i in range(len(y_pred))])\n",
    "        time_act = y_test[:,5]\n",
    "        print \"Mean relative binning error - \", 100*np.mean(np.abs(y_pred-y_sp_test_class)/(y_sp_test_class+1))\n",
    "        print \"% error in time pred (th2d/tgpu) - \",100*np.mean(np.abs(time_preds-time_act)/time_act)\n",
    "        \n",
    "    def predict(self,x):\n",
    "        speedup = self.model[0].predict(x)\n",
    "        pass\n",
    "\n",
    "        "
   ]
  },
  {
   "cell_type": "code",
   "execution_count": 138,
   "metadata": {},
   "outputs": [
    {
     "name": "stderr",
     "output_type": "stream",
     "text": [
      "/home/anirban/Tools/python/lib/python2.7/site-packages/sklearn/preprocessing/label.py:151: DeprecationWarning: The truth value of an empty array is ambiguous. Returning False, but in future this will result in an error. Use `array.size > 0` to check that an array is not empty.\n",
      "  if diff:\n"
     ]
    },
    {
     "name": "stdout",
     "output_type": "stream",
     "text": [
      "Mean relative binning error -  9.202453987730062\n",
      "% error in time pred (tcpu/tgpu) -  23.628291611972053\n"
     ]
    },
    {
     "name": "stderr",
     "output_type": "stream",
     "text": [
      "/home/anirban/Tools/python/lib/python2.7/site-packages/sklearn/preprocessing/label.py:151: DeprecationWarning: The truth value of an empty array is ambiguous. Returning False, but in future this will result in an error. Use `array.size > 0` to check that an array is not empty.\n",
      "  if diff:\n"
     ]
    },
    {
     "name": "stdout",
     "output_type": "stream",
     "text": [
      "Mean relative binning error -  1.8404907975460123\n",
      "% error in time pred (td2h/tgpu) -  24.12539232749004\n"
     ]
    },
    {
     "name": "stderr",
     "output_type": "stream",
     "text": [
      "/home/anirban/Tools/python/lib/python2.7/site-packages/sklearn/preprocessing/label.py:151: DeprecationWarning: The truth value of an empty array is ambiguous. Returning False, but in future this will result in an error. Use `array.size > 0` to check that an array is not empty.\n",
      "  if diff:\n"
     ]
    },
    {
     "name": "stdout",
     "output_type": "stream",
     "text": [
      "Mean relative binning error -  10.429447852760736\n",
      "% error in time pred (th2d/tgpu) -  32.89817650213915\n"
     ]
    },
    {
     "data": {
      "image/png": "[encoded data removed]",
      "text/plain": [
       "<matplotlib.figure.Figure at 0x2b0fabea8810>"
      ]
     },
     "metadata": {
      "needs_background": "light"
     },
     "output_type": "display_data"
    },
    {
     "data": {
      "image/png": "[encoded data removed]",
      "text/plain": [
       "<matplotlib.figure.Figure at 0x2b0fab1e3710>"
      ]
     },
     "metadata": {
      "needs_background": "light"
     },
     "output_type": "display_data"
    },
    {
     "data": {
      "image/png": "[encoded data removed]",
      "text/plain": [
       "<matplotlib.figure.Figure at 0x2b0faacfcd90>"
      ]
     },
     "metadata": {
      "needs_background": "light"
     },
     "output_type": "display_data"
    }
   ],
   "source": [
    "module = MLmodule(num_bins=[1000,1000,1000])\n",
    "module.train(x_train,y_train,x_test,y_test)"
   ]
  },
  {
   "cell_type": "code",
   "execution_count": 69,
   "metadata": {},
   "outputs": [
    {
     "data": {
      "text/plain": [
       "LinearRegression(copy_X=True, fit_intercept=True, n_jobs=1, normalize=False)"
      ]
     },
     "execution_count": 69,
     "metadata": {},
     "output_type": "execute_result"
    },
    {
     "data": {
      "image/png": "[encoded data removed]",
      "text/plain": [
       "<matplotlib.figure.Figure at 0x2b0fabba7b10>"
      ]
     },
     "metadata": {
      "needs_background": "light"
     },
     "output_type": "display_data"
    },
    {
     "data": {
      "image/png": "[encoded data removed]",
      "text/plain": [
       "<matplotlib.figure.Figure at 0x2b0faf8b2290>"
      ]
     },
     "metadata": {
      "needs_background": "light"
     },
     "output_type": "display_data"
    }
   ],
   "source": [
    "from sklearn.linear_model import LinearRegression as lrg\n",
    "d2h_model = lrg()\n",
    "h2d_model = lrg()\n",
    "\n",
    "data_transfer_df = df2[[\"d2h_bytes\",\"h2d_bytes\",\"d2h_time_gpu\",\"h2d_time_gpu\"]]\n",
    "\n",
    "data_transfer_df = data_transfer_df.astype({'d2h_bytes': 'int32','h2d_bytes': 'int32'})\n",
    "d2h_df = data_transfer_df[[\"d2h_bytes\",\"d2h_time_gpu\"]].groupby('d2h_bytes')\n",
    "d2h_data = []\n",
    "for item in d2h_df:\n",
    "    d2h_data.append([item[0],item[1][\"d2h_time_gpu\"].mean()])\n",
    "d2h_data = np.array(d2h_data)\n",
    "\n",
    "\n",
    "h2d_df = data_transfer_df[[\"h2d_bytes\",\"h2d_time_gpu\"]].groupby('h2d_bytes')\n",
    "h2d_data = []\n",
    "for item in h2d_df:\n",
    "    h2d_data.append([item[0],item[1][\"h2d_time_gpu\"].mean()])\n",
    "h2d_data = np.array(h2d_data)\n",
    "\n",
    "plt.figure()\n",
    "plt.title(\"Device to Host\")\n",
    "plt.xlabel(\"Data in bytes\")\n",
    "plt.ylabel(\"Time in seconds\")\n",
    "plt.plot(d2h_data[:,0],d2h_data[:,1])\n",
    "d2h_model.fit(d2h_data[:,0].reshape([-1,1]).astype(np.float),d2h_data[:,1].astype(np.float))\n",
    "\n",
    "\n",
    "plt.figure()\n",
    "plt.title(\"Host to Device\")\n",
    "plt.xlabel(\"Data in bytes\")\n",
    "plt.ylabel(\"Time in seconds\")\n",
    "plt.plot(h2d_data[:,0],h2d_data[:,1])\n",
    "h2d_model.fit(h2d_data[:,0].reshape([-1,1]).astype(np.float),h2d_data[:,1].astype(np.float))"
   ]
  },
  {
   "cell_type": "code",
   "execution_count": 70,
   "metadata": {},
   "outputs": [
    {
     "name": "stdout",
     "output_type": "stream",
     "text": [
      "coalesced_gemm 0.2083166563594989\n",
      "coalesced_gemm 0.2083166563594989\n",
      "coalesced_gemm 0.2083166563594989\n",
      "coalesced_gemm 0.2083166563594989\n",
      "coalesced_transpose 2.0728172206158098\n",
      "softmax 1.1000343175255607\n",
      "['kernel', 'exec_cpu', 'exec_gpu', 'h2d_gpu', 'd2h_gpu']\n",
      "['coalesced_gemm', 0.04170621059161897, 0.1972129279059524, 0.0018077972695721364, 0.0011851120362881737]\n",
      "['coalesced_gemm', 0.04170621059161897, 0.1972129279059524, 0.0018077972695721364, 0.0011851120362881737]\n",
      "['coalesced_gemm', 0.04170621059161897, 0.1972129279059524, 0.0018077972695721364, 0.0011851120362881737]\n",
      "['coalesced_gemm', 0.04170621059161897, 0.1972129279059524, 0.0018077972695721364, 0.0011851120362881737]\n",
      "['coalesced_transpose', 0.008473524288907566, 0.0017982416760991687, 0.001104572711916572, 0.0011851120362881737]\n",
      "['softmax', 0.0043183637012932305, 0.0016359779629432523, 0.001104572711916572, 0.0011851120362881737]\n"
     ]
    },
    {
     "name": "stderr",
     "output_type": "stream",
     "text": [
      "/home/anirban/Tools/python/lib/python2.7/site-packages/sklearn/preprocessing/label.py:151: DeprecationWarning: The truth value of an empty array is ambiguous. Returning False, but in future this will result in an error. Use `array.size > 0` to check that an array is not empty.\n",
      "  if diff:\n",
      "/home/anirban/Tools/python/lib/python2.7/site-packages/sklearn/preprocessing/label.py:151: DeprecationWarning: The truth value of an empty array is ambiguous. Returning False, but in future this will result in an error. Use `array.size > 0` to check that an array is not empty.\n",
      "  if diff:\n",
      "/home/anirban/Tools/python/lib/python2.7/site-packages/sklearn/preprocessing/label.py:151: DeprecationWarning: The truth value of an empty array is ambiguous. Returning False, but in future this will result in an error. Use `array.size > 0` to check that an array is not empty.\n",
      "  if diff:\n"
     ]
    }
   ],
   "source": [
    "#for model_number in range(3):\n",
    "speedup_index = module.models[0].predict(x_transformer[:,1:])\n",
    "d2h_index = module.models[1].predict(x_transformer[:,1:])\n",
    "h2d_index = module.models[2].predict(x_transformer[:,1:])\n",
    "table = [[\"kernel\",\"exec_cpu\",\"exec_gpu\",\"h2d_gpu\",\"d2h_gpu\"]]\n",
    "\n",
    "\n",
    "for i,index in enumerate(speedup_index):\n",
    "    \n",
    "    tcpu_tgpu = 0.5*(module.bins[0][index]+module.bins[0][index+1])\n",
    "    td2h_tgpu = 0.5*(module.bins[1][d2h_index[i]]+module.bins[1][d2h_index[i]+1])\n",
    "    th2d_tgpu = 0.5*(module.bins[2][h2d_index[i]]+module.bins[2][h2d_index[i]+1])\n",
    "    \n",
    "    d2h_bytes = x_transformer[i,1]\n",
    "    h2d_bytes = x_transformer[i,3]\n",
    "    \n",
    "    \n",
    "    th2d = h2d_model.predict(np.array([[float(h2d_bytes)]]))[0]\n",
    "    td2h = d2h_model.predict(np.array([[float(d2h_bytes)]]))[0]\n",
    "    tgpu = th2d/th2d_tgpu \n",
    "    tcpu = tcpu_tgpu*tgpu\n",
    "    \n",
    "    texec_gpu = tgpu - th2d - td2h\n",
    "    texec_cpu = tcpu\n",
    "    \n",
    "    table.append([x_transformer[i,0],texec_cpu,texec_gpu,th2d,td2h])\n",
    "    \n",
    "    print x_transformer[i,0],tcpu_tgpu\n",
    "\n",
    "for entry in table:\n",
    "    print entry\n",
    "import csv\n",
    "\n",
    "with open(\"output.csv\", \"wb\") as f:\n",
    "    writer = csv.writer(f)\n",
    "    writer.writerows(table)"
   ]
  },
  {
   "cell_type": "code",
   "execution_count": 74,
   "metadata": {},
   "outputs": [
    {
     "data": {
      "text/plain": [
       "(array([0.03111708, 0.02880053, 0.02881525, 0.02419322, 0.03618268,\n",
       "        0.        , 0.02486472, 0.        , 0.00774467, 0.        ,\n",
       "        0.        , 0.        , 0.        , 0.02802096, 0.02922624,\n",
       "        0.        , 0.        , 0.04273278, 0.01261211, 0.02176826,\n",
       "        0.03288647, 0.03092725, 0.        , 0.        , 0.        ,\n",
       "        0.        , 0.03120497, 0.        , 0.02548988, 0.02900854,\n",
       "        0.        , 0.        , 0.        , 0.        , 0.        ,\n",
       "        0.        , 0.        , 0.02611869, 0.02990159, 0.        ,\n",
       "        0.03415966, 0.        , 0.        , 0.        , 0.        ,\n",
       "        0.        , 0.        , 0.        , 0.        , 0.        ,\n",
       "        0.        , 0.02655461, 0.03624864, 0.        , 0.        ,\n",
       "        0.0159863 , 0.        , 0.        , 0.        , 0.        ,\n",
       "        0.        , 0.        , 0.03700285, 0.        , 0.0269413 ,\n",
       "        0.        , 0.        , 0.03358951, 0.        , 0.02513374,\n",
       "        0.02651988, 0.03365289, 0.        , 0.        , 0.02712918,\n",
       "        0.02368735, 0.0269737 , 0.05245709, 0.        , 0.        ,\n",
       "        0.02779115, 0.02455628, 0.        , 0.        , 0.        ],\n",
       "       dtype=float32),\n",
       " array([0.05223553, 0.03565026, 0.03123535, 0.01585947, 0.1523078 ,\n",
       "        0.        , 0.0238876 , 0.        , 0.00726505, 0.        ,\n",
       "        0.        , 0.        , 0.        , 0.02556591, 0.02217459,\n",
       "        0.        , 0.        , 0.04278962, 0.02563787, 0.01173539,\n",
       "        0.02551799, 0.02201013, 0.        , 0.        , 0.        ,\n",
       "        0.        , 0.02420316, 0.        , 0.02599658, 0.02752711,\n",
       "        0.        , 0.        , 0.        , 0.        , 0.        ,\n",
       "        0.        , 0.        , 0.02148617, 0.01813524, 0.        ,\n",
       "        0.02052817, 0.        , 0.        , 0.        , 0.        ,\n",
       "        0.        , 0.00677347, 0.        , 0.        , 0.        ,\n",
       "        0.        , 0.02720582, 0.02496054, 0.        , 0.        ,\n",
       "        0.00448826, 0.        , 0.        , 0.        , 0.        ,\n",
       "        0.        , 0.        , 0.01984348, 0.        , 0.01718749,\n",
       "        0.        , 0.        , 0.01634748, 0.        , 0.01787345,\n",
       "        0.02699492, 0.01898121, 0.        , 0.        , 0.02762636,\n",
       "        0.02528505, 0.02375028, 0.00427769, 0.        , 0.        ,\n",
       "        0.05392003, 0.05273552, 0.        , 0.        , 0.        ],\n",
       "       dtype=float32),\n",
       " array([0.02486474, 0.02632877, 0.02718372, 0.02182953, 0.03478617,\n",
       "        0.        , 0.03173403, 0.        , 0.01369407, 0.        ,\n",
       "        0.        , 0.        , 0.        , 0.03142488, 0.05239125,\n",
       "        0.        , 0.        , 0.03842535, 0.0278565 , 0.02635713,\n",
       "        0.02577551, 0.03931951, 0.        , 0.        , 0.        ,\n",
       "        0.        , 0.05425061, 0.        , 0.0254652 , 0.02591459,\n",
       "        0.        , 0.        , 0.        , 0.        , 0.        ,\n",
       "        0.        , 0.        , 0.02501521, 0.02753484, 0.        ,\n",
       "        0.03248083, 0.        , 0.        , 0.        , 0.        ,\n",
       "        0.        , 0.01515248, 0.        , 0.        , 0.        ,\n",
       "        0.        , 0.03247029, 0.03042948, 0.        , 0.        ,\n",
       "        0.0116381 , 0.        , 0.        , 0.        , 0.        ,\n",
       "        0.        , 0.        , 0.02375737, 0.        , 0.02491405,\n",
       "        0.        , 0.        , 0.01928729, 0.        , 0.0222571 ,\n",
       "        0.0331452 , 0.02325669, 0.        , 0.        , 0.02100718,\n",
       "        0.02150595, 0.02319142, 0.0317307 , 0.        , 0.        ,\n",
       "        0.03402376, 0.01960058, 0.        , 0.        , 0.        ],\n",
       "       dtype=float32))"
      ]
     },
     "execution_count": 74,
     "metadata": {},
     "output_type": "execute_result"
    }
   ],
   "source": [
    "module.models[0].feature_importances_,module.models[1].feature_importances_,module.models[2].feature_importances_"
   ]
  },
  {
   "cell_type": "markdown",
   "metadata": {},
   "source": [
    "# XGBoost Regression"
   ]
  },
  {
   "cell_type": "code",
   "execution_count": 97,
   "metadata": {},
   "outputs": [],
   "source": [
    "from xgboost import XGBRegressor"
   ]
  },
  {
   "cell_type": "code",
   "execution_count": 107,
   "metadata": {},
   "outputs": [
    {
     "data": {
      "text/plain": [
       "XGBRegressor(base_score=0.5, booster='gbtree', colsample_bylevel=1,\n",
       "       colsample_bytree=1, gamma=0, importance_type='gain',\n",
       "       learning_rate=0.1, max_delta_step=0, max_depth=40,\n",
       "       min_child_weight=1, missing=None, n_estimators=300, n_jobs=1,\n",
       "       nthread=None, objective='reg:linear', random_state=0, reg_alpha=0,\n",
       "       reg_lambda=1, scale_pos_weight=1, seed=None, silent=True,\n",
       "       subsample=1)"
      ]
     },
     "execution_count": 107,
     "metadata": {},
     "output_type": "execute_result"
    }
   ],
   "source": [
    "ytrain = y_train[:,var1]\n",
    "ytest = y_test[:,var1]\n",
    "speedup = False\n",
    "model = XGBRegressor(objective ='reg:linear', learning_rate = 0.1,\n",
    "                max_depth = 40, n_estimators = 300)\n",
    "model.fit(x_train,ytrain)"
   ]
  },
  {
   "cell_type": "code",
   "execution_count": 108,
   "metadata": {},
   "outputs": [],
   "source": [
    "y_pred = model.predict(x_test)"
   ]
  },
  {
   "cell_type": "code",
   "execution_count": 109,
   "metadata": {
    "scrolled": true
   },
   "outputs": [
    {
     "name": "stdout",
     "output_type": "stream",
     "text": [
      "% error in time pred -  42.7363326573781\n"
     ]
    }
   ],
   "source": [
    "if speedup:\n",
    "    time_act = y_test[:,var1]\n",
    "    time_preds = np.array([(y_pred[i])*y_test[i,var2] for i in range(len(y_pred))])\n",
    "    print \"% error in time pred - \",100*np.mean(np.abs(time_preds-time_act)/time_act)\n",
    "else:\n",
    "    print \"% error in time pred - \",100*np.mean(np.abs(y_pred-ytest)/ytest)\n"
   ]
  },
  {
   "cell_type": "markdown",
   "metadata": {},
   "source": [
    "# Histogram of Speedups"
   ]
  },
  {
   "cell_type": "code",
   "execution_count": 34,
   "metadata": {},
   "outputs": [],
   "source": [
    "import matplotlib.pyplot as plt\n",
    "%matplotlib inline"
   ]
  },
  {
   "cell_type": "code",
   "execution_count": 49,
   "metadata": {},
   "outputs": [
    {
     "data": {
      "image/png": "[encoded data removed]",
      "text/plain": [
       "<matplotlib.figure.Figure at 0x2b8079abe350>"
      ]
     },
     "metadata": {
      "needs_background": "light"
     },
     "output_type": "display_data"
    }
   ],
   "source": [
    "N_BINS = 1000\n",
    "n,bins,_ = plt.hist(np.concatenate([y_speedups_train,y_speedups_test]),bins=N_BINS)\n",
    "bin_size = 0\n",
    "for i in range(bins.shape[0]-1):\n",
    "    #print \"Bin [{} - {}] => Num elements {}\".format(bins[i],bins[i+1],n[i])\n",
    "    bin_size += bins[i+1]-bins[i]\n",
    "\n",
    "bin_size /= (bins.shape[0]-1)\n",
    "\n",
    "y_sp_train_class = []\n",
    "y_sp_test_class = []\n",
    "\n",
    "\n",
    "for spdup in y_speedups_train:\n",
    "    found=False\n",
    "    for i in range(bins.shape[0]-1):\n",
    "        if spdup >= bins[i]-1e-4 and spdup <= bins[i+1]+1e-4:\n",
    "            y_sp_train_class.append(i)\n",
    "            found=True\n",
    "            break\n",
    "    assert found,spdup\n",
    "\n",
    "for spdup in y_speedups_test:\n",
    "    found=False\n",
    "    for i in range(bins.shape[0]-1):\n",
    "        if spdup >= bins[i]-1e-4 and spdup <= bins[i+1]+1e-4:\n",
    "            y_sp_test_class.append(i)\n",
    "            found=True\n",
    "            break\n",
    "    assert found,spdup\n",
    "    \n",
    "y_sp_train_class = np.array(y_sp_train_class)\n",
    "y_sp_test_class = np.array(y_sp_test_class)\n"
   ]
  },
  {
   "cell_type": "markdown",
   "metadata": {},
   "source": [
    "# Support Vector Machine (Classification)"
   ]
  },
  {
   "cell_type": "code",
   "execution_count": 50,
   "metadata": {},
   "outputs": [],
   "source": [
    "from sklearn.svm import SVC"
   ]
  },
  {
   "cell_type": "code",
   "execution_count": 51,
   "metadata": {},
   "outputs": [
    {
     "data": {
      "text/plain": [
       "SVC(C=200, cache_size=200, class_weight=None, coef0=0.0,\n",
       "  decision_function_shape='ovr', degree=3, gamma='auto', kernel='rbf',\n",
       "  max_iter=-1, probability=False, random_state=None, shrinking=True,\n",
       "  tol=0.001, verbose=False)"
      ]
     },
     "execution_count": 51,
     "metadata": {},
     "output_type": "execute_result"
    }
   ],
   "source": [
    "model = SVC(C=200,kernel='rbf')\n",
    "model.fit(x_train,y_sp_train_class)"
   ]
  },
  {
   "cell_type": "code",
   "execution_count": 52,
   "metadata": {},
   "outputs": [],
   "source": [
    "y_pred = model.predict(x_test)"
   ]
  },
  {
   "cell_type": "code",
   "execution_count": 53,
   "metadata": {},
   "outputs": [
    {
     "name": "stdout",
     "output_type": "stream",
     "text": [
      "Percentage Accuracy -  22\n",
      "Mean absolute error -  0.040468775671702505\n",
      "Mean absolute binning error -  66.87116564417178\n",
      "Mean relative binning error -  0.0\n",
      "Mean error in time pred -  65.98949272948762\n"
     ]
    }
   ],
   "source": [
    "print \"Percentage Accuracy - \", 100*np.sum(y_pred==y_sp_test_class)/len(y_pred)\n",
    "print \"Mean absolute error - \", bin_size*np.mean(np.abs(y_pred-y_sp_test_class))\n",
    "print \"Mean absolute binning error - \", np.mean(np.abs(y_pred-y_sp_test_class))\n",
    "print \"Mean relative binning error - \", np.mean(np.abs(y_pred-y_sp_test_class)/(y_sp_test_class+1))\n",
    "time_preds = np.array([0.5*(bins[y_pred[i]+1]+bins[y_pred[i]])*y_test[i,var2] for i in range(len(y_pred))])\n",
    "time_act = y_test[:,var1]\n",
    "print \"Mean error in time pred - \",100*np.mean(np.abs(time_preds-time_act)/time_act)\n",
    "#print np.abs(time_act-time_preds)\n",
    "\n"
   ]
  },
  {
   "cell_type": "markdown",
   "metadata": {},
   "source": [
    "# XGboost (Classification)"
   ]
  },
  {
   "cell_type": "code",
   "execution_count": 54,
   "metadata": {},
   "outputs": [],
   "source": [
    "from xgboost import XGBClassifier"
   ]
  },
  {
   "cell_type": "code",
   "execution_count": 55,
   "metadata": {},
   "outputs": [
    {
     "data": {
      "text/plain": [
       "XGBClassifier(base_score=0.5, booster='gbtree', colsample_bylevel=1,\n",
       "       colsample_bytree=1, gamma=0, learning_rate=0.1, max_delta_step=0,\n",
       "       max_depth=10, min_child_weight=1, missing=None, n_estimators=100,\n",
       "       n_jobs=1, nthread=None, objective='multi:softprob', random_state=0,\n",
       "       reg_alpha=0, reg_lambda=1, scale_pos_weight=1, seed=None,\n",
       "       silent=True, subsample=1)"
      ]
     },
     "execution_count": 55,
     "metadata": {},
     "output_type": "execute_result"
    }
   ],
   "source": [
    "model = XGBClassifier(n_estimators=100,max_depth=10)\n",
    "model.fit(x_train,y_sp_train_class)"
   ]
  },
  {
   "cell_type": "code",
   "execution_count": 56,
   "metadata": {
    "scrolled": true
   },
   "outputs": [
    {
     "name": "stderr",
     "output_type": "stream",
     "text": [
      "/home/anirban/Tools/python/lib/python2.7/site-packages/sklearn/preprocessing/label.py:151: DeprecationWarning: The truth value of an empty array is ambiguous. Returning False, but in future this will result in an error. Use `array.size > 0` to check that an array is not empty.\n",
      "  if diff:\n"
     ]
    }
   ],
   "source": [
    "y_pred = model.predict(x_test)\n"
   ]
  },
  {
   "cell_type": "code",
   "execution_count": 57,
   "metadata": {},
   "outputs": [
    {
     "name": "stdout",
     "output_type": "stream",
     "text": [
      "Percentage Accuracy -  35\n",
      "Mean absolute error -  0.006564109668584406\n",
      "Mean absolute binning error -  10.846625766871165\n",
      "% Mean relative binning error -  1.8404907975460123\n",
      "% error in time pred -  27.59880988092164\n"
     ]
    }
   ],
   "source": [
    "print \"Percentage Accuracy - \", 100*np.sum(y_pred==y_sp_test_class)/len(y_pred)\n",
    "print \"Mean absolute error - \", bin_size*np.mean(np.abs(y_pred-y_sp_test_class))\n",
    "print \"Mean absolute binning error - \", np.mean(np.abs(y_pred-y_sp_test_class))\n",
    "print \"% Mean relative binning error - \", 100*np.mean(np.abs(y_pred-y_sp_test_class)/(y_sp_test_class+1))\n",
    "time_preds = np.array([0.5*(bins[y_pred[i]+1]+bins[y_pred[i]])*y_test[i,var2] for i in range(len(y_pred))])\n",
    "time_act = y_test[:,var1]\n",
    "print \"% error in time pred - \",100*np.mean(np.abs(time_preds-time_act)/time_act)\n"
   ]
  },
  {
   "cell_type": "code",
   "execution_count": null,
   "metadata": {},
   "outputs": [],
   "source": []
  },
  {
   "cell_type": "markdown",
   "metadata": {},
   "source": [
    "# Linear Regression"
   ]
  },
  {
   "cell_type": "code",
   "execution_count": 58,
   "metadata": {},
   "outputs": [],
   "source": [
    "from sklearn.linear_model import LinearRegression as lrg"
   ]
  },
  {
   "cell_type": "code",
   "execution_count": 61,
   "metadata": {},
   "outputs": [
    {
     "data": {
      "text/plain": [
       "LinearRegression(copy_X=True, fit_intercept=True, n_jobs=1, normalize=False)"
      ]
     },
     "execution_count": 61,
     "metadata": {},
     "output_type": "execute_result"
    }
   ],
   "source": [
    "model = lrg()\n",
    "model.fit(x_train,y_train[:,var1])"
   ]
  },
  {
   "cell_type": "code",
   "execution_count": 62,
   "metadata": {},
   "outputs": [
    {
     "name": "stdout",
     "output_type": "stream",
     "text": [
      "('Mean absolute error : - ', 0.0006954606339132166)\n",
      "('Relative error : - ', 1.2667968855428564)\n"
     ]
    }
   ],
   "source": [
    "y_pred = model.predict(x_test)\n",
    "print(\"Mean absolute error : - \", np.mean(np.abs(y_pred-y_test[:,var1])))\n",
    "print(\"Relative error : - \",np.mean(np.abs(y_pred-y_test[:,var1])/y_speedups_test))"
   ]
  },
  {
   "cell_type": "markdown",
   "metadata": {},
   "source": [
    "# Support Vector (Regression)"
   ]
  },
  {
   "cell_type": "code",
   "execution_count": 64,
   "metadata": {},
   "outputs": [],
   "source": [
    "from sklearn.svm import SVR"
   ]
  },
  {
   "cell_type": "code",
   "execution_count": 85,
   "metadata": {},
   "outputs": [
    {
     "data": {
      "text/plain": [
       "SVR(C=5e-09, cache_size=200, coef0=0.0, degree=3, epsilon=0.1, gamma=0.1,\n",
       "  kernel='rbf', max_iter=-1, shrinking=True, tol=0.001, verbose=False)"
      ]
     },
     "execution_count": 85,
     "metadata": {},
     "output_type": "execute_result"
    }
   ],
   "source": [
    "\n",
    "model = SVR(kernel='rbf', C=0.000000005, gamma=0.1, epsilon=.1)\n",
    "model.fit(x_train,y_train[:,var1])"
   ]
  },
  {
   "cell_type": "code",
   "execution_count": 86,
   "metadata": {},
   "outputs": [
    {
     "name": "stdout",
     "output_type": "stream",
     "text": [
      "('Mean absolute error : - ', 0.12505605223875052)\n",
      "('Relative error : - ', 73.32952291897392)\n"
     ]
    }
   ],
   "source": [
    "y_pred = model.predict(x_test)\n",
    "print(\"Mean absolute error : - \", np.mean(np.abs(y_pred-y_test[:,var1])))\n",
    "print(\"Relative error : - \",np.mean(np.abs(y_pred-y_test[:,var1])/y_speedups_test))"
   ]
  },
  {
   "cell_type": "code",
   "execution_count": null,
   "metadata": {},
   "outputs": [],
   "source": []
  }
 ],
 "metadata": {
  "kernelspec": {
   "display_name": "Python 2",
   "language": "python",
   "name": "python2"
  },
  "language_info": {
   "codemirror_mode": {
    "name": "ipython",
    "version": 2
   },
   "file_extension": ".py",
   "mimetype": "text/x-python",
   "name": "python",
   "nbconvert_exporter": "python",
   "pygments_lexer": "ipython2",
   "version": "2.7.12"
  }
 },
 "nbformat": 4,
 "nbformat_minor": 2
}
