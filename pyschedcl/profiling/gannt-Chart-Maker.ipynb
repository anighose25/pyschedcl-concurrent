{
 "cells": [
  {
   "cell_type": "code",
   "execution_count": 1,
   "metadata": {},
   "outputs": [],
   "source": [
    "import json\n",
    "from datetime import date\n",
    "from datetime import datetime,timedelta\n",
    "import plotly.figure_factory as ff\n",
    "from copy import deepcopy\n",
    "import re"
   ]
  },
  {
   "cell_type": "code",
   "execution_count": 47,
   "metadata": {},
   "outputs": [],
   "source": [
    "#Command to run -> !python scheduling/multiple_dag_devices.py -f dag_info/dag_3_gemm/ -ng 2 -nc 2 -rc \n",
    "size = 256\n",
    "num_queues = 2\n",
    "\n"
   ]
  },
  {
   "cell_type": "code",
   "execution_count": 42,
   "metadata": {},
   "outputs": [
    {
     "name": "stdout",
     "output_type": "stream",
     "text": [
      "Total Time Taken -  0.025509595871\n",
      "{\n",
      " \"FFC_sans_bias0\": {\n",
      "  \"cmdq\": 0, \n",
      "  \"device\": \"gpu\", \n",
      "  \"nd_range\": {\n",
      "   \"device_end\": 0.018912792205810547, \n",
      "   \"device_start\": 0.018173694610595703\n",
      "  }, \n",
      "  \"read\": {\n",
      "   \"device_end\": -1584508014.8820179, \n",
      "   \"device_start\": -1584508014.8820179\n",
      "  }, \n",
      "  \"write\": {\n",
      "   \"device_end\": 0.018111467361450195, \n",
      "   \"device_queued\": 0.017967939376831055, \n",
      "   \"device_start\": 0.0180661678314209, \n",
      "   \"host_queued_end\": 1584520082.483309, \n",
      "   \"host_queued_start\": 1584520082.468764\n",
      "  }\n",
      " }, \n",
      " \"FFC_sans_bias1\": {\n",
      "  \"cmdq\": 1, \n",
      "  \"device\": \"gpu\", \n",
      "  \"nd_range\": {\n",
      "   \"device_end\": 0.019423484802246094, \n",
      "   \"device_start\": 0.018203020095825195\n",
      "  }, \n",
      "  \"read\": {\n",
      "   \"device_end\": -1584508014.8820179, \n",
      "   \"device_start\": -1584508014.8820179\n",
      "  }, \n",
      "  \"write\": {\n",
      "   \"device_end\": 0.018168926239013672, \n",
      "   \"device_queued\": 0.018018484115600586, \n",
      "   \"device_start\": 0.018124103546142578, \n",
      "   \"host_queued_end\": 1584520082.483309, \n",
      "   \"host_queued_start\": 1584520082.47039\n",
      "  }\n",
      " }, \n",
      " \"FFC_sans_bias10\": {\n",
      "  \"cmdq\": 0, \n",
      "  \"device\": \"gpu\", \n",
      "  \"nd_range\": {\n",
      "   \"device_end\": 0.021049976348876953, \n",
      "   \"device_start\": 0.020142316818237305\n",
      "  }, \n",
      "  \"read\": {\n",
      "   \"device_end\": -1584508014.8820179, \n",
      "   \"device_start\": -1584508014.8820179\n",
      "  }, \n",
      "  \"write\": {\n",
      "   \"device_end\": 0.020127296447753906, \n",
      "   \"device_queued\": 0.018431901931762695, \n",
      "   \"device_start\": 0.020081043243408203, \n",
      "   \"host_queued_end\": 1584520082.483309, \n",
      "   \"host_queued_start\": 1584520082.474872\n",
      "  }\n",
      " }, \n",
      " \"FFC_sans_bias11\": {\n",
      "  \"cmdq\": 1, \n",
      "  \"device\": \"gpu\", \n",
      "  \"nd_range\": {\n",
      "   \"device_end\": 0.021589994430541992, \n",
      "   \"device_start\": 0.020680665969848633\n",
      "  }, \n",
      "  \"read\": {\n",
      "   \"device_end\": -1584508014.8820179, \n",
      "   \"device_start\": -1584508014.8820179\n",
      "  }, \n",
      "  \"write\": {\n",
      "   \"device_end\": 0.020675182342529297, \n",
      "   \"device_queued\": 0.01846027374267578, \n",
      "   \"device_start\": 0.020629405975341797, \n",
      "   \"host_queued_end\": 1584520082.483309, \n",
      "   \"host_queued_start\": 1584520082.47635\n",
      "  }\n",
      " }, \n",
      " \"FFC_sans_bias13\": {\n",
      "  \"cmdq\": 1, \n",
      "  \"device\": \"gpu\", \n",
      "  \"nd_range\": {\n",
      "   \"device_end\": 0.022669076919555664, \n",
      "   \"device_start\": 0.021987438201904297\n",
      "  }, \n",
      "  \"read\": {\n",
      "   \"device_end\": -1584508014.8820179, \n",
      "   \"device_start\": -1584508014.8820179\n",
      "  }, \n",
      "  \"write\": {\n",
      "   \"device_end\": -1584508014.8820179, \n",
      "   \"device_queued\": -1584508014.8820179, \n",
      "   \"device_start\": -1584508014.8820179, \n",
      "   \"host_queued_end\": 1584520082.483309, \n",
      "   \"host_queued_start\": 1584520082.478336\n",
      "  }\n",
      " }, \n",
      " \"FFC_sans_bias15\": {\n",
      "  \"cmdq\": 1, \n",
      "  \"device\": \"gpu\", \n",
      "  \"nd_range\": {\n",
      "   \"device_end\": 0.024437427520751953, \n",
      "   \"device_start\": 0.023546457290649414\n",
      "  }, \n",
      "  \"read\": {\n",
      "   \"device_end\": -1584508014.8820179, \n",
      "   \"device_start\": -1584508014.8820179\n",
      "  }, \n",
      "  \"write\": {\n",
      "   \"device_end\": -1584508014.8820179, \n",
      "   \"device_queued\": -1584508014.8820179, \n",
      "   \"device_start\": -1584508014.8820179, \n",
      "   \"host_queued_end\": 1584520082.483309, \n",
      "   \"host_queued_start\": 1584520082.480139\n",
      "  }\n",
      " }, \n",
      " \"FFC_sans_bias16\": {\n",
      "  \"cmdq\": 1, \n",
      "  \"device\": \"gpu\", \n",
      "  \"nd_range\": {\n",
      "   \"device_end\": 0.025460481643676758, \n",
      "   \"device_start\": 0.024579524993896484\n",
      "  }, \n",
      "  \"read\": {\n",
      "   \"device_end\": 0.02550959587097168, \n",
      "   \"device_start\": 0.0254671573638916\n",
      "  }, \n",
      "  \"write\": {\n",
      "   \"device_end\": 0.024575471878051758, \n",
      "   \"device_queued\": 0.01915121078491211, \n",
      "   \"device_start\": 0.02453017234802246, \n",
      "   \"host_queued_end\": 1584520082.483309, \n",
      "   \"host_queued_start\": 1584520082.483076\n",
      "  }\n",
      " }, \n",
      " \"FFC_sans_bias2\": {\n",
      "  \"cmdq\": 0, \n",
      "  \"device\": \"gpu\", \n",
      "  \"nd_range\": {\n",
      "   \"device_end\": 0.019957780838012695, \n",
      "   \"device_start\": 0.01907515525817871\n",
      "  }, \n",
      "  \"read\": {\n",
      "   \"device_end\": -1584508014.8820179, \n",
      "   \"device_start\": -1584508014.8820179\n",
      "  }, \n",
      "  \"write\": {\n",
      "   \"device_end\": 0.019071102142333984, \n",
      "   \"device_queued\": 0.018219470977783203, \n",
      "   \"device_start\": 0.019025564193725586, \n",
      "   \"host_queued_end\": 1584520082.483309, \n",
      "   \"host_queued_start\": 1584520082.471911\n",
      "  }\n",
      " }, \n",
      " \"FFC_sans_bias4\": {\n",
      "  \"cmdq\": 0, \n",
      "  \"device\": \"gpu\", \n",
      "  \"nd_range\": {\n",
      "   \"device_end\": 0.022176265716552734, \n",
      "   \"device_start\": 0.02142930030822754\n",
      "  }, \n",
      "  \"read\": {\n",
      "   \"device_end\": -1584508014.8820179, \n",
      "   \"device_start\": -1584508014.8820179\n",
      "  }, \n",
      "  \"write\": {\n",
      "   \"device_end\": -1584508014.8820179, \n",
      "   \"device_queued\": -1584508014.8820179, \n",
      "   \"device_start\": -1584508014.8820179, \n",
      "   \"host_queued_end\": 1584520082.483309, \n",
      "   \"host_queued_start\": 1584520082.477855\n",
      "  }\n",
      " }, \n",
      " \"FFC_sans_bias6\": {\n",
      "  \"cmdq\": 0, \n",
      "  \"device\": \"gpu\", \n",
      "  \"nd_range\": {\n",
      "   \"device_end\": 0.023926258087158203, \n",
      "   \"device_start\": 0.023163318634033203\n",
      "  }, \n",
      "  \"read\": {\n",
      "   \"device_end\": -1584508014.8820179, \n",
      "   \"device_start\": -1584508014.8820179\n",
      "  }, \n",
      "  \"write\": {\n",
      "   \"device_end\": -1584508014.8820179, \n",
      "   \"device_queued\": -1584508014.8820179, \n",
      "   \"device_start\": -1584508014.8820179, \n",
      "   \"host_queued_end\": 1584520082.483309, \n",
      "   \"host_queued_start\": 1584520082.479659\n",
      "  }\n",
      " }, \n",
      " \"FFC_sans_bias7\": {\n",
      "  \"cmdq\": 0, \n",
      "  \"device\": \"gpu\", \n",
      "  \"nd_range\": {\n",
      "   \"device_end\": 0.024988174438476562, \n",
      "   \"device_start\": 0.024075984954833984\n",
      "  }, \n",
      "  \"read\": {\n",
      "   \"device_end\": 0.025037527084350586, \n",
      "   \"device_start\": 0.024995088577270508\n",
      "  }, \n",
      "  \"write\": {\n",
      "   \"device_end\": 0.02407217025756836, \n",
      "   \"device_queued\": 0.019120216369628906, \n",
      "   \"device_start\": 0.02402663230895996, \n",
      "   \"host_queued_end\": 1584520082.483309, \n",
      "   \"host_queued_start\": 1584520082.481559\n",
      "  }\n",
      " }, \n",
      " \"FFC_sans_bias9\": {\n",
      "  \"cmdq\": 1, \n",
      "  \"device\": \"gpu\", \n",
      "  \"nd_range\": {\n",
      "   \"device_end\": 0.02052021026611328, \n",
      "   \"device_start\": 0.019560575485229492\n",
      "  }, \n",
      "  \"read\": {\n",
      "   \"device_end\": -1584508014.8820179, \n",
      "   \"device_start\": -1584508014.8820179\n",
      "  }, \n",
      "  \"write\": {\n",
      "   \"device_end\": 0.0195465087890625, \n",
      "   \"device_queued\": 0.018250465393066406, \n",
      "   \"device_start\": 0.019499778747558594, \n",
      "   \"host_queued_end\": 1584520082.483309, \n",
      "   \"host_queued_start\": 1584520082.4734\n",
      "  }\n",
      " }, \n",
      " \"coalesced_transpose12\": {\n",
      "  \"cmdq\": 1, \n",
      "  \"device\": \"gpu\", \n",
      "  \"nd_range\": {\n",
      "   \"device_end\": 0.021985292434692383, \n",
      "   \"device_start\": 0.02159571647644043\n",
      "  }, \n",
      "  \"read\": {\n",
      "   \"device_end\": -1584508014.8820179, \n",
      "   \"device_start\": -1584508014.8820179\n",
      "  }, \n",
      "  \"write\": {\n",
      "   \"device_end\": -1584508014.8820179, \n",
      "   \"device_queued\": -1584508014.8820179, \n",
      "   \"device_start\": -1584508014.8820179, \n",
      "   \"host_queued_end\": 1584520082.483309, \n",
      "   \"host_queued_start\": 1584520082.477373\n",
      "  }\n",
      " }, \n",
      " \"coalesced_transpose3\": {\n",
      "  \"cmdq\": 0, \n",
      "  \"device\": \"gpu\", \n",
      "  \"nd_range\": {\n",
      "   \"device_end\": 0.021427154541015625, \n",
      "   \"device_start\": 0.021051883697509766\n",
      "  }, \n",
      "  \"read\": {\n",
      "   \"device_end\": -1584508014.8820179, \n",
      "   \"device_start\": -1584508014.8820179\n",
      "  }, \n",
      "  \"write\": {\n",
      "   \"device_end\": -1584508014.8820179, \n",
      "   \"device_queued\": -1584508014.8820179, \n",
      "   \"device_start\": -1584508014.8820179, \n",
      "   \"host_queued_end\": 1584520082.483309, \n",
      "   \"host_queued_start\": 1584520082.476888\n",
      "  }\n",
      " }, \n",
      " \"empty17\": {\n",
      "  \"cmdq\": 1, \n",
      "  \"device\": \"gpu\", \n",
      "  \"nd_range\": {\n",
      "   \"device_end\": 0.018034696578979492, \n",
      "   \"device_start\": 0.018030166625976562\n",
      "  }, \n",
      "  \"read\": {\n",
      "   \"device_end\": -1584508014.8820179, \n",
      "   \"device_start\": -1584508014.8820179\n",
      "  }, \n",
      "  \"write\": {\n",
      "   \"device_end\": 0.01802659034729004, \n",
      "   \"device_queued\": 0.017873525619506836, \n",
      "   \"device_start\": 0.01798081398010254, \n",
      "   \"host_queued_end\": 1584520082.483309, \n",
      "   \"host_queued_start\": 1584520082.466891\n",
      "  }\n",
      " }, \n",
      " \"empty8\": {\n",
      "  \"cmdq\": 0, \n",
      "  \"device\": \"gpu\", \n",
      "  \"nd_range\": {\n",
      "   \"device_end\": 0.017979145050048828, \n",
      "   \"device_start\": 0.017968416213989258\n",
      "  }, \n",
      "  \"read\": {\n",
      "   \"device_end\": -1584508014.8820179, \n",
      "   \"device_start\": -1584508014.8820179\n",
      "  }, \n",
      "  \"write\": {\n",
      "   \"device_end\": 0.017963647842407227, \n",
      "   \"device_queued\": 0.01778697967529297, \n",
      "   \"device_start\": 0.017918109893798828, \n",
      "   \"host_queued_end\": 1584520082.483309, \n",
      "   \"host_queued_start\": 1584520082.465391\n",
      "  }\n",
      " }, \n",
      " \"softmax14\": {\n",
      "  \"cmdq\": 1, \n",
      "  \"device\": \"gpu\", \n",
      "  \"nd_range\": {\n",
      "   \"device_end\": 0.0235443115234375, \n",
      "   \"device_start\": 0.022670984268188477\n",
      "  }, \n",
      "  \"read\": {\n",
      "   \"device_end\": -1584508014.8820179, \n",
      "   \"device_start\": -1584508014.8820179\n",
      "  }, \n",
      "  \"write\": {\n",
      "   \"device_end\": -1584508014.8820179, \n",
      "   \"device_queued\": -1584508014.8820179, \n",
      "   \"device_start\": -1584508014.8820179, \n",
      "   \"host_queued_end\": 1584520082.483309, \n",
      "   \"host_queued_start\": 1584520082.479172\n",
      "  }\n",
      " }, \n",
      " \"softmax5\": {\n",
      "  \"cmdq\": 0, \n",
      "  \"device\": \"gpu\", \n",
      "  \"nd_range\": {\n",
      "   \"device_end\": 0.023161888122558594, \n",
      "   \"device_start\": 0.02217864990234375\n",
      "  }, \n",
      "  \"read\": {\n",
      "   \"device_end\": -1584508014.8820179, \n",
      "   \"device_start\": -1584508014.8820179\n",
      "  }, \n",
      "  \"write\": {\n",
      "   \"device_end\": -1584508014.8820179, \n",
      "   \"device_queued\": -1584508014.8820179, \n",
      "   \"device_start\": -1584508014.8820179, \n",
      "   \"host_queued_end\": 1584520082.483309, \n",
      "   \"host_queued_start\": 1584520082.478756\n",
      "  }\n",
      " }\n",
      "}\n"
     ]
    }
   ],
   "source": [
    "with open(\".././profiling/dumps_transformer/paramterised_dag_total_heads/2_GPU2_CPU4_0.json\") as f:\n",
    "# with open(\".././profiling/dumps_transformer/paramterised_dag_total_heads/2_GPU1_CPU4_0.json\") as f:\n",
    "    timestamps = json.load(f)\n",
    "kernels = timestamps.keys()\n",
    "reference_device = {}\n",
    "reference_host = {}\n",
    "total_time = 0\n",
    "global_reference = None\n",
    "\n",
    "for kernel in kernels:\n",
    "    device = timestamps[kernel][\"device\"]\n",
    "    if device == 'gpu':\n",
    "        t = timestamps[kernel][\"write\"][\"device_start\"]\n",
    "    else:\n",
    "        t = timestamps[kernel][\"nd_range\"][\"device_start\"]\n",
    "    if t == -1:\n",
    "        continue\n",
    "    if not (device in reference_device):\n",
    "        reference_device[device] = t\n",
    "    else:\n",
    "        reference_device[device] = min(reference_device[device],t)\n",
    "\n",
    "    t = timestamps[kernel][\"write\"][\"host_queued_end\"]\n",
    "    \n",
    "    if not (device in reference_host):\n",
    "        reference_host[device] = t\n",
    "    else:\n",
    "        reference_host[device] = min(reference_host[device],t)\n",
    "        \n",
    "    t = timestamps[kernel][\"write\"][\"host_queued_start\"]\n",
    "    \n",
    "    if not global_reference:\n",
    "        global_reference = t\n",
    "    else:\n",
    "        global_reference = min(global_reference,t)\n",
    "\n",
    "relative_timestamps = deepcopy(timestamps)\n",
    "\n",
    "# global_reference = None\n",
    "\n",
    "# for key,value in reference_host.items():\n",
    "#     if not global_reference:\n",
    "#         global_reference = value\n",
    "#     else:\n",
    "#         global_reference = min(value,global_reference)\n",
    "\n",
    "\n",
    "for kernel,kernel_timestamps in relative_timestamps.items():\n",
    "    device = kernel_timestamps[\"device\"]\n",
    "    for event_type,event_timestamps in kernel_timestamps.items():\n",
    "        #print(event_type)\n",
    "        if event_type in [\"device\",\"cmdq\"]:\n",
    "            continue\n",
    "        else:\n",
    "            #continue\n",
    "            for sub_event_type in event_timestamps:\n",
    "                if  sub_event_type[:4] == \"host\":\n",
    "                    #event_timestamps[sub_event_type] -= global_reference\n",
    "                    continue\n",
    "                else:\n",
    "                   event_timestamps[sub_event_type] = event_timestamps[sub_event_type] - reference_device[device] + reference_host[device] - global_reference\n",
    "#                     event_timestamps[sub_event_type] = event_timestamps[sub_event_type] - reference_device[device] + \\\n",
    "#                     kernel_timestamps[\"write\"][\"host_queued_start\"] - global_reference\n",
    "                total_time = max(total_time,event_timestamps[sub_event_type])\n",
    "\n",
    "\n",
    "\n",
    "print \"Total Time Taken - \",total_time\n",
    "print(json.dumps(relative_timestamps,sort_keys=True,indent=1))          \n"
   ]
  },
  {
   "cell_type": "code",
   "execution_count": 43,
   "metadata": {},
   "outputs": [],
   "source": [
    "def to_time_delta(timestamp):\n",
    "    now = datetime.now()\n",
    "    second = int(timestamp)\n",
    "    microsecond = (timestamp - float(second))*1e6\n",
    "    now = now.replace(hour=0, minute=0, second=second, microsecond=int(microsecond))\n",
    "    return now"
   ]
  },
  {
   "cell_type": "code",
   "execution_count": 44,
   "metadata": {},
   "outputs": [],
   "source": [
    "def modify_task_labels(df):\n",
    "    for item in df:\n",
    "        kernel_id = int(re.findall('\\d+',item['Task'])[0])\n",
    "        if item['Task'].startswith('FFC'):\n",
    "            item['Task'] = '{}_gemm'.format(kernel_id)\n",
    "        elif item['Task'].startswith('empty'):\n",
    "            item['Task'] = '{}_copy'.format(kernel_id)\n",
    "        elif item['Task'].startswith('softmax'):\n",
    "            item['Task'] = '{}_softmax'.format(kernel_id)\n",
    "        elif 'transpose' in item['Task']:\n",
    "            item['Task'] = '{}_transpose'.format(kernel_id)\n",
    "        "
   ]
  },
  {
   "cell_type": "code",
   "execution_count": 48,
   "metadata": {},
   "outputs": [
    {
     "data": {
      "application/vnd.plotly.v1+json": {
       "config": {
        "plotlyServerURL": "https://plot.ly"
       },
       "data": [
        {
         "fill": "toself",
         "fillcolor": "rgb(0, 255, 100)",
         "hoverinfo": "name",
         "legendgroup": "rgb(0, 255, 100)",
         "mode": "none",
         "name": "write",
         "type": "scatter",
         "x": [
          "2020-03-19T00:00:00.018066",
          "2020-03-19T00:00:00.018111",
          "2020-03-19T00:00:00.018111",
          "2020-03-19T00:00:00.018066",
          "2020-03-19T00:00:00.018066",
          "2020-03-19T00:00:00.018124",
          "2020-03-19T00:00:00.018168",
          "2020-03-19T00:00:00.018168",
          "2020-03-19T00:00:00.018124",
          "2020-03-19T00:00:00.018124",
          "2020-03-19T00:00:00.019025",
          "2020-03-19T00:00:00.019071",
          "2020-03-19T00:00:00.019071",
          "2020-03-19T00:00:00.019025",
          "2020-03-19T00:00:00.019025",
          "2020-03-19T00:00:00.024026",
          "2020-03-19T00:00:00.024072",
          "2020-03-19T00:00:00.024072",
          "2020-03-19T00:00:00.024026",
          "2020-03-19T00:00:00.024026",
          "2020-03-19T00:00:00.017918",
          "2020-03-19T00:00:00.017963",
          "2020-03-19T00:00:00.017963",
          "2020-03-19T00:00:00.017918",
          "2020-03-19T00:00:00.017918",
          "2020-03-19T00:00:00.019499",
          "2020-03-19T00:00:00.019546",
          "2020-03-19T00:00:00.019546",
          "2020-03-19T00:00:00.019499",
          "2020-03-19T00:00:00.019499",
          "2020-03-19T00:00:00.020081",
          "2020-03-19T00:00:00.020127",
          "2020-03-19T00:00:00.020127",
          "2020-03-19T00:00:00.020081",
          "2020-03-19T00:00:00.020081",
          "2020-03-19T00:00:00.020629",
          "2020-03-19T00:00:00.020675",
          "2020-03-19T00:00:00.020675",
          "2020-03-19T00:00:00.020629",
          "2020-03-19T00:00:00.020629",
          "2020-03-19T00:00:00.024530",
          "2020-03-19T00:00:00.024575",
          "2020-03-19T00:00:00.024575",
          "2020-03-19T00:00:00.024530",
          "2020-03-19T00:00:00.024530",
          "2020-03-19T00:00:00.017980",
          "2020-03-19T00:00:00.018026",
          "2020-03-19T00:00:00.018026",
          "2020-03-19T00:00:00.017980"
         ],
         "y": [
          16.8,
          16.8,
          17.2,
          17.2,
          null,
          15.8,
          15.8,
          16.2,
          16.2,
          null,
          14.8,
          14.8,
          15.2,
          15.2,
          null,
          9.8,
          9.8,
          10.2,
          10.2,
          null,
          8.8,
          8.8,
          9.2,
          9.2,
          null,
          7.8,
          7.8,
          8.2,
          8.2,
          null,
          6.8,
          6.8,
          7.2,
          7.2,
          null,
          5.8,
          5.8,
          6.2,
          6.2,
          null,
          0.8,
          0.8,
          1.2,
          1.2,
          null,
          -0.2,
          -0.2,
          0.2,
          0.2
         ]
        },
        {
         "fill": "toself",
         "fillcolor": "rgb(220, 0, 0)",
         "hoverinfo": "name",
         "legendgroup": "rgb(220, 0, 0)",
         "mode": "none",
         "name": "nd_range",
         "type": "scatter",
         "x": [
          "2020-03-19T00:00:00.018173",
          "2020-03-19T00:00:00.018912",
          "2020-03-19T00:00:00.018912",
          "2020-03-19T00:00:00.018173",
          "2020-03-19T00:00:00.018173",
          "2020-03-19T00:00:00.018203",
          "2020-03-19T00:00:00.019423",
          "2020-03-19T00:00:00.019423",
          "2020-03-19T00:00:00.018203",
          "2020-03-19T00:00:00.018203",
          "2020-03-19T00:00:00.019075",
          "2020-03-19T00:00:00.019957",
          "2020-03-19T00:00:00.019957",
          "2020-03-19T00:00:00.019075",
          "2020-03-19T00:00:00.019075",
          "2020-03-19T00:00:00.021051",
          "2020-03-19T00:00:00.021427",
          "2020-03-19T00:00:00.021427",
          "2020-03-19T00:00:00.021051",
          "2020-03-19T00:00:00.021051",
          "2020-03-19T00:00:00.021429",
          "2020-03-19T00:00:00.022176",
          "2020-03-19T00:00:00.022176",
          "2020-03-19T00:00:00.021429",
          "2020-03-19T00:00:00.021429",
          "2020-03-19T00:00:00.022178",
          "2020-03-19T00:00:00.023161",
          "2020-03-19T00:00:00.023161",
          "2020-03-19T00:00:00.022178",
          "2020-03-19T00:00:00.022178",
          "2020-03-19T00:00:00.023163",
          "2020-03-19T00:00:00.023926",
          "2020-03-19T00:00:00.023926",
          "2020-03-19T00:00:00.023163",
          "2020-03-19T00:00:00.023163",
          "2020-03-19T00:00:00.024075",
          "2020-03-19T00:00:00.024988",
          "2020-03-19T00:00:00.024988",
          "2020-03-19T00:00:00.024075",
          "2020-03-19T00:00:00.024075",
          "2020-03-19T00:00:00.017968",
          "2020-03-19T00:00:00.017979",
          "2020-03-19T00:00:00.017979",
          "2020-03-19T00:00:00.017968",
          "2020-03-19T00:00:00.017968",
          "2020-03-19T00:00:00.019560",
          "2020-03-19T00:00:00.020520",
          "2020-03-19T00:00:00.020520",
          "2020-03-19T00:00:00.019560",
          "2020-03-19T00:00:00.019560",
          "2020-03-19T00:00:00.020142",
          "2020-03-19T00:00:00.021049",
          "2020-03-19T00:00:00.021049",
          "2020-03-19T00:00:00.020142",
          "2020-03-19T00:00:00.020142",
          "2020-03-19T00:00:00.020680",
          "2020-03-19T00:00:00.021589",
          "2020-03-19T00:00:00.021589",
          "2020-03-19T00:00:00.020680",
          "2020-03-19T00:00:00.020680",
          "2020-03-19T00:00:00.021595",
          "2020-03-19T00:00:00.021985",
          "2020-03-19T00:00:00.021985",
          "2020-03-19T00:00:00.021595",
          "2020-03-19T00:00:00.021595",
          "2020-03-19T00:00:00.021987",
          "2020-03-19T00:00:00.022669",
          "2020-03-19T00:00:00.022669",
          "2020-03-19T00:00:00.021987",
          "2020-03-19T00:00:00.021987",
          "2020-03-19T00:00:00.022670",
          "2020-03-19T00:00:00.023544",
          "2020-03-19T00:00:00.023544",
          "2020-03-19T00:00:00.022670",
          "2020-03-19T00:00:00.022670",
          "2020-03-19T00:00:00.023546",
          "2020-03-19T00:00:00.024437",
          "2020-03-19T00:00:00.024437",
          "2020-03-19T00:00:00.023546",
          "2020-03-19T00:00:00.023546",
          "2020-03-19T00:00:00.024579",
          "2020-03-19T00:00:00.025460",
          "2020-03-19T00:00:00.025460",
          "2020-03-19T00:00:00.024579",
          "2020-03-19T00:00:00.024579",
          "2020-03-19T00:00:00.018030",
          "2020-03-19T00:00:00.018034",
          "2020-03-19T00:00:00.018034",
          "2020-03-19T00:00:00.018030"
         ],
         "y": [
          16.8,
          16.8,
          17.2,
          17.2,
          null,
          15.8,
          15.8,
          16.2,
          16.2,
          null,
          14.8,
          14.8,
          15.2,
          15.2,
          null,
          13.8,
          13.8,
          14.2,
          14.2,
          null,
          12.8,
          12.8,
          13.2,
          13.2,
          null,
          11.8,
          11.8,
          12.2,
          12.2,
          null,
          10.8,
          10.8,
          11.2,
          11.2,
          null,
          9.8,
          9.8,
          10.2,
          10.2,
          null,
          8.8,
          8.8,
          9.2,
          9.2,
          null,
          7.8,
          7.8,
          8.2,
          8.2,
          null,
          6.8,
          6.8,
          7.2,
          7.2,
          null,
          5.8,
          5.8,
          6.2,
          6.2,
          null,
          4.8,
          4.8,
          5.2,
          5.2,
          null,
          3.8,
          3.8,
          4.2,
          4.2,
          null,
          2.8,
          2.8,
          3.2,
          3.2,
          null,
          1.8,
          1.8,
          2.2,
          2.2,
          null,
          0.8,
          0.8,
          1.2,
          1.2,
          null,
          -0.2,
          -0.2,
          0.2,
          0.2
         ]
        },
        {
         "fill": "toself",
         "fillcolor": "rgb(255, 230, 41)",
         "hoverinfo": "name",
         "legendgroup": "rgb(255, 230, 41)",
         "mode": "none",
         "name": "read",
         "type": "scatter",
         "x": [
          "2020-03-19T00:00:00.024995",
          "2020-03-19T00:00:00.025037",
          "2020-03-19T00:00:00.025037",
          "2020-03-19T00:00:00.024995",
          "2020-03-19T00:00:00.024995",
          "2020-03-19T00:00:00.025467",
          "2020-03-19T00:00:00.025509",
          "2020-03-19T00:00:00.025509",
          "2020-03-19T00:00:00.025467"
         ],
         "y": [
          9.8,
          9.8,
          10.2,
          10.2,
          null,
          0.8,
          0.8,
          1.2,
          1.2
         ]
        },
        {
         "legendgroup": "rgb(0, 255, 100)",
         "marker": {
          "color": "rgb(0, 255, 100)",
          "opacity": 0,
          "size": 1
         },
         "mode": "markers",
         "name": "",
         "showlegend": false,
         "text": [
          null,
          null,
          null,
          null,
          null,
          null,
          null,
          null,
          null,
          null,
          null,
          null,
          null,
          null,
          null,
          null,
          null,
          null,
          null,
          null
         ],
         "type": "scatter",
         "x": [
          "2020-03-19T00:00:00.018066",
          "2020-03-19T00:00:00.018111",
          "2020-03-19T00:00:00.018124",
          "2020-03-19T00:00:00.018168",
          "2020-03-19T00:00:00.019025",
          "2020-03-19T00:00:00.019071",
          "2020-03-19T00:00:00.024026",
          "2020-03-19T00:00:00.024072",
          "2020-03-19T00:00:00.017918",
          "2020-03-19T00:00:00.017963",
          "2020-03-19T00:00:00.019499",
          "2020-03-19T00:00:00.019546",
          "2020-03-19T00:00:00.020081",
          "2020-03-19T00:00:00.020127",
          "2020-03-19T00:00:00.020629",
          "2020-03-19T00:00:00.020675",
          "2020-03-19T00:00:00.024530",
          "2020-03-19T00:00:00.024575",
          "2020-03-19T00:00:00.017980",
          "2020-03-19T00:00:00.018026"
         ],
         "y": [
          17,
          17,
          16,
          16,
          15,
          15,
          10,
          10,
          9,
          9,
          8,
          8,
          7,
          7,
          6,
          6,
          1,
          1,
          0,
          0
         ]
        },
        {
         "legendgroup": "rgb(220, 0, 0)",
         "marker": {
          "color": "rgb(220, 0, 0)",
          "opacity": 0,
          "size": 1
         },
         "mode": "markers",
         "name": "",
         "showlegend": false,
         "text": [
          null,
          null,
          null,
          null,
          null,
          null,
          null,
          null,
          null,
          null,
          null,
          null,
          null,
          null,
          null,
          null,
          null,
          null,
          null,
          null,
          null,
          null,
          null,
          null,
          null,
          null,
          null,
          null,
          null,
          null,
          null,
          null,
          null,
          null,
          null,
          null
         ],
         "type": "scatter",
         "x": [
          "2020-03-19T00:00:00.018173",
          "2020-03-19T00:00:00.018912",
          "2020-03-19T00:00:00.018203",
          "2020-03-19T00:00:00.019423",
          "2020-03-19T00:00:00.019075",
          "2020-03-19T00:00:00.019957",
          "2020-03-19T00:00:00.021051",
          "2020-03-19T00:00:00.021427",
          "2020-03-19T00:00:00.021429",
          "2020-03-19T00:00:00.022176",
          "2020-03-19T00:00:00.022178",
          "2020-03-19T00:00:00.023161",
          "2020-03-19T00:00:00.023163",
          "2020-03-19T00:00:00.023926",
          "2020-03-19T00:00:00.024075",
          "2020-03-19T00:00:00.024988",
          "2020-03-19T00:00:00.017968",
          "2020-03-19T00:00:00.017979",
          "2020-03-19T00:00:00.019560",
          "2020-03-19T00:00:00.020520",
          "2020-03-19T00:00:00.020142",
          "2020-03-19T00:00:00.021049",
          "2020-03-19T00:00:00.020680",
          "2020-03-19T00:00:00.021589",
          "2020-03-19T00:00:00.021595",
          "2020-03-19T00:00:00.021985",
          "2020-03-19T00:00:00.021987",
          "2020-03-19T00:00:00.022669",
          "2020-03-19T00:00:00.022670",
          "2020-03-19T00:00:00.023544",
          "2020-03-19T00:00:00.023546",
          "2020-03-19T00:00:00.024437",
          "2020-03-19T00:00:00.024579",
          "2020-03-19T00:00:00.025460",
          "2020-03-19T00:00:00.018030",
          "2020-03-19T00:00:00.018034"
         ],
         "y": [
          17,
          17,
          16,
          16,
          15,
          15,
          14,
          14,
          13,
          13,
          12,
          12,
          11,
          11,
          10,
          10,
          9,
          9,
          8,
          8,
          7,
          7,
          6,
          6,
          5,
          5,
          4,
          4,
          3,
          3,
          2,
          2,
          1,
          1,
          0,
          0
         ]
        },
        {
         "legendgroup": "rgb(255, 230, 41)",
         "marker": {
          "color": "rgb(255, 230, 41)",
          "opacity": 0,
          "size": 1
         },
         "mode": "markers",
         "name": "",
         "showlegend": false,
         "text": [
          null,
          null,
          null,
          null
         ],
         "type": "scatter",
         "x": [
          "2020-03-19T00:00:00.024995",
          "2020-03-19T00:00:00.025037",
          "2020-03-19T00:00:00.025467",
          "2020-03-19T00:00:00.025509"
         ],
         "y": [
          10,
          10,
          1,
          1
         ]
        }
       ],
       "layout": {
        "font": {
         "color": "#7f7f7f",
         "family": "Courier New, monospace",
         "size": 18
        },
        "height": 750,
        "hovermode": "closest",
        "showlegend": true,
        "template": {
         "data": {
          "bar": [
           {
            "error_x": {
             "color": "#2a3f5f"
            },
            "error_y": {
             "color": "#2a3f5f"
            },
            "marker": {
             "line": {
              "color": "#E5ECF6",
              "width": 0.5
             }
            },
            "type": "bar"
           }
          ],
          "barpolar": [
           {
            "marker": {
             "line": {
              "color": "#E5ECF6",
              "width": 0.5
             }
            },
            "type": "barpolar"
           }
          ],
          "carpet": [
           {
            "aaxis": {
             "endlinecolor": "#2a3f5f",
             "gridcolor": "white",
             "linecolor": "white",
             "minorgridcolor": "white",
             "startlinecolor": "#2a3f5f"
            },
            "baxis": {
             "endlinecolor": "#2a3f5f",
             "gridcolor": "white",
             "linecolor": "white",
             "minorgridcolor": "white",
             "startlinecolor": "#2a3f5f"
            },
            "type": "carpet"
           }
          ],
          "choropleth": [
           {
            "colorbar": {
             "outlinewidth": 0,
             "ticks": ""
            },
            "type": "choropleth"
           }
          ],
          "contour": [
           {
            "colorbar": {
             "outlinewidth": 0,
             "ticks": ""
            },
            "colorscale": [
             [
              0,
              "#0d0887"
             ],
             [
              0.1111111111111111,
              "#46039f"
             ],
             [
              0.2222222222222222,
              "#7201a8"
             ],
             [
              0.3333333333333333,
              "#9c179e"
             ],
             [
              0.4444444444444444,
              "#bd3786"
             ],
             [
              0.5555555555555556,
              "#d8576b"
             ],
             [
              0.6666666666666666,
              "#ed7953"
             ],
             [
              0.7777777777777778,
              "#fb9f3a"
             ],
             [
              0.8888888888888888,
              "#fdca26"
             ],
             [
              1,
              "#f0f921"
             ]
            ],
            "type": "contour"
           }
          ],
          "contourcarpet": [
           {
            "colorbar": {
             "outlinewidth": 0,
             "ticks": ""
            },
            "type": "contourcarpet"
           }
          ],
          "heatmap": [
           {
            "colorbar": {
             "outlinewidth": 0,
             "ticks": ""
            },
            "colorscale": [
             [
              0,
              "#0d0887"
             ],
             [
              0.1111111111111111,
              "#46039f"
             ],
             [
              0.2222222222222222,
              "#7201a8"
             ],
             [
              0.3333333333333333,
              "#9c179e"
             ],
             [
              0.4444444444444444,
              "#bd3786"
             ],
             [
              0.5555555555555556,
              "#d8576b"
             ],
             [
              0.6666666666666666,
              "#ed7953"
             ],
             [
              0.7777777777777778,
              "#fb9f3a"
             ],
             [
              0.8888888888888888,
              "#fdca26"
             ],
             [
              1,
              "#f0f921"
             ]
            ],
            "type": "heatmap"
           }
          ],
          "heatmapgl": [
           {
            "colorbar": {
             "outlinewidth": 0,
             "ticks": ""
            },
            "colorscale": [
             [
              0,
              "#0d0887"
             ],
             [
              0.1111111111111111,
              "#46039f"
             ],
             [
              0.2222222222222222,
              "#7201a8"
             ],
             [
              0.3333333333333333,
              "#9c179e"
             ],
             [
              0.4444444444444444,
              "#bd3786"
             ],
             [
              0.5555555555555556,
              "#d8576b"
             ],
             [
              0.6666666666666666,
              "#ed7953"
             ],
             [
              0.7777777777777778,
              "#fb9f3a"
             ],
             [
              0.8888888888888888,
              "#fdca26"
             ],
             [
              1,
              "#f0f921"
             ]
            ],
            "type": "heatmapgl"
           }
          ],
          "histogram": [
           {
            "marker": {
             "colorbar": {
              "outlinewidth": 0,
              "ticks": ""
             }
            },
            "type": "histogram"
           }
          ],
          "histogram2d": [
           {
            "colorbar": {
             "outlinewidth": 0,
             "ticks": ""
            },
            "colorscale": [
             [
              0,
              "#0d0887"
             ],
             [
              0.1111111111111111,
              "#46039f"
             ],
             [
              0.2222222222222222,
              "#7201a8"
             ],
             [
              0.3333333333333333,
              "#9c179e"
             ],
             [
              0.4444444444444444,
              "#bd3786"
             ],
             [
              0.5555555555555556,
              "#d8576b"
             ],
             [
              0.6666666666666666,
              "#ed7953"
             ],
             [
              0.7777777777777778,
              "#fb9f3a"
             ],
             [
              0.8888888888888888,
              "#fdca26"
             ],
             [
              1,
              "#f0f921"
             ]
            ],
            "type": "histogram2d"
           }
          ],
          "histogram2dcontour": [
           {
            "colorbar": {
             "outlinewidth": 0,
             "ticks": ""
            },
            "colorscale": [
             [
              0,
              "#0d0887"
             ],
             [
              0.1111111111111111,
              "#46039f"
             ],
             [
              0.2222222222222222,
              "#7201a8"
             ],
             [
              0.3333333333333333,
              "#9c179e"
             ],
             [
              0.4444444444444444,
              "#bd3786"
             ],
             [
              0.5555555555555556,
              "#d8576b"
             ],
             [
              0.6666666666666666,
              "#ed7953"
             ],
             [
              0.7777777777777778,
              "#fb9f3a"
             ],
             [
              0.8888888888888888,
              "#fdca26"
             ],
             [
              1,
              "#f0f921"
             ]
            ],
            "type": "histogram2dcontour"
           }
          ],
          "mesh3d": [
           {
            "colorbar": {
             "outlinewidth": 0,
             "ticks": ""
            },
            "type": "mesh3d"
           }
          ],
          "parcoords": [
           {
            "line": {
             "colorbar": {
              "outlinewidth": 0,
              "ticks": ""
             }
            },
            "type": "parcoords"
           }
          ],
          "pie": [
           {
            "automargin": true,
            "type": "pie"
           }
          ],
          "scatter": [
           {
            "marker": {
             "colorbar": {
              "outlinewidth": 0,
              "ticks": ""
             }
            },
            "type": "scatter"
           }
          ],
          "scatter3d": [
           {
            "line": {
             "colorbar": {
              "outlinewidth": 0,
              "ticks": ""
             }
            },
            "marker": {
             "colorbar": {
              "outlinewidth": 0,
              "ticks": ""
             }
            },
            "type": "scatter3d"
           }
          ],
          "scattercarpet": [
           {
            "marker": {
             "colorbar": {
              "outlinewidth": 0,
              "ticks": ""
             }
            },
            "type": "scattercarpet"
           }
          ],
          "scattergeo": [
           {
            "marker": {
             "colorbar": {
              "outlinewidth": 0,
              "ticks": ""
             }
            },
            "type": "scattergeo"
           }
          ],
          "scattergl": [
           {
            "marker": {
             "colorbar": {
              "outlinewidth": 0,
              "ticks": ""
             }
            },
            "type": "scattergl"
           }
          ],
          "scattermapbox": [
           {
            "marker": {
             "colorbar": {
              "outlinewidth": 0,
              "ticks": ""
             }
            },
            "type": "scattermapbox"
           }
          ],
          "scatterpolar": [
           {
            "marker": {
             "colorbar": {
              "outlinewidth": 0,
              "ticks": ""
             }
            },
            "type": "scatterpolar"
           }
          ],
          "scatterpolargl": [
           {
            "marker": {
             "colorbar": {
              "outlinewidth": 0,
              "ticks": ""
             }
            },
            "type": "scatterpolargl"
           }
          ],
          "scatterternary": [
           {
            "marker": {
             "colorbar": {
              "outlinewidth": 0,
              "ticks": ""
             }
            },
            "type": "scatterternary"
           }
          ],
          "surface": [
           {
            "colorbar": {
             "outlinewidth": 0,
             "ticks": ""
            },
            "colorscale": [
             [
              0,
              "#0d0887"
             ],
             [
              0.1111111111111111,
              "#46039f"
             ],
             [
              0.2222222222222222,
              "#7201a8"
             ],
             [
              0.3333333333333333,
              "#9c179e"
             ],
             [
              0.4444444444444444,
              "#bd3786"
             ],
             [
              0.5555555555555556,
              "#d8576b"
             ],
             [
              0.6666666666666666,
              "#ed7953"
             ],
             [
              0.7777777777777778,
              "#fb9f3a"
             ],
             [
              0.8888888888888888,
              "#fdca26"
             ],
             [
              1,
              "#f0f921"
             ]
            ],
            "type": "surface"
           }
          ],
          "table": [
           {
            "cells": {
             "fill": {
              "color": "#EBF0F8"
             },
             "line": {
              "color": "white"
             }
            },
            "header": {
             "fill": {
              "color": "#C8D4E3"
             },
             "line": {
              "color": "white"
             }
            },
            "type": "table"
           }
          ]
         },
         "layout": {
          "annotationdefaults": {
           "arrowcolor": "#2a3f5f",
           "arrowhead": 0,
           "arrowwidth": 1
          },
          "coloraxis": {
           "colorbar": {
            "outlinewidth": 0,
            "ticks": ""
           }
          },
          "colorscale": {
           "diverging": [
            [
             0,
             "#8e0152"
            ],
            [
             0.1,
             "#c51b7d"
            ],
            [
             0.2,
             "#de77ae"
            ],
            [
             0.3,
             "#f1b6da"
            ],
            [
             0.4,
             "#fde0ef"
            ],
            [
             0.5,
             "#f7f7f7"
            ],
            [
             0.6,
             "#e6f5d0"
            ],
            [
             0.7,
             "#b8e186"
            ],
            [
             0.8,
             "#7fbc41"
            ],
            [
             0.9,
             "#4d9221"
            ],
            [
             1,
             "#276419"
            ]
           ],
           "sequential": [
            [
             0,
             "#0d0887"
            ],
            [
             0.1111111111111111,
             "#46039f"
            ],
            [
             0.2222222222222222,
             "#7201a8"
            ],
            [
             0.3333333333333333,
             "#9c179e"
            ],
            [
             0.4444444444444444,
             "#bd3786"
            ],
            [
             0.5555555555555556,
             "#d8576b"
            ],
            [
             0.6666666666666666,
             "#ed7953"
            ],
            [
             0.7777777777777778,
             "#fb9f3a"
            ],
            [
             0.8888888888888888,
             "#fdca26"
            ],
            [
             1,
             "#f0f921"
            ]
           ],
           "sequentialminus": [
            [
             0,
             "#0d0887"
            ],
            [
             0.1111111111111111,
             "#46039f"
            ],
            [
             0.2222222222222222,
             "#7201a8"
            ],
            [
             0.3333333333333333,
             "#9c179e"
            ],
            [
             0.4444444444444444,
             "#bd3786"
            ],
            [
             0.5555555555555556,
             "#d8576b"
            ],
            [
             0.6666666666666666,
             "#ed7953"
            ],
            [
             0.7777777777777778,
             "#fb9f3a"
            ],
            [
             0.8888888888888888,
             "#fdca26"
            ],
            [
             1,
             "#f0f921"
            ]
           ]
          },
          "colorway": [
           "#636efa",
           "#EF553B",
           "#00cc96",
           "#ab63fa",
           "#FFA15A",
           "#19d3f3",
           "#FF6692",
           "#B6E880",
           "#FF97FF",
           "#FECB52"
          ],
          "font": {
           "color": "#2a3f5f"
          },
          "geo": {
           "bgcolor": "white",
           "lakecolor": "white",
           "landcolor": "#E5ECF6",
           "showlakes": true,
           "showland": true,
           "subunitcolor": "white"
          },
          "hoverlabel": {
           "align": "left"
          },
          "hovermode": "closest",
          "mapbox": {
           "style": "light"
          },
          "paper_bgcolor": "white",
          "plot_bgcolor": "#E5ECF6",
          "polar": {
           "angularaxis": {
            "gridcolor": "white",
            "linecolor": "white",
            "ticks": ""
           },
           "bgcolor": "#E5ECF6",
           "radialaxis": {
            "gridcolor": "white",
            "linecolor": "white",
            "ticks": ""
           }
          },
          "scene": {
           "xaxis": {
            "backgroundcolor": "#E5ECF6",
            "gridcolor": "white",
            "gridwidth": 2,
            "linecolor": "white",
            "showbackground": true,
            "ticks": "",
            "zerolinecolor": "white"
           },
           "yaxis": {
            "backgroundcolor": "#E5ECF6",
            "gridcolor": "white",
            "gridwidth": 2,
            "linecolor": "white",
            "showbackground": true,
            "ticks": "",
            "zerolinecolor": "white"
           },
           "zaxis": {
            "backgroundcolor": "#E5ECF6",
            "gridcolor": "white",
            "gridwidth": 2,
            "linecolor": "white",
            "showbackground": true,
            "ticks": "",
            "zerolinecolor": "white"
           }
          },
          "shapedefaults": {
           "line": {
            "color": "#2a3f5f"
           }
          },
          "ternary": {
           "aaxis": {
            "gridcolor": "white",
            "linecolor": "white",
            "ticks": ""
           },
           "baxis": {
            "gridcolor": "white",
            "linecolor": "white",
            "ticks": ""
           },
           "bgcolor": "#E5ECF6",
           "caxis": {
            "gridcolor": "white",
            "linecolor": "white",
            "ticks": ""
           }
          },
          "title": {
           "x": 0.05
          },
          "xaxis": {
           "automargin": true,
           "gridcolor": "white",
           "linecolor": "white",
           "ticks": "",
           "title": {
            "standoff": 15
           },
           "zerolinecolor": "white",
           "zerolinewidth": 2
          },
          "yaxis": {
           "automargin": true,
           "gridcolor": "white",
           "linecolor": "white",
           "ticks": "",
           "title": {
            "standoff": 15
           },
           "zerolinecolor": "white",
           "zerolinewidth": 2
          }
         }
        },
        "title": {
         "text": "Transformer 2 heads -  GPU, CQ 2 Total Time 0.0255s"
        },
        "width": 1000,
        "xaxis": {
         "range": [
          "2020-03-19T00:00:00.017000",
          "2020-03-19T00:00:00.030000"
         ],
         "rangeselector": {
          "buttons": [
           {
            "count": 7,
            "label": "1w",
            "step": "day",
            "stepmode": "backward"
           },
           {
            "count": 1,
            "label": "1m",
            "step": "month",
            "stepmode": "backward"
           },
           {
            "count": 6,
            "label": "6m",
            "step": "month",
            "stepmode": "backward"
           },
           {
            "count": 1,
            "label": "YTD",
            "step": "year",
            "stepmode": "todate"
           },
           {
            "count": 1,
            "label": "1y",
            "step": "year",
            "stepmode": "backward"
           },
           {
            "step": "all"
           }
          ]
         },
         "showgrid": false,
         "tickformat": "%-L",
         "title": {
          "text": "Time (milli seconds)"
         },
         "type": "date",
         "zeroline": false
        },
        "yaxis": {
         "autorange": false,
         "range": [
          -1,
          19
         ],
         "showgrid": false,
         "ticktext": [
          "17_copy",
          "16_gemm",
          "15_gemm",
          "14_softmax",
          "13_gemm",
          "12_transpose",
          "11_gemm",
          "10_gemm",
          "9_gemm",
          "8_copy",
          "7_gemm",
          "6_gemm",
          "5_softmax",
          "4_gemm",
          "3_transpose",
          "2_gemm",
          "1_gemm",
          "0_gemm"
         ],
         "tickvals": [
          0,
          1,
          2,
          3,
          4,
          5,
          6,
          7,
          8,
          9,
          10,
          11,
          12,
          13,
          14,
          15,
          16,
          17
         ],
         "title": {
          "text": "Kernel"
         },
         "zeroline": false
        }
       }
      },
      "text/html": [
       "<div>\n",
       "        \n",
       "        \n",
       "            <div id=\"cc13d4c4-d390-4d4a-a6c6-803bac47bdab\" class=\"plotly-graph-div\" style=\"height:750px; width:1000px;\"></div>\n",
       "            <script type=\"text/javascript\">\n",
       "                require([\"plotly\"], function(Plotly) {\n",
       "                    window.PLOTLYENV=window.PLOTLYENV || {};\n",
       "                    \n",
       "                if (document.getElementById(\"cc13d4c4-d390-4d4a-a6c6-803bac47bdab\")) {\n",
       "                    Plotly.newPlot(\n",
       "                        'cc13d4c4-d390-4d4a-a6c6-803bac47bdab',\n",
       "                        [{\"fill\": \"toself\", \"fillcolor\": \"rgb(0, 255, 100)\", \"hoverinfo\": \"name\", \"legendgroup\": \"rgb(0, 255, 100)\", \"mode\": \"none\", \"name\": \"write\", \"type\": \"scatter\", \"x\": [\"2020-03-19T00:00:00.018066\", \"2020-03-19T00:00:00.018111\", \"2020-03-19T00:00:00.018111\", \"2020-03-19T00:00:00.018066\", \"2020-03-19T00:00:00.018066\", \"2020-03-19T00:00:00.018124\", \"2020-03-19T00:00:00.018168\", \"2020-03-19T00:00:00.018168\", \"2020-03-19T00:00:00.018124\", \"2020-03-19T00:00:00.018124\", \"2020-03-19T00:00:00.019025\", \"2020-03-19T00:00:00.019071\", \"2020-03-19T00:00:00.019071\", \"2020-03-19T00:00:00.019025\", \"2020-03-19T00:00:00.019025\", \"2020-03-19T00:00:00.024026\", \"2020-03-19T00:00:00.024072\", \"2020-03-19T00:00:00.024072\", \"2020-03-19T00:00:00.024026\", \"2020-03-19T00:00:00.024026\", \"2020-03-19T00:00:00.017918\", \"2020-03-19T00:00:00.017963\", \"2020-03-19T00:00:00.017963\", \"2020-03-19T00:00:00.017918\", \"2020-03-19T00:00:00.017918\", \"2020-03-19T00:00:00.019499\", \"2020-03-19T00:00:00.019546\", \"2020-03-19T00:00:00.019546\", \"2020-03-19T00:00:00.019499\", \"2020-03-19T00:00:00.019499\", \"2020-03-19T00:00:00.020081\", \"2020-03-19T00:00:00.020127\", \"2020-03-19T00:00:00.020127\", \"2020-03-19T00:00:00.020081\", \"2020-03-19T00:00:00.020081\", \"2020-03-19T00:00:00.020629\", \"2020-03-19T00:00:00.020675\", \"2020-03-19T00:00:00.020675\", \"2020-03-19T00:00:00.020629\", \"2020-03-19T00:00:00.020629\", \"2020-03-19T00:00:00.024530\", \"2020-03-19T00:00:00.024575\", \"2020-03-19T00:00:00.024575\", \"2020-03-19T00:00:00.024530\", \"2020-03-19T00:00:00.024530\", \"2020-03-19T00:00:00.017980\", \"2020-03-19T00:00:00.018026\", \"2020-03-19T00:00:00.018026\", \"2020-03-19T00:00:00.017980\"], \"y\": [16.8, 16.8, 17.2, 17.2, null, 15.8, 15.8, 16.2, 16.2, null, 14.8, 14.8, 15.2, 15.2, null, 9.8, 9.8, 10.2, 10.2, null, 8.8, 8.8, 9.2, 9.2, null, 7.8, 7.8, 8.2, 8.2, null, 6.8, 6.8, 7.2, 7.2, null, 5.8, 5.8, 6.2, 6.2, null, 0.8, 0.8, 1.2, 1.2, null, -0.2, -0.2, 0.2, 0.2]}, {\"fill\": \"toself\", \"fillcolor\": \"rgb(220, 0, 0)\", \"hoverinfo\": \"name\", \"legendgroup\": \"rgb(220, 0, 0)\", \"mode\": \"none\", \"name\": \"nd_range\", \"type\": \"scatter\", \"x\": [\"2020-03-19T00:00:00.018173\", \"2020-03-19T00:00:00.018912\", \"2020-03-19T00:00:00.018912\", \"2020-03-19T00:00:00.018173\", \"2020-03-19T00:00:00.018173\", \"2020-03-19T00:00:00.018203\", \"2020-03-19T00:00:00.019423\", \"2020-03-19T00:00:00.019423\", \"2020-03-19T00:00:00.018203\", \"2020-03-19T00:00:00.018203\", \"2020-03-19T00:00:00.019075\", \"2020-03-19T00:00:00.019957\", \"2020-03-19T00:00:00.019957\", \"2020-03-19T00:00:00.019075\", \"2020-03-19T00:00:00.019075\", \"2020-03-19T00:00:00.021051\", \"2020-03-19T00:00:00.021427\", \"2020-03-19T00:00:00.021427\", \"2020-03-19T00:00:00.021051\", \"2020-03-19T00:00:00.021051\", \"2020-03-19T00:00:00.021429\", \"2020-03-19T00:00:00.022176\", \"2020-03-19T00:00:00.022176\", \"2020-03-19T00:00:00.021429\", \"2020-03-19T00:00:00.021429\", \"2020-03-19T00:00:00.022178\", \"2020-03-19T00:00:00.023161\", \"2020-03-19T00:00:00.023161\", \"2020-03-19T00:00:00.022178\", \"2020-03-19T00:00:00.022178\", \"2020-03-19T00:00:00.023163\", \"2020-03-19T00:00:00.023926\", \"2020-03-19T00:00:00.023926\", \"2020-03-19T00:00:00.023163\", \"2020-03-19T00:00:00.023163\", \"2020-03-19T00:00:00.024075\", \"2020-03-19T00:00:00.024988\", \"2020-03-19T00:00:00.024988\", \"2020-03-19T00:00:00.024075\", \"2020-03-19T00:00:00.024075\", \"2020-03-19T00:00:00.017968\", \"2020-03-19T00:00:00.017979\", \"2020-03-19T00:00:00.017979\", \"2020-03-19T00:00:00.017968\", \"2020-03-19T00:00:00.017968\", \"2020-03-19T00:00:00.019560\", \"2020-03-19T00:00:00.020520\", \"2020-03-19T00:00:00.020520\", \"2020-03-19T00:00:00.019560\", \"2020-03-19T00:00:00.019560\", \"2020-03-19T00:00:00.020142\", \"2020-03-19T00:00:00.021049\", \"2020-03-19T00:00:00.021049\", \"2020-03-19T00:00:00.020142\", \"2020-03-19T00:00:00.020142\", \"2020-03-19T00:00:00.020680\", \"2020-03-19T00:00:00.021589\", \"2020-03-19T00:00:00.021589\", \"2020-03-19T00:00:00.020680\", \"2020-03-19T00:00:00.020680\", \"2020-03-19T00:00:00.021595\", \"2020-03-19T00:00:00.021985\", \"2020-03-19T00:00:00.021985\", \"2020-03-19T00:00:00.021595\", \"2020-03-19T00:00:00.021595\", \"2020-03-19T00:00:00.021987\", \"2020-03-19T00:00:00.022669\", \"2020-03-19T00:00:00.022669\", \"2020-03-19T00:00:00.021987\", \"2020-03-19T00:00:00.021987\", \"2020-03-19T00:00:00.022670\", \"2020-03-19T00:00:00.023544\", \"2020-03-19T00:00:00.023544\", \"2020-03-19T00:00:00.022670\", \"2020-03-19T00:00:00.022670\", \"2020-03-19T00:00:00.023546\", \"2020-03-19T00:00:00.024437\", \"2020-03-19T00:00:00.024437\", \"2020-03-19T00:00:00.023546\", \"2020-03-19T00:00:00.023546\", \"2020-03-19T00:00:00.024579\", \"2020-03-19T00:00:00.025460\", \"2020-03-19T00:00:00.025460\", \"2020-03-19T00:00:00.024579\", \"2020-03-19T00:00:00.024579\", \"2020-03-19T00:00:00.018030\", \"2020-03-19T00:00:00.018034\", \"2020-03-19T00:00:00.018034\", \"2020-03-19T00:00:00.018030\"], \"y\": [16.8, 16.8, 17.2, 17.2, null, 15.8, 15.8, 16.2, 16.2, null, 14.8, 14.8, 15.2, 15.2, null, 13.8, 13.8, 14.2, 14.2, null, 12.8, 12.8, 13.2, 13.2, null, 11.8, 11.8, 12.2, 12.2, null, 10.8, 10.8, 11.2, 11.2, null, 9.8, 9.8, 10.2, 10.2, null, 8.8, 8.8, 9.2, 9.2, null, 7.8, 7.8, 8.2, 8.2, null, 6.8, 6.8, 7.2, 7.2, null, 5.8, 5.8, 6.2, 6.2, null, 4.8, 4.8, 5.2, 5.2, null, 3.8, 3.8, 4.2, 4.2, null, 2.8, 2.8, 3.2, 3.2, null, 1.8, 1.8, 2.2, 2.2, null, 0.8, 0.8, 1.2, 1.2, null, -0.2, -0.2, 0.2, 0.2]}, {\"fill\": \"toself\", \"fillcolor\": \"rgb(255, 230, 41)\", \"hoverinfo\": \"name\", \"legendgroup\": \"rgb(255, 230, 41)\", \"mode\": \"none\", \"name\": \"read\", \"type\": \"scatter\", \"x\": [\"2020-03-19T00:00:00.024995\", \"2020-03-19T00:00:00.025037\", \"2020-03-19T00:00:00.025037\", \"2020-03-19T00:00:00.024995\", \"2020-03-19T00:00:00.024995\", \"2020-03-19T00:00:00.025467\", \"2020-03-19T00:00:00.025509\", \"2020-03-19T00:00:00.025509\", \"2020-03-19T00:00:00.025467\"], \"y\": [9.8, 9.8, 10.2, 10.2, null, 0.8, 0.8, 1.2, 1.2]}, {\"legendgroup\": \"rgb(0, 255, 100)\", \"marker\": {\"color\": \"rgb(0, 255, 100)\", \"opacity\": 0, \"size\": 1}, \"mode\": \"markers\", \"name\": \"\", \"showlegend\": false, \"text\": [null, null, null, null, null, null, null, null, null, null, null, null, null, null, null, null, null, null, null, null], \"type\": \"scatter\", \"x\": [\"2020-03-19T00:00:00.018066\", \"2020-03-19T00:00:00.018111\", \"2020-03-19T00:00:00.018124\", \"2020-03-19T00:00:00.018168\", \"2020-03-19T00:00:00.019025\", \"2020-03-19T00:00:00.019071\", \"2020-03-19T00:00:00.024026\", \"2020-03-19T00:00:00.024072\", \"2020-03-19T00:00:00.017918\", \"2020-03-19T00:00:00.017963\", \"2020-03-19T00:00:00.019499\", \"2020-03-19T00:00:00.019546\", \"2020-03-19T00:00:00.020081\", \"2020-03-19T00:00:00.020127\", \"2020-03-19T00:00:00.020629\", \"2020-03-19T00:00:00.020675\", \"2020-03-19T00:00:00.024530\", \"2020-03-19T00:00:00.024575\", \"2020-03-19T00:00:00.017980\", \"2020-03-19T00:00:00.018026\"], \"y\": [17, 17, 16, 16, 15, 15, 10, 10, 9, 9, 8, 8, 7, 7, 6, 6, 1, 1, 0, 0]}, {\"legendgroup\": \"rgb(220, 0, 0)\", \"marker\": {\"color\": \"rgb(220, 0, 0)\", \"opacity\": 0, \"size\": 1}, \"mode\": \"markers\", \"name\": \"\", \"showlegend\": false, \"text\": [null, null, null, null, null, null, null, null, null, null, null, null, null, null, null, null, null, null, null, null, null, null, null, null, null, null, null, null, null, null, null, null, null, null, null, null], \"type\": \"scatter\", \"x\": [\"2020-03-19T00:00:00.018173\", \"2020-03-19T00:00:00.018912\", \"2020-03-19T00:00:00.018203\", \"2020-03-19T00:00:00.019423\", \"2020-03-19T00:00:00.019075\", \"2020-03-19T00:00:00.019957\", \"2020-03-19T00:00:00.021051\", \"2020-03-19T00:00:00.021427\", \"2020-03-19T00:00:00.021429\", \"2020-03-19T00:00:00.022176\", \"2020-03-19T00:00:00.022178\", \"2020-03-19T00:00:00.023161\", \"2020-03-19T00:00:00.023163\", \"2020-03-19T00:00:00.023926\", \"2020-03-19T00:00:00.024075\", \"2020-03-19T00:00:00.024988\", \"2020-03-19T00:00:00.017968\", \"2020-03-19T00:00:00.017979\", \"2020-03-19T00:00:00.019560\", \"2020-03-19T00:00:00.020520\", \"2020-03-19T00:00:00.020142\", \"2020-03-19T00:00:00.021049\", \"2020-03-19T00:00:00.020680\", \"2020-03-19T00:00:00.021589\", \"2020-03-19T00:00:00.021595\", \"2020-03-19T00:00:00.021985\", \"2020-03-19T00:00:00.021987\", \"2020-03-19T00:00:00.022669\", \"2020-03-19T00:00:00.022670\", \"2020-03-19T00:00:00.023544\", \"2020-03-19T00:00:00.023546\", \"2020-03-19T00:00:00.024437\", \"2020-03-19T00:00:00.024579\", \"2020-03-19T00:00:00.025460\", \"2020-03-19T00:00:00.018030\", \"2020-03-19T00:00:00.018034\"], \"y\": [17, 17, 16, 16, 15, 15, 14, 14, 13, 13, 12, 12, 11, 11, 10, 10, 9, 9, 8, 8, 7, 7, 6, 6, 5, 5, 4, 4, 3, 3, 2, 2, 1, 1, 0, 0]}, {\"legendgroup\": \"rgb(255, 230, 41)\", \"marker\": {\"color\": \"rgb(255, 230, 41)\", \"opacity\": 0, \"size\": 1}, \"mode\": \"markers\", \"name\": \"\", \"showlegend\": false, \"text\": [null, null, null, null], \"type\": \"scatter\", \"x\": [\"2020-03-19T00:00:00.024995\", \"2020-03-19T00:00:00.025037\", \"2020-03-19T00:00:00.025467\", \"2020-03-19T00:00:00.025509\"], \"y\": [10, 10, 1, 1]}],\n",
       "                        {\"font\": {\"color\": \"#7f7f7f\", \"family\": \"Courier New, monospace\", \"size\": 18}, \"height\": 750, \"hovermode\": \"closest\", \"showlegend\": true, \"template\": {\"data\": {\"bar\": [{\"error_x\": {\"color\": \"#2a3f5f\"}, \"error_y\": {\"color\": \"#2a3f5f\"}, \"marker\": {\"line\": {\"color\": \"#E5ECF6\", \"width\": 0.5}}, \"type\": \"bar\"}], \"barpolar\": [{\"marker\": {\"line\": {\"color\": \"#E5ECF6\", \"width\": 0.5}}, \"type\": \"barpolar\"}], \"carpet\": [{\"aaxis\": {\"endlinecolor\": \"#2a3f5f\", \"gridcolor\": \"white\", \"linecolor\": \"white\", \"minorgridcolor\": \"white\", \"startlinecolor\": \"#2a3f5f\"}, \"baxis\": {\"endlinecolor\": \"#2a3f5f\", \"gridcolor\": \"white\", \"linecolor\": \"white\", \"minorgridcolor\": \"white\", \"startlinecolor\": \"#2a3f5f\"}, \"type\": \"carpet\"}], \"choropleth\": [{\"colorbar\": {\"outlinewidth\": 0, \"ticks\": \"\"}, \"type\": \"choropleth\"}], \"contour\": [{\"colorbar\": {\"outlinewidth\": 0, \"ticks\": \"\"}, \"colorscale\": [[0.0, \"#0d0887\"], [0.1111111111111111, \"#46039f\"], [0.2222222222222222, \"#7201a8\"], [0.3333333333333333, \"#9c179e\"], [0.4444444444444444, \"#bd3786\"], [0.5555555555555556, \"#d8576b\"], [0.6666666666666666, \"#ed7953\"], [0.7777777777777778, \"#fb9f3a\"], [0.8888888888888888, \"#fdca26\"], [1.0, \"#f0f921\"]], \"type\": \"contour\"}], \"contourcarpet\": [{\"colorbar\": {\"outlinewidth\": 0, \"ticks\": \"\"}, \"type\": \"contourcarpet\"}], \"heatmap\": [{\"colorbar\": {\"outlinewidth\": 0, \"ticks\": \"\"}, \"colorscale\": [[0.0, \"#0d0887\"], [0.1111111111111111, \"#46039f\"], [0.2222222222222222, \"#7201a8\"], [0.3333333333333333, \"#9c179e\"], [0.4444444444444444, \"#bd3786\"], [0.5555555555555556, \"#d8576b\"], [0.6666666666666666, \"#ed7953\"], [0.7777777777777778, \"#fb9f3a\"], [0.8888888888888888, \"#fdca26\"], [1.0, \"#f0f921\"]], \"type\": \"heatmap\"}], \"heatmapgl\": [{\"colorbar\": {\"outlinewidth\": 0, \"ticks\": \"\"}, \"colorscale\": [[0.0, \"#0d0887\"], [0.1111111111111111, \"#46039f\"], [0.2222222222222222, \"#7201a8\"], [0.3333333333333333, \"#9c179e\"], [0.4444444444444444, \"#bd3786\"], [0.5555555555555556, \"#d8576b\"], [0.6666666666666666, \"#ed7953\"], [0.7777777777777778, \"#fb9f3a\"], [0.8888888888888888, \"#fdca26\"], [1.0, \"#f0f921\"]], \"type\": \"heatmapgl\"}], \"histogram\": [{\"marker\": {\"colorbar\": {\"outlinewidth\": 0, \"ticks\": \"\"}}, \"type\": \"histogram\"}], \"histogram2d\": [{\"colorbar\": {\"outlinewidth\": 0, \"ticks\": \"\"}, \"colorscale\": [[0.0, \"#0d0887\"], [0.1111111111111111, \"#46039f\"], [0.2222222222222222, \"#7201a8\"], [0.3333333333333333, \"#9c179e\"], [0.4444444444444444, \"#bd3786\"], [0.5555555555555556, \"#d8576b\"], [0.6666666666666666, \"#ed7953\"], [0.7777777777777778, \"#fb9f3a\"], [0.8888888888888888, \"#fdca26\"], [1.0, \"#f0f921\"]], \"type\": \"histogram2d\"}], \"histogram2dcontour\": [{\"colorbar\": {\"outlinewidth\": 0, \"ticks\": \"\"}, \"colorscale\": [[0.0, \"#0d0887\"], [0.1111111111111111, \"#46039f\"], [0.2222222222222222, \"#7201a8\"], [0.3333333333333333, \"#9c179e\"], [0.4444444444444444, \"#bd3786\"], [0.5555555555555556, \"#d8576b\"], [0.6666666666666666, \"#ed7953\"], [0.7777777777777778, \"#fb9f3a\"], [0.8888888888888888, \"#fdca26\"], [1.0, \"#f0f921\"]], \"type\": \"histogram2dcontour\"}], \"mesh3d\": [{\"colorbar\": {\"outlinewidth\": 0, \"ticks\": \"\"}, \"type\": \"mesh3d\"}], \"parcoords\": [{\"line\": {\"colorbar\": {\"outlinewidth\": 0, \"ticks\": \"\"}}, \"type\": \"parcoords\"}], \"pie\": [{\"automargin\": true, \"type\": \"pie\"}], \"scatter\": [{\"marker\": {\"colorbar\": {\"outlinewidth\": 0, \"ticks\": \"\"}}, \"type\": \"scatter\"}], \"scatter3d\": [{\"line\": {\"colorbar\": {\"outlinewidth\": 0, \"ticks\": \"\"}}, \"marker\": {\"colorbar\": {\"outlinewidth\": 0, \"ticks\": \"\"}}, \"type\": \"scatter3d\"}], \"scattercarpet\": [{\"marker\": {\"colorbar\": {\"outlinewidth\": 0, \"ticks\": \"\"}}, \"type\": \"scattercarpet\"}], \"scattergeo\": [{\"marker\": {\"colorbar\": {\"outlinewidth\": 0, \"ticks\": \"\"}}, \"type\": \"scattergeo\"}], \"scattergl\": [{\"marker\": {\"colorbar\": {\"outlinewidth\": 0, \"ticks\": \"\"}}, \"type\": \"scattergl\"}], \"scattermapbox\": [{\"marker\": {\"colorbar\": {\"outlinewidth\": 0, \"ticks\": \"\"}}, \"type\": \"scattermapbox\"}], \"scatterpolar\": [{\"marker\": {\"colorbar\": {\"outlinewidth\": 0, \"ticks\": \"\"}}, \"type\": \"scatterpolar\"}], \"scatterpolargl\": [{\"marker\": {\"colorbar\": {\"outlinewidth\": 0, \"ticks\": \"\"}}, \"type\": \"scatterpolargl\"}], \"scatterternary\": [{\"marker\": {\"colorbar\": {\"outlinewidth\": 0, \"ticks\": \"\"}}, \"type\": \"scatterternary\"}], \"surface\": [{\"colorbar\": {\"outlinewidth\": 0, \"ticks\": \"\"}, \"colorscale\": [[0.0, \"#0d0887\"], [0.1111111111111111, \"#46039f\"], [0.2222222222222222, \"#7201a8\"], [0.3333333333333333, \"#9c179e\"], [0.4444444444444444, \"#bd3786\"], [0.5555555555555556, \"#d8576b\"], [0.6666666666666666, \"#ed7953\"], [0.7777777777777778, \"#fb9f3a\"], [0.8888888888888888, \"#fdca26\"], [1.0, \"#f0f921\"]], \"type\": \"surface\"}], \"table\": [{\"cells\": {\"fill\": {\"color\": \"#EBF0F8\"}, \"line\": {\"color\": \"white\"}}, \"header\": {\"fill\": {\"color\": \"#C8D4E3\"}, \"line\": {\"color\": \"white\"}}, \"type\": \"table\"}]}, \"layout\": {\"annotationdefaults\": {\"arrowcolor\": \"#2a3f5f\", \"arrowhead\": 0, \"arrowwidth\": 1}, \"coloraxis\": {\"colorbar\": {\"outlinewidth\": 0, \"ticks\": \"\"}}, \"colorscale\": {\"diverging\": [[0, \"#8e0152\"], [0.1, \"#c51b7d\"], [0.2, \"#de77ae\"], [0.3, \"#f1b6da\"], [0.4, \"#fde0ef\"], [0.5, \"#f7f7f7\"], [0.6, \"#e6f5d0\"], [0.7, \"#b8e186\"], [0.8, \"#7fbc41\"], [0.9, \"#4d9221\"], [1, \"#276419\"]], \"sequential\": [[0.0, \"#0d0887\"], [0.1111111111111111, \"#46039f\"], [0.2222222222222222, \"#7201a8\"], [0.3333333333333333, \"#9c179e\"], [0.4444444444444444, \"#bd3786\"], [0.5555555555555556, \"#d8576b\"], [0.6666666666666666, \"#ed7953\"], [0.7777777777777778, \"#fb9f3a\"], [0.8888888888888888, \"#fdca26\"], [1.0, \"#f0f921\"]], \"sequentialminus\": [[0.0, \"#0d0887\"], [0.1111111111111111, \"#46039f\"], [0.2222222222222222, \"#7201a8\"], [0.3333333333333333, \"#9c179e\"], [0.4444444444444444, \"#bd3786\"], [0.5555555555555556, \"#d8576b\"], [0.6666666666666666, \"#ed7953\"], [0.7777777777777778, \"#fb9f3a\"], [0.8888888888888888, \"#fdca26\"], [1.0, \"#f0f921\"]]}, \"colorway\": [\"#636efa\", \"#EF553B\", \"#00cc96\", \"#ab63fa\", \"#FFA15A\", \"#19d3f3\", \"#FF6692\", \"#B6E880\", \"#FF97FF\", \"#FECB52\"], \"font\": {\"color\": \"#2a3f5f\"}, \"geo\": {\"bgcolor\": \"white\", \"lakecolor\": \"white\", \"landcolor\": \"#E5ECF6\", \"showlakes\": true, \"showland\": true, \"subunitcolor\": \"white\"}, \"hoverlabel\": {\"align\": \"left\"}, \"hovermode\": \"closest\", \"mapbox\": {\"style\": \"light\"}, \"paper_bgcolor\": \"white\", \"plot_bgcolor\": \"#E5ECF6\", \"polar\": {\"angularaxis\": {\"gridcolor\": \"white\", \"linecolor\": \"white\", \"ticks\": \"\"}, \"bgcolor\": \"#E5ECF6\", \"radialaxis\": {\"gridcolor\": \"white\", \"linecolor\": \"white\", \"ticks\": \"\"}}, \"scene\": {\"xaxis\": {\"backgroundcolor\": \"#E5ECF6\", \"gridcolor\": \"white\", \"gridwidth\": 2, \"linecolor\": \"white\", \"showbackground\": true, \"ticks\": \"\", \"zerolinecolor\": \"white\"}, \"yaxis\": {\"backgroundcolor\": \"#E5ECF6\", \"gridcolor\": \"white\", \"gridwidth\": 2, \"linecolor\": \"white\", \"showbackground\": true, \"ticks\": \"\", \"zerolinecolor\": \"white\"}, \"zaxis\": {\"backgroundcolor\": \"#E5ECF6\", \"gridcolor\": \"white\", \"gridwidth\": 2, \"linecolor\": \"white\", \"showbackground\": true, \"ticks\": \"\", \"zerolinecolor\": \"white\"}}, \"shapedefaults\": {\"line\": {\"color\": \"#2a3f5f\"}}, \"ternary\": {\"aaxis\": {\"gridcolor\": \"white\", \"linecolor\": \"white\", \"ticks\": \"\"}, \"baxis\": {\"gridcolor\": \"white\", \"linecolor\": \"white\", \"ticks\": \"\"}, \"bgcolor\": \"#E5ECF6\", \"caxis\": {\"gridcolor\": \"white\", \"linecolor\": \"white\", \"ticks\": \"\"}}, \"title\": {\"x\": 0.05}, \"xaxis\": {\"automargin\": true, \"gridcolor\": \"white\", \"linecolor\": \"white\", \"ticks\": \"\", \"title\": {\"standoff\": 15}, \"zerolinecolor\": \"white\", \"zerolinewidth\": 2}, \"yaxis\": {\"automargin\": true, \"gridcolor\": \"white\", \"linecolor\": \"white\", \"ticks\": \"\", \"title\": {\"standoff\": 15}, \"zerolinecolor\": \"white\", \"zerolinewidth\": 2}}}, \"title\": {\"text\": \"Transformer 2 heads -  GPU, CQ 2 Total Time 0.0255s\"}, \"width\": 1000, \"xaxis\": {\"range\": [\"2020-03-19T00:00:00.017000\", \"2020-03-19T00:00:00.030000\"], \"rangeselector\": {\"buttons\": [{\"count\": 7, \"label\": \"1w\", \"step\": \"day\", \"stepmode\": \"backward\"}, {\"count\": 1, \"label\": \"1m\", \"step\": \"month\", \"stepmode\": \"backward\"}, {\"count\": 6, \"label\": \"6m\", \"step\": \"month\", \"stepmode\": \"backward\"}, {\"count\": 1, \"label\": \"YTD\", \"step\": \"year\", \"stepmode\": \"todate\"}, {\"count\": 1, \"label\": \"1y\", \"step\": \"year\", \"stepmode\": \"backward\"}, {\"step\": \"all\"}]}, \"showgrid\": false, \"tickformat\": \"%-L\", \"title\": {\"text\": \"Time (milli seconds)\"}, \"type\": \"date\", \"zeroline\": false}, \"yaxis\": {\"autorange\": false, \"range\": [-1, 19], \"showgrid\": false, \"ticktext\": [\"17_copy\", \"16_gemm\", \"15_gemm\", \"14_softmax\", \"13_gemm\", \"12_transpose\", \"11_gemm\", \"10_gemm\", \"9_gemm\", \"8_copy\", \"7_gemm\", \"6_gemm\", \"5_softmax\", \"4_gemm\", \"3_transpose\", \"2_gemm\", \"1_gemm\", \"0_gemm\"], \"tickvals\": [0, 1, 2, 3, 4, 5, 6, 7, 8, 9, 10, 11, 12, 13, 14, 15, 16, 17], \"title\": {\"text\": \"Kernel\"}, \"zeroline\": false}},\n",
       "                        {\"responsive\": true}\n",
       "                    ).then(function(){\n",
       "                            \n",
       "var gd = document.getElementById('cc13d4c4-d390-4d4a-a6c6-803bac47bdab');\n",
       "var x = new MutationObserver(function (mutations, observer) {{\n",
       "        var display = window.getComputedStyle(gd).display;\n",
       "        if (!display || display === 'none') {{\n",
       "            console.log([gd, 'removed!']);\n",
       "            Plotly.purge(gd);\n",
       "            observer.disconnect();\n",
       "        }}\n",
       "}});\n",
       "\n",
       "// Listen for the removal of the full notebook cells\n",
       "var notebookContainer = gd.closest('#notebook-container');\n",
       "if (notebookContainer) {{\n",
       "    x.observe(notebookContainer, {childList: true});\n",
       "}}\n",
       "\n",
       "// Listen for the clearing of the current output cell\n",
       "var outputEl = gd.closest('.output');\n",
       "if (outputEl) {{\n",
       "    x.observe(outputEl, {childList: true});\n",
       "}}\n",
       "\n",
       "                        })\n",
       "                };\n",
       "                });\n",
       "            </script>\n",
       "        </div>"
      ]
     },
     "metadata": {},
     "output_type": "display_data"
    }
   ],
   "source": [
    "df = []\n",
    "kernels = {}\n",
    "\n",
    "\n",
    "\n",
    "\n",
    "for kernel,events in relative_timestamps.items():\n",
    "    dev = events[\"device\"]\n",
    "    Task = \"{}-{}\".format(kernel,dev)\n",
    "    ##events -> write,read,nd_range\n",
    "    ##event  -> device_queued,device_start,device-end\n",
    "#         for interval in intervals:\n",
    "#             Resource=event\n",
    "#             Start = now + timedelta(seconds=interval[0])\n",
    "#             Finish = now + timedelta(seconds=interval[1])\n",
    "#             df.append(dict(Task=Task,Start=Start,Finish=Finish,Resource=Resource))\n",
    "\n",
    "    \n",
    "    if events[\"write\"][\"device_start\"] > 0:\n",
    "        #write_overhead_start = to_time_delta(events[\"write\"][\"host_queued\"])\n",
    "        write_event_start = write_overhead_end = to_time_delta(events[\"write\"][\"device_start\"])\n",
    "        write_event_end = to_time_delta(events[\"write\"][\"device_end\"])\n",
    "        #df.append(dict(Task=Task,Start=write_overhead_start,Finish=write_overhead_end,Resource='overhead'))\n",
    "        df.append(dict(Task=Task,Start=write_event_start,Finish=write_event_end,Resource='write'))\n",
    "    \n",
    "\n",
    "    \n",
    "    \n",
    "    exec_event_start  = to_time_delta(events[\"nd_range\"][\"device_start\"])\n",
    "    exec_event_end = to_time_delta(events[\"nd_range\"][\"device_end\"])\n",
    "    df.append(dict(Task=Task,Start=exec_event_start,Finish=exec_event_end,Resource='nd_range'))\n",
    "    \n",
    "    \n",
    "    if events[\"read\"][\"device_start\"] > 0:\n",
    "        read_event_start = to_time_delta(events[\"read\"][\"device_start\"])\n",
    "        read_overhead_start = read_event_end = to_time_delta(events[\"read\"][\"device_end\"])\n",
    "    #read_overhead_end = to_time_delta(events[\"read\"][\"host_end\"])\n",
    "        df.append(dict(Task=Task,Start=read_event_start,Finish=read_event_end,Resource='read'))\n",
    "    #df.append(dict(Task=Task,Start=read_overhead_start,Finish=read_overhead_end,Resource='overhead'))\n",
    "    \n",
    "\n",
    "#print(df)\n",
    "    \n",
    "    \n",
    "# df = [dict(Task=\"Job-1\", Start='2017-01-01', Finish='2017-02-02', Resource='Complete'),\n",
    "#       dict(Task=\"Job-1\", Start='2017-02-15', Finish='2017-03-15', Resource='Incomplete'),\n",
    "#       dict(Task=\"Job-2\", Start='2017-01-17', Finish='2017-02-17', Resource='Not Started'),\n",
    "#       dict(Task=\"Job-2\", Start='2017-01-17', Finish='2017-02-17', Resource='Complete'),\n",
    "#       dict(Task=\"Job-3\", Start='2017-03-10', Finish='2017-03-20', Resource='Not Started'),\n",
    "#       dict(Task=\"Job-3\", Start='2017-04-01', Finish='2017-04-20', Resource='Not Started'),\n",
    "#       dict(Task=\"Job-3\", Start='2017-05-18', Finish='2017-06-18', Resource='Not Started'),\n",
    "#       dict(Task=\"Job-4\", Start='2017-01-14', Finish='2017-03-14', Resource='Complete')]\n",
    "\n",
    "colors = {'nd_range': 'rgb(220, 0, 0)',\n",
    "          'read': (1, 0.9, 0.16),\n",
    "          'write': 'rgb(0, 255, 100)',\n",
    "         'overhead': 'rgb(0, 0, 255)'}\n",
    "\n",
    "df.sort(key = lambda x : int(re.findall('\\d+',x['Task'])[0]))\n",
    "modify_task_labels(df)\n",
    "fig = ff.create_gantt(df, colors=colors, index_col='Resource', show_colorbar=True,\n",
    "                      group_tasks=True,width=1000,height=750)\n",
    "\n",
    "fig.layout['xaxis']['tickformat'] = '%-L'\n",
    "fig.layout['title'] = 'Transformer 2 heads -  GPU, CQ {0} Total Time {1:.4f}s'.format(num_queues,total_time)\n",
    "fig.layout['xaxis_title'] = 'Time (milli seconds)'\n",
    "fig.layout['yaxis_title'] = 'Kernel'\n",
    "fig.layout['xaxis_range']=[to_time_delta(0.017),to_time_delta(0.030)]\n",
    "#fig.layout['xaxis_range']=[to_time_delta(0),to_time_delta(0.020)]\n",
    "#fig.layout['xaxis_range'] = [0,6]\n",
    "fig.layout['font'] = dict(\n",
    "        family=\"Courier New, monospace\",\n",
    "        size=18,\n",
    "        color=\"#7f7f7f\")\n",
    "\n",
    "\n",
    "\n",
    "fig.show()"
   ]
  },
  {
   "cell_type": "code",
   "execution_count": 46,
   "metadata": {},
   "outputs": [
    {
     "data": {
      "application/vnd.plotly.v1+json": {
       "config": {
        "plotlyServerURL": "https://plot.ly"
       },
       "data": [
        {
         "fill": "toself",
         "fillcolor": "rgb(0, 255, 100)",
         "hoverinfo": "name",
         "legendgroup": "rgb(0, 255, 100)",
         "mode": "none",
         "name": "write",
         "type": "scatter",
         "x": [
          "2020-03-19T00:00:00.018066",
          "2020-03-19T00:00:00.018111",
          "2020-03-19T00:00:00.018111",
          "2020-03-19T00:00:00.018066",
          "2020-03-19T00:00:00.018066",
          "2020-03-19T00:00:00.019025",
          "2020-03-19T00:00:00.019071",
          "2020-03-19T00:00:00.019071",
          "2020-03-19T00:00:00.019025",
          "2020-03-19T00:00:00.019025",
          "2020-03-19T00:00:00.017918",
          "2020-03-19T00:00:00.017963",
          "2020-03-19T00:00:00.017963",
          "2020-03-19T00:00:00.017918",
          "2020-03-19T00:00:00.017918",
          "2020-03-19T00:00:00.024026",
          "2020-03-19T00:00:00.024072",
          "2020-03-19T00:00:00.024072",
          "2020-03-19T00:00:00.024026",
          "2020-03-19T00:00:00.024026",
          "2020-03-19T00:00:00.020081",
          "2020-03-19T00:00:00.020127",
          "2020-03-19T00:00:00.020127",
          "2020-03-19T00:00:00.020081",
          "2020-03-19T00:00:00.020081",
          "2020-03-19T00:00:00.020629",
          "2020-03-19T00:00:00.020675",
          "2020-03-19T00:00:00.020675",
          "2020-03-19T00:00:00.020629",
          "2020-03-19T00:00:00.020629",
          "2020-03-19T00:00:00.018124",
          "2020-03-19T00:00:00.018168",
          "2020-03-19T00:00:00.018168",
          "2020-03-19T00:00:00.018124",
          "2020-03-19T00:00:00.018124",
          "2020-03-19T00:00:00.024530",
          "2020-03-19T00:00:00.024575",
          "2020-03-19T00:00:00.024575",
          "2020-03-19T00:00:00.024530",
          "2020-03-19T00:00:00.024530",
          "2020-03-19T00:00:00.019499",
          "2020-03-19T00:00:00.019546",
          "2020-03-19T00:00:00.019546",
          "2020-03-19T00:00:00.019499",
          "2020-03-19T00:00:00.019499",
          "2020-03-19T00:00:00.017980",
          "2020-03-19T00:00:00.018026",
          "2020-03-19T00:00:00.018026",
          "2020-03-19T00:00:00.017980"
         ],
         "y": [
          0.8,
          0.8,
          1.2,
          1.2,
          null,
          0.8,
          0.8,
          1.2,
          1.2,
          null,
          0.8,
          0.8,
          1.2,
          1.2,
          null,
          0.8,
          0.8,
          1.2,
          1.2,
          null,
          0.8,
          0.8,
          1.2,
          1.2,
          null,
          -0.2,
          -0.2,
          0.2,
          0.2,
          null,
          -0.2,
          -0.2,
          0.2,
          0.2,
          null,
          -0.2,
          -0.2,
          0.2,
          0.2,
          null,
          -0.2,
          -0.2,
          0.2,
          0.2,
          null,
          -0.2,
          -0.2,
          0.2,
          0.2
         ]
        },
        {
         "fill": "toself",
         "fillcolor": "rgb(169, 169, 217)",
         "hoverinfo": "name",
         "legendgroup": "rgb(169, 169, 217)",
         "mode": "none",
         "name": "transpose",
         "type": "scatter",
         "x": [
          "2020-03-19T00:00:00.021051",
          "2020-03-19T00:00:00.021427",
          "2020-03-19T00:00:00.021427",
          "2020-03-19T00:00:00.021051",
          "2020-03-19T00:00:00.021051",
          "2020-03-19T00:00:00.021595",
          "2020-03-19T00:00:00.021985",
          "2020-03-19T00:00:00.021985",
          "2020-03-19T00:00:00.021595"
         ],
         "y": [
          0.8,
          0.8,
          1.2,
          1.2,
          null,
          -0.2,
          -0.2,
          0.2,
          0.2
         ]
        },
        {
         "fill": "toself",
         "fillcolor": "rgb(221, 48, 105)",
         "hoverinfo": "name",
         "legendgroup": "rgb(221, 48, 105)",
         "mode": "none",
         "name": "gemm",
         "type": "scatter",
         "x": [
          "2020-03-19T00:00:00.021429",
          "2020-03-19T00:00:00.022176",
          "2020-03-19T00:00:00.022176",
          "2020-03-19T00:00:00.021429",
          "2020-03-19T00:00:00.021429",
          "2020-03-19T00:00:00.023163",
          "2020-03-19T00:00:00.023926",
          "2020-03-19T00:00:00.023926",
          "2020-03-19T00:00:00.023163",
          "2020-03-19T00:00:00.023163",
          "2020-03-19T00:00:00.018173",
          "2020-03-19T00:00:00.018912",
          "2020-03-19T00:00:00.018912",
          "2020-03-19T00:00:00.018173",
          "2020-03-19T00:00:00.018173",
          "2020-03-19T00:00:00.019075",
          "2020-03-19T00:00:00.019957",
          "2020-03-19T00:00:00.019957",
          "2020-03-19T00:00:00.019075",
          "2020-03-19T00:00:00.019075",
          "2020-03-19T00:00:00.024075",
          "2020-03-19T00:00:00.024988",
          "2020-03-19T00:00:00.024988",
          "2020-03-19T00:00:00.024075",
          "2020-03-19T00:00:00.024075",
          "2020-03-19T00:00:00.020142",
          "2020-03-19T00:00:00.021049",
          "2020-03-19T00:00:00.021049",
          "2020-03-19T00:00:00.020142",
          "2020-03-19T00:00:00.020142",
          "2020-03-19T00:00:00.020680",
          "2020-03-19T00:00:00.021589",
          "2020-03-19T00:00:00.021589",
          "2020-03-19T00:00:00.020680",
          "2020-03-19T00:00:00.020680",
          "2020-03-19T00:00:00.018203",
          "2020-03-19T00:00:00.019423",
          "2020-03-19T00:00:00.019423",
          "2020-03-19T00:00:00.018203",
          "2020-03-19T00:00:00.018203",
          "2020-03-19T00:00:00.024579",
          "2020-03-19T00:00:00.025460",
          "2020-03-19T00:00:00.025460",
          "2020-03-19T00:00:00.024579",
          "2020-03-19T00:00:00.024579",
          "2020-03-19T00:00:00.019560",
          "2020-03-19T00:00:00.020520",
          "2020-03-19T00:00:00.020520",
          "2020-03-19T00:00:00.019560",
          "2020-03-19T00:00:00.019560",
          "2020-03-19T00:00:00.021987",
          "2020-03-19T00:00:00.022669",
          "2020-03-19T00:00:00.022669",
          "2020-03-19T00:00:00.021987",
          "2020-03-19T00:00:00.021987",
          "2020-03-19T00:00:00.023546",
          "2020-03-19T00:00:00.024437",
          "2020-03-19T00:00:00.024437",
          "2020-03-19T00:00:00.023546"
         ],
         "y": [
          0.8,
          0.8,
          1.2,
          1.2,
          null,
          0.8,
          0.8,
          1.2,
          1.2,
          null,
          0.8,
          0.8,
          1.2,
          1.2,
          null,
          0.8,
          0.8,
          1.2,
          1.2,
          null,
          0.8,
          0.8,
          1.2,
          1.2,
          null,
          0.8,
          0.8,
          1.2,
          1.2,
          null,
          -0.2,
          -0.2,
          0.2,
          0.2,
          null,
          -0.2,
          -0.2,
          0.2,
          0.2,
          null,
          -0.2,
          -0.2,
          0.2,
          0.2,
          null,
          -0.2,
          -0.2,
          0.2,
          0.2,
          null,
          -0.2,
          -0.2,
          0.2,
          0.2,
          null,
          -0.2,
          -0.2,
          0.2,
          0.2
         ]
        },
        {
         "fill": "toself",
         "fillcolor": "rgb(255, 0, 255)",
         "hoverinfo": "name",
         "legendgroup": "rgb(255, 0, 255)",
         "mode": "none",
         "name": "copy",
         "type": "scatter",
         "x": [
          "2020-03-19T00:00:00.017968",
          "2020-03-19T00:00:00.017979",
          "2020-03-19T00:00:00.017979",
          "2020-03-19T00:00:00.017968",
          "2020-03-19T00:00:00.017968",
          "2020-03-19T00:00:00.018030",
          "2020-03-19T00:00:00.018034",
          "2020-03-19T00:00:00.018034",
          "2020-03-19T00:00:00.018030"
         ],
         "y": [
          0.8,
          0.8,
          1.2,
          1.2,
          null,
          -0.2,
          -0.2,
          0.2,
          0.2
         ]
        },
        {
         "fill": "toself",
         "fillcolor": "rgb(255, 230, 41)",
         "hoverinfo": "name",
         "legendgroup": "rgb(255, 230, 41)",
         "mode": "none",
         "name": "read",
         "type": "scatter",
         "x": [
          "2020-03-19T00:00:00.024995",
          "2020-03-19T00:00:00.025037",
          "2020-03-19T00:00:00.025037",
          "2020-03-19T00:00:00.024995",
          "2020-03-19T00:00:00.024995",
          "2020-03-19T00:00:00.025467",
          "2020-03-19T00:00:00.025509",
          "2020-03-19T00:00:00.025509",
          "2020-03-19T00:00:00.025467"
         ],
         "y": [
          0.8,
          0.8,
          1.2,
          1.2,
          null,
          -0.2,
          -0.2,
          0.2,
          0.2
         ]
        },
        {
         "fill": "toself",
         "fillcolor": "rgb(51, 153, 204)",
         "hoverinfo": "name",
         "legendgroup": "rgb(51, 153, 204)",
         "mode": "none",
         "name": "softmax",
         "type": "scatter",
         "x": [
          "2020-03-19T00:00:00.022178",
          "2020-03-19T00:00:00.023161",
          "2020-03-19T00:00:00.023161",
          "2020-03-19T00:00:00.022178",
          "2020-03-19T00:00:00.022178",
          "2020-03-19T00:00:00.022670",
          "2020-03-19T00:00:00.023544",
          "2020-03-19T00:00:00.023544",
          "2020-03-19T00:00:00.022670"
         ],
         "y": [
          0.8,
          0.8,
          1.2,
          1.2,
          null,
          -0.2,
          -0.2,
          0.2,
          0.2
         ]
        },
        {
         "legendgroup": "rgb(0, 255, 100)",
         "marker": {
          "color": "rgb(0, 255, 100)",
          "opacity": 0,
          "size": 1
         },
         "mode": "markers",
         "name": "",
         "showlegend": false,
         "text": [
          null,
          null,
          null,
          null,
          null,
          null,
          null,
          null,
          null,
          null,
          null,
          null,
          null,
          null,
          null,
          null,
          null,
          null,
          null,
          null
         ],
         "type": "scatter",
         "x": [
          "2020-03-19T00:00:00.018066",
          "2020-03-19T00:00:00.018111",
          "2020-03-19T00:00:00.019025",
          "2020-03-19T00:00:00.019071",
          "2020-03-19T00:00:00.017918",
          "2020-03-19T00:00:00.017963",
          "2020-03-19T00:00:00.024026",
          "2020-03-19T00:00:00.024072",
          "2020-03-19T00:00:00.020081",
          "2020-03-19T00:00:00.020127",
          "2020-03-19T00:00:00.020629",
          "2020-03-19T00:00:00.020675",
          "2020-03-19T00:00:00.018124",
          "2020-03-19T00:00:00.018168",
          "2020-03-19T00:00:00.024530",
          "2020-03-19T00:00:00.024575",
          "2020-03-19T00:00:00.019499",
          "2020-03-19T00:00:00.019546",
          "2020-03-19T00:00:00.017980",
          "2020-03-19T00:00:00.018026"
         ],
         "y": [
          1,
          1,
          1,
          1,
          1,
          1,
          1,
          1,
          1,
          1,
          0,
          0,
          0,
          0,
          0,
          0,
          0,
          0,
          0,
          0
         ]
        },
        {
         "legendgroup": "rgb(169, 169, 217)",
         "marker": {
          "color": "rgb(169, 169, 217)",
          "opacity": 0,
          "size": 1
         },
         "mode": "markers",
         "name": "",
         "showlegend": false,
         "text": [
          null,
          null,
          null,
          null
         ],
         "type": "scatter",
         "x": [
          "2020-03-19T00:00:00.021051",
          "2020-03-19T00:00:00.021427",
          "2020-03-19T00:00:00.021595",
          "2020-03-19T00:00:00.021985"
         ],
         "y": [
          1,
          1,
          0,
          0
         ]
        },
        {
         "legendgroup": "rgb(221, 48, 105)",
         "marker": {
          "color": "rgb(221, 48, 105)",
          "opacity": 0,
          "size": 1
         },
         "mode": "markers",
         "name": "",
         "showlegend": false,
         "text": [
          null,
          null,
          null,
          null,
          null,
          null,
          null,
          null,
          null,
          null,
          null,
          null,
          null,
          null,
          null,
          null,
          null,
          null,
          null,
          null,
          null,
          null,
          null,
          null
         ],
         "type": "scatter",
         "x": [
          "2020-03-19T00:00:00.021429",
          "2020-03-19T00:00:00.022176",
          "2020-03-19T00:00:00.023163",
          "2020-03-19T00:00:00.023926",
          "2020-03-19T00:00:00.018173",
          "2020-03-19T00:00:00.018912",
          "2020-03-19T00:00:00.019075",
          "2020-03-19T00:00:00.019957",
          "2020-03-19T00:00:00.024075",
          "2020-03-19T00:00:00.024988",
          "2020-03-19T00:00:00.020142",
          "2020-03-19T00:00:00.021049",
          "2020-03-19T00:00:00.020680",
          "2020-03-19T00:00:00.021589",
          "2020-03-19T00:00:00.018203",
          "2020-03-19T00:00:00.019423",
          "2020-03-19T00:00:00.024579",
          "2020-03-19T00:00:00.025460",
          "2020-03-19T00:00:00.019560",
          "2020-03-19T00:00:00.020520",
          "2020-03-19T00:00:00.021987",
          "2020-03-19T00:00:00.022669",
          "2020-03-19T00:00:00.023546",
          "2020-03-19T00:00:00.024437"
         ],
         "y": [
          1,
          1,
          1,
          1,
          1,
          1,
          1,
          1,
          1,
          1,
          1,
          1,
          0,
          0,
          0,
          0,
          0,
          0,
          0,
          0,
          0,
          0,
          0,
          0
         ]
        },
        {
         "legendgroup": "rgb(255, 0, 255)",
         "marker": {
          "color": "rgb(255, 0, 255)",
          "opacity": 0,
          "size": 1
         },
         "mode": "markers",
         "name": "",
         "showlegend": false,
         "text": [
          null,
          null,
          null,
          null
         ],
         "type": "scatter",
         "x": [
          "2020-03-19T00:00:00.017968",
          "2020-03-19T00:00:00.017979",
          "2020-03-19T00:00:00.018030",
          "2020-03-19T00:00:00.018034"
         ],
         "y": [
          1,
          1,
          0,
          0
         ]
        },
        {
         "legendgroup": "rgb(255, 230, 41)",
         "marker": {
          "color": "rgb(255, 230, 41)",
          "opacity": 0,
          "size": 1
         },
         "mode": "markers",
         "name": "",
         "showlegend": false,
         "text": [
          null,
          null,
          null,
          null
         ],
         "type": "scatter",
         "x": [
          "2020-03-19T00:00:00.024995",
          "2020-03-19T00:00:00.025037",
          "2020-03-19T00:00:00.025467",
          "2020-03-19T00:00:00.025509"
         ],
         "y": [
          1,
          1,
          0,
          0
         ]
        },
        {
         "legendgroup": "rgb(51, 153, 204)",
         "marker": {
          "color": "rgb(51, 153, 204)",
          "opacity": 0,
          "size": 1
         },
         "mode": "markers",
         "name": "",
         "showlegend": false,
         "text": [
          null,
          null,
          null,
          null
         ],
         "type": "scatter",
         "x": [
          "2020-03-19T00:00:00.022178",
          "2020-03-19T00:00:00.023161",
          "2020-03-19T00:00:00.022670",
          "2020-03-19T00:00:00.023544"
         ],
         "y": [
          1,
          1,
          0,
          0
         ]
        }
       ],
       "layout": {
        "font": {
         "color": "#7f7f7f",
         "family": "Courier New, monospace",
         "size": 18
        },
        "height": 750,
        "hovermode": "closest",
        "showlegend": true,
        "template": {
         "data": {
          "bar": [
           {
            "error_x": {
             "color": "#2a3f5f"
            },
            "error_y": {
             "color": "#2a3f5f"
            },
            "marker": {
             "line": {
              "color": "#E5ECF6",
              "width": 0.5
             }
            },
            "type": "bar"
           }
          ],
          "barpolar": [
           {
            "marker": {
             "line": {
              "color": "#E5ECF6",
              "width": 0.5
             }
            },
            "type": "barpolar"
           }
          ],
          "carpet": [
           {
            "aaxis": {
             "endlinecolor": "#2a3f5f",
             "gridcolor": "white",
             "linecolor": "white",
             "minorgridcolor": "white",
             "startlinecolor": "#2a3f5f"
            },
            "baxis": {
             "endlinecolor": "#2a3f5f",
             "gridcolor": "white",
             "linecolor": "white",
             "minorgridcolor": "white",
             "startlinecolor": "#2a3f5f"
            },
            "type": "carpet"
           }
          ],
          "choropleth": [
           {
            "colorbar": {
             "outlinewidth": 0,
             "ticks": ""
            },
            "type": "choropleth"
           }
          ],
          "contour": [
           {
            "colorbar": {
             "outlinewidth": 0,
             "ticks": ""
            },
            "colorscale": [
             [
              0,
              "#0d0887"
             ],
             [
              0.1111111111111111,
              "#46039f"
             ],
             [
              0.2222222222222222,
              "#7201a8"
             ],
             [
              0.3333333333333333,
              "#9c179e"
             ],
             [
              0.4444444444444444,
              "#bd3786"
             ],
             [
              0.5555555555555556,
              "#d8576b"
             ],
             [
              0.6666666666666666,
              "#ed7953"
             ],
             [
              0.7777777777777778,
              "#fb9f3a"
             ],
             [
              0.8888888888888888,
              "#fdca26"
             ],
             [
              1,
              "#f0f921"
             ]
            ],
            "type": "contour"
           }
          ],
          "contourcarpet": [
           {
            "colorbar": {
             "outlinewidth": 0,
             "ticks": ""
            },
            "type": "contourcarpet"
           }
          ],
          "heatmap": [
           {
            "colorbar": {
             "outlinewidth": 0,
             "ticks": ""
            },
            "colorscale": [
             [
              0,
              "#0d0887"
             ],
             [
              0.1111111111111111,
              "#46039f"
             ],
             [
              0.2222222222222222,
              "#7201a8"
             ],
             [
              0.3333333333333333,
              "#9c179e"
             ],
             [
              0.4444444444444444,
              "#bd3786"
             ],
             [
              0.5555555555555556,
              "#d8576b"
             ],
             [
              0.6666666666666666,
              "#ed7953"
             ],
             [
              0.7777777777777778,
              "#fb9f3a"
             ],
             [
              0.8888888888888888,
              "#fdca26"
             ],
             [
              1,
              "#f0f921"
             ]
            ],
            "type": "heatmap"
           }
          ],
          "heatmapgl": [
           {
            "colorbar": {
             "outlinewidth": 0,
             "ticks": ""
            },
            "colorscale": [
             [
              0,
              "#0d0887"
             ],
             [
              0.1111111111111111,
              "#46039f"
             ],
             [
              0.2222222222222222,
              "#7201a8"
             ],
             [
              0.3333333333333333,
              "#9c179e"
             ],
             [
              0.4444444444444444,
              "#bd3786"
             ],
             [
              0.5555555555555556,
              "#d8576b"
             ],
             [
              0.6666666666666666,
              "#ed7953"
             ],
             [
              0.7777777777777778,
              "#fb9f3a"
             ],
             [
              0.8888888888888888,
              "#fdca26"
             ],
             [
              1,
              "#f0f921"
             ]
            ],
            "type": "heatmapgl"
           }
          ],
          "histogram": [
           {
            "marker": {
             "colorbar": {
              "outlinewidth": 0,
              "ticks": ""
             }
            },
            "type": "histogram"
           }
          ],
          "histogram2d": [
           {
            "colorbar": {
             "outlinewidth": 0,
             "ticks": ""
            },
            "colorscale": [
             [
              0,
              "#0d0887"
             ],
             [
              0.1111111111111111,
              "#46039f"
             ],
             [
              0.2222222222222222,
              "#7201a8"
             ],
             [
              0.3333333333333333,
              "#9c179e"
             ],
             [
              0.4444444444444444,
              "#bd3786"
             ],
             [
              0.5555555555555556,
              "#d8576b"
             ],
             [
              0.6666666666666666,
              "#ed7953"
             ],
             [
              0.7777777777777778,
              "#fb9f3a"
             ],
             [
              0.8888888888888888,
              "#fdca26"
             ],
             [
              1,
              "#f0f921"
             ]
            ],
            "type": "histogram2d"
           }
          ],
          "histogram2dcontour": [
           {
            "colorbar": {
             "outlinewidth": 0,
             "ticks": ""
            },
            "colorscale": [
             [
              0,
              "#0d0887"
             ],
             [
              0.1111111111111111,
              "#46039f"
             ],
             [
              0.2222222222222222,
              "#7201a8"
             ],
             [
              0.3333333333333333,
              "#9c179e"
             ],
             [
              0.4444444444444444,
              "#bd3786"
             ],
             [
              0.5555555555555556,
              "#d8576b"
             ],
             [
              0.6666666666666666,
              "#ed7953"
             ],
             [
              0.7777777777777778,
              "#fb9f3a"
             ],
             [
              0.8888888888888888,
              "#fdca26"
             ],
             [
              1,
              "#f0f921"
             ]
            ],
            "type": "histogram2dcontour"
           }
          ],
          "mesh3d": [
           {
            "colorbar": {
             "outlinewidth": 0,
             "ticks": ""
            },
            "type": "mesh3d"
           }
          ],
          "parcoords": [
           {
            "line": {
             "colorbar": {
              "outlinewidth": 0,
              "ticks": ""
             }
            },
            "type": "parcoords"
           }
          ],
          "pie": [
           {
            "automargin": true,
            "type": "pie"
           }
          ],
          "scatter": [
           {
            "marker": {
             "colorbar": {
              "outlinewidth": 0,
              "ticks": ""
             }
            },
            "type": "scatter"
           }
          ],
          "scatter3d": [
           {
            "line": {
             "colorbar": {
              "outlinewidth": 0,
              "ticks": ""
             }
            },
            "marker": {
             "colorbar": {
              "outlinewidth": 0,
              "ticks": ""
             }
            },
            "type": "scatter3d"
           }
          ],
          "scattercarpet": [
           {
            "marker": {
             "colorbar": {
              "outlinewidth": 0,
              "ticks": ""
             }
            },
            "type": "scattercarpet"
           }
          ],
          "scattergeo": [
           {
            "marker": {
             "colorbar": {
              "outlinewidth": 0,
              "ticks": ""
             }
            },
            "type": "scattergeo"
           }
          ],
          "scattergl": [
           {
            "marker": {
             "colorbar": {
              "outlinewidth": 0,
              "ticks": ""
             }
            },
            "type": "scattergl"
           }
          ],
          "scattermapbox": [
           {
            "marker": {
             "colorbar": {
              "outlinewidth": 0,
              "ticks": ""
             }
            },
            "type": "scattermapbox"
           }
          ],
          "scatterpolar": [
           {
            "marker": {
             "colorbar": {
              "outlinewidth": 0,
              "ticks": ""
             }
            },
            "type": "scatterpolar"
           }
          ],
          "scatterpolargl": [
           {
            "marker": {
             "colorbar": {
              "outlinewidth": 0,
              "ticks": ""
             }
            },
            "type": "scatterpolargl"
           }
          ],
          "scatterternary": [
           {
            "marker": {
             "colorbar": {
              "outlinewidth": 0,
              "ticks": ""
             }
            },
            "type": "scatterternary"
           }
          ],
          "surface": [
           {
            "colorbar": {
             "outlinewidth": 0,
             "ticks": ""
            },
            "colorscale": [
             [
              0,
              "#0d0887"
             ],
             [
              0.1111111111111111,
              "#46039f"
             ],
             [
              0.2222222222222222,
              "#7201a8"
             ],
             [
              0.3333333333333333,
              "#9c179e"
             ],
             [
              0.4444444444444444,
              "#bd3786"
             ],
             [
              0.5555555555555556,
              "#d8576b"
             ],
             [
              0.6666666666666666,
              "#ed7953"
             ],
             [
              0.7777777777777778,
              "#fb9f3a"
             ],
             [
              0.8888888888888888,
              "#fdca26"
             ],
             [
              1,
              "#f0f921"
             ]
            ],
            "type": "surface"
           }
          ],
          "table": [
           {
            "cells": {
             "fill": {
              "color": "#EBF0F8"
             },
             "line": {
              "color": "white"
             }
            },
            "header": {
             "fill": {
              "color": "#C8D4E3"
             },
             "line": {
              "color": "white"
             }
            },
            "type": "table"
           }
          ]
         },
         "layout": {
          "annotationdefaults": {
           "arrowcolor": "#2a3f5f",
           "arrowhead": 0,
           "arrowwidth": 1
          },
          "coloraxis": {
           "colorbar": {
            "outlinewidth": 0,
            "ticks": ""
           }
          },
          "colorscale": {
           "diverging": [
            [
             0,
             "#8e0152"
            ],
            [
             0.1,
             "#c51b7d"
            ],
            [
             0.2,
             "#de77ae"
            ],
            [
             0.3,
             "#f1b6da"
            ],
            [
             0.4,
             "#fde0ef"
            ],
            [
             0.5,
             "#f7f7f7"
            ],
            [
             0.6,
             "#e6f5d0"
            ],
            [
             0.7,
             "#b8e186"
            ],
            [
             0.8,
             "#7fbc41"
            ],
            [
             0.9,
             "#4d9221"
            ],
            [
             1,
             "#276419"
            ]
           ],
           "sequential": [
            [
             0,
             "#0d0887"
            ],
            [
             0.1111111111111111,
             "#46039f"
            ],
            [
             0.2222222222222222,
             "#7201a8"
            ],
            [
             0.3333333333333333,
             "#9c179e"
            ],
            [
             0.4444444444444444,
             "#bd3786"
            ],
            [
             0.5555555555555556,
             "#d8576b"
            ],
            [
             0.6666666666666666,
             "#ed7953"
            ],
            [
             0.7777777777777778,
             "#fb9f3a"
            ],
            [
             0.8888888888888888,
             "#fdca26"
            ],
            [
             1,
             "#f0f921"
            ]
           ],
           "sequentialminus": [
            [
             0,
             "#0d0887"
            ],
            [
             0.1111111111111111,
             "#46039f"
            ],
            [
             0.2222222222222222,
             "#7201a8"
            ],
            [
             0.3333333333333333,
             "#9c179e"
            ],
            [
             0.4444444444444444,
             "#bd3786"
            ],
            [
             0.5555555555555556,
             "#d8576b"
            ],
            [
             0.6666666666666666,
             "#ed7953"
            ],
            [
             0.7777777777777778,
             "#fb9f3a"
            ],
            [
             0.8888888888888888,
             "#fdca26"
            ],
            [
             1,
             "#f0f921"
            ]
           ]
          },
          "colorway": [
           "#636efa",
           "#EF553B",
           "#00cc96",
           "#ab63fa",
           "#FFA15A",
           "#19d3f3",
           "#FF6692",
           "#B6E880",
           "#FF97FF",
           "#FECB52"
          ],
          "font": {
           "color": "#2a3f5f"
          },
          "geo": {
           "bgcolor": "white",
           "lakecolor": "white",
           "landcolor": "#E5ECF6",
           "showlakes": true,
           "showland": true,
           "subunitcolor": "white"
          },
          "hoverlabel": {
           "align": "left"
          },
          "hovermode": "closest",
          "mapbox": {
           "style": "light"
          },
          "paper_bgcolor": "white",
          "plot_bgcolor": "#E5ECF6",
          "polar": {
           "angularaxis": {
            "gridcolor": "white",
            "linecolor": "white",
            "ticks": ""
           },
           "bgcolor": "#E5ECF6",
           "radialaxis": {
            "gridcolor": "white",
            "linecolor": "white",
            "ticks": ""
           }
          },
          "scene": {
           "xaxis": {
            "backgroundcolor": "#E5ECF6",
            "gridcolor": "white",
            "gridwidth": 2,
            "linecolor": "white",
            "showbackground": true,
            "ticks": "",
            "zerolinecolor": "white"
           },
           "yaxis": {
            "backgroundcolor": "#E5ECF6",
            "gridcolor": "white",
            "gridwidth": 2,
            "linecolor": "white",
            "showbackground": true,
            "ticks": "",
            "zerolinecolor": "white"
           },
           "zaxis": {
            "backgroundcolor": "#E5ECF6",
            "gridcolor": "white",
            "gridwidth": 2,
            "linecolor": "white",
            "showbackground": true,
            "ticks": "",
            "zerolinecolor": "white"
           }
          },
          "shapedefaults": {
           "line": {
            "color": "#2a3f5f"
           }
          },
          "ternary": {
           "aaxis": {
            "gridcolor": "white",
            "linecolor": "white",
            "ticks": ""
           },
           "baxis": {
            "gridcolor": "white",
            "linecolor": "white",
            "ticks": ""
           },
           "bgcolor": "#E5ECF6",
           "caxis": {
            "gridcolor": "white",
            "linecolor": "white",
            "ticks": ""
           }
          },
          "title": {
           "x": 0.05
          },
          "xaxis": {
           "automargin": true,
           "gridcolor": "white",
           "linecolor": "white",
           "ticks": "",
           "title": {
            "standoff": 15
           },
           "zerolinecolor": "white",
           "zerolinewidth": 2
          },
          "yaxis": {
           "automargin": true,
           "gridcolor": "white",
           "linecolor": "white",
           "ticks": "",
           "title": {
            "standoff": 15
           },
           "zerolinecolor": "white",
           "zerolinewidth": 2
          }
         }
        },
        "title": {
         "text": "Transformer 2 heads -  GPU-GPU, CQ 1 Total Time 0.0255s"
        },
        "width": 1000,
        "xaxis": {
         "rangeselector": {
          "buttons": [
           {
            "count": 7,
            "label": "1w",
            "step": "day",
            "stepmode": "backward"
           },
           {
            "count": 1,
            "label": "1m",
            "step": "month",
            "stepmode": "backward"
           },
           {
            "count": 6,
            "label": "6m",
            "step": "month",
            "stepmode": "backward"
           },
           {
            "count": 1,
            "label": "YTD",
            "step": "year",
            "stepmode": "todate"
           },
           {
            "count": 1,
            "label": "1y",
            "step": "year",
            "stepmode": "backward"
           },
           {
            "step": "all"
           }
          ]
         },
         "showgrid": false,
         "tickformat": "%L",
         "title": {
          "text": "Time (milli seconds)"
         },
         "type": "date",
         "zeroline": false
        },
        "yaxis": {
         "autorange": false,
         "range": [
          -1,
          3
         ],
         "showgrid": false,
         "ticktext": [
          "gpu_1",
          "gpu_0"
         ],
         "tickvals": [
          0,
          1
         ],
         "title": {
          "text": "Command Queue"
         },
         "zeroline": false
        }
       }
      },
      "text/html": [
       "<div>\n",
       "        \n",
       "        \n",
       "            <div id=\"d328c904-3337-4afc-9fca-553eff07f6f7\" class=\"plotly-graph-div\" style=\"height:750px; width:1000px;\"></div>\n",
       "            <script type=\"text/javascript\">\n",
       "                require([\"plotly\"], function(Plotly) {\n",
       "                    window.PLOTLYENV=window.PLOTLYENV || {};\n",
       "                    \n",
       "                if (document.getElementById(\"d328c904-3337-4afc-9fca-553eff07f6f7\")) {\n",
       "                    Plotly.newPlot(\n",
       "                        'd328c904-3337-4afc-9fca-553eff07f6f7',\n",
       "                        [{\"fill\": \"toself\", \"fillcolor\": \"rgb(0, 255, 100)\", \"hoverinfo\": \"name\", \"legendgroup\": \"rgb(0, 255, 100)\", \"mode\": \"none\", \"name\": \"write\", \"type\": \"scatter\", \"x\": [\"2020-03-19T00:00:00.018066\", \"2020-03-19T00:00:00.018111\", \"2020-03-19T00:00:00.018111\", \"2020-03-19T00:00:00.018066\", \"2020-03-19T00:00:00.018066\", \"2020-03-19T00:00:00.019025\", \"2020-03-19T00:00:00.019071\", \"2020-03-19T00:00:00.019071\", \"2020-03-19T00:00:00.019025\", \"2020-03-19T00:00:00.019025\", \"2020-03-19T00:00:00.017918\", \"2020-03-19T00:00:00.017963\", \"2020-03-19T00:00:00.017963\", \"2020-03-19T00:00:00.017918\", \"2020-03-19T00:00:00.017918\", \"2020-03-19T00:00:00.024026\", \"2020-03-19T00:00:00.024072\", \"2020-03-19T00:00:00.024072\", \"2020-03-19T00:00:00.024026\", \"2020-03-19T00:00:00.024026\", \"2020-03-19T00:00:00.020081\", \"2020-03-19T00:00:00.020127\", \"2020-03-19T00:00:00.020127\", \"2020-03-19T00:00:00.020081\", \"2020-03-19T00:00:00.020081\", \"2020-03-19T00:00:00.020629\", \"2020-03-19T00:00:00.020675\", \"2020-03-19T00:00:00.020675\", \"2020-03-19T00:00:00.020629\", \"2020-03-19T00:00:00.020629\", \"2020-03-19T00:00:00.018124\", \"2020-03-19T00:00:00.018168\", \"2020-03-19T00:00:00.018168\", \"2020-03-19T00:00:00.018124\", \"2020-03-19T00:00:00.018124\", \"2020-03-19T00:00:00.024530\", \"2020-03-19T00:00:00.024575\", \"2020-03-19T00:00:00.024575\", \"2020-03-19T00:00:00.024530\", \"2020-03-19T00:00:00.024530\", \"2020-03-19T00:00:00.019499\", \"2020-03-19T00:00:00.019546\", \"2020-03-19T00:00:00.019546\", \"2020-03-19T00:00:00.019499\", \"2020-03-19T00:00:00.019499\", \"2020-03-19T00:00:00.017980\", \"2020-03-19T00:00:00.018026\", \"2020-03-19T00:00:00.018026\", \"2020-03-19T00:00:00.017980\"], \"y\": [0.8, 0.8, 1.2, 1.2, null, 0.8, 0.8, 1.2, 1.2, null, 0.8, 0.8, 1.2, 1.2, null, 0.8, 0.8, 1.2, 1.2, null, 0.8, 0.8, 1.2, 1.2, null, -0.2, -0.2, 0.2, 0.2, null, -0.2, -0.2, 0.2, 0.2, null, -0.2, -0.2, 0.2, 0.2, null, -0.2, -0.2, 0.2, 0.2, null, -0.2, -0.2, 0.2, 0.2]}, {\"fill\": \"toself\", \"fillcolor\": \"rgb(169, 169, 217)\", \"hoverinfo\": \"name\", \"legendgroup\": \"rgb(169, 169, 217)\", \"mode\": \"none\", \"name\": \"transpose\", \"type\": \"scatter\", \"x\": [\"2020-03-19T00:00:00.021051\", \"2020-03-19T00:00:00.021427\", \"2020-03-19T00:00:00.021427\", \"2020-03-19T00:00:00.021051\", \"2020-03-19T00:00:00.021051\", \"2020-03-19T00:00:00.021595\", \"2020-03-19T00:00:00.021985\", \"2020-03-19T00:00:00.021985\", \"2020-03-19T00:00:00.021595\"], \"y\": [0.8, 0.8, 1.2, 1.2, null, -0.2, -0.2, 0.2, 0.2]}, {\"fill\": \"toself\", \"fillcolor\": \"rgb(221, 48, 105)\", \"hoverinfo\": \"name\", \"legendgroup\": \"rgb(221, 48, 105)\", \"mode\": \"none\", \"name\": \"gemm\", \"type\": \"scatter\", \"x\": [\"2020-03-19T00:00:00.021429\", \"2020-03-19T00:00:00.022176\", \"2020-03-19T00:00:00.022176\", \"2020-03-19T00:00:00.021429\", \"2020-03-19T00:00:00.021429\", \"2020-03-19T00:00:00.023163\", \"2020-03-19T00:00:00.023926\", \"2020-03-19T00:00:00.023926\", \"2020-03-19T00:00:00.023163\", \"2020-03-19T00:00:00.023163\", \"2020-03-19T00:00:00.018173\", \"2020-03-19T00:00:00.018912\", \"2020-03-19T00:00:00.018912\", \"2020-03-19T00:00:00.018173\", \"2020-03-19T00:00:00.018173\", \"2020-03-19T00:00:00.019075\", \"2020-03-19T00:00:00.019957\", \"2020-03-19T00:00:00.019957\", \"2020-03-19T00:00:00.019075\", \"2020-03-19T00:00:00.019075\", \"2020-03-19T00:00:00.024075\", \"2020-03-19T00:00:00.024988\", \"2020-03-19T00:00:00.024988\", \"2020-03-19T00:00:00.024075\", \"2020-03-19T00:00:00.024075\", \"2020-03-19T00:00:00.020142\", \"2020-03-19T00:00:00.021049\", \"2020-03-19T00:00:00.021049\", \"2020-03-19T00:00:00.020142\", \"2020-03-19T00:00:00.020142\", \"2020-03-19T00:00:00.020680\", \"2020-03-19T00:00:00.021589\", \"2020-03-19T00:00:00.021589\", \"2020-03-19T00:00:00.020680\", \"2020-03-19T00:00:00.020680\", \"2020-03-19T00:00:00.018203\", \"2020-03-19T00:00:00.019423\", \"2020-03-19T00:00:00.019423\", \"2020-03-19T00:00:00.018203\", \"2020-03-19T00:00:00.018203\", \"2020-03-19T00:00:00.024579\", \"2020-03-19T00:00:00.025460\", \"2020-03-19T00:00:00.025460\", \"2020-03-19T00:00:00.024579\", \"2020-03-19T00:00:00.024579\", \"2020-03-19T00:00:00.019560\", \"2020-03-19T00:00:00.020520\", \"2020-03-19T00:00:00.020520\", \"2020-03-19T00:00:00.019560\", \"2020-03-19T00:00:00.019560\", \"2020-03-19T00:00:00.021987\", \"2020-03-19T00:00:00.022669\", \"2020-03-19T00:00:00.022669\", \"2020-03-19T00:00:00.021987\", \"2020-03-19T00:00:00.021987\", \"2020-03-19T00:00:00.023546\", \"2020-03-19T00:00:00.024437\", \"2020-03-19T00:00:00.024437\", \"2020-03-19T00:00:00.023546\"], \"y\": [0.8, 0.8, 1.2, 1.2, null, 0.8, 0.8, 1.2, 1.2, null, 0.8, 0.8, 1.2, 1.2, null, 0.8, 0.8, 1.2, 1.2, null, 0.8, 0.8, 1.2, 1.2, null, 0.8, 0.8, 1.2, 1.2, null, -0.2, -0.2, 0.2, 0.2, null, -0.2, -0.2, 0.2, 0.2, null, -0.2, -0.2, 0.2, 0.2, null, -0.2, -0.2, 0.2, 0.2, null, -0.2, -0.2, 0.2, 0.2, null, -0.2, -0.2, 0.2, 0.2]}, {\"fill\": \"toself\", \"fillcolor\": \"rgb(255, 0, 255)\", \"hoverinfo\": \"name\", \"legendgroup\": \"rgb(255, 0, 255)\", \"mode\": \"none\", \"name\": \"copy\", \"type\": \"scatter\", \"x\": [\"2020-03-19T00:00:00.017968\", \"2020-03-19T00:00:00.017979\", \"2020-03-19T00:00:00.017979\", \"2020-03-19T00:00:00.017968\", \"2020-03-19T00:00:00.017968\", \"2020-03-19T00:00:00.018030\", \"2020-03-19T00:00:00.018034\", \"2020-03-19T00:00:00.018034\", \"2020-03-19T00:00:00.018030\"], \"y\": [0.8, 0.8, 1.2, 1.2, null, -0.2, -0.2, 0.2, 0.2]}, {\"fill\": \"toself\", \"fillcolor\": \"rgb(255, 230, 41)\", \"hoverinfo\": \"name\", \"legendgroup\": \"rgb(255, 230, 41)\", \"mode\": \"none\", \"name\": \"read\", \"type\": \"scatter\", \"x\": [\"2020-03-19T00:00:00.024995\", \"2020-03-19T00:00:00.025037\", \"2020-03-19T00:00:00.025037\", \"2020-03-19T00:00:00.024995\", \"2020-03-19T00:00:00.024995\", \"2020-03-19T00:00:00.025467\", \"2020-03-19T00:00:00.025509\", \"2020-03-19T00:00:00.025509\", \"2020-03-19T00:00:00.025467\"], \"y\": [0.8, 0.8, 1.2, 1.2, null, -0.2, -0.2, 0.2, 0.2]}, {\"fill\": \"toself\", \"fillcolor\": \"rgb(51, 153, 204)\", \"hoverinfo\": \"name\", \"legendgroup\": \"rgb(51, 153, 204)\", \"mode\": \"none\", \"name\": \"softmax\", \"type\": \"scatter\", \"x\": [\"2020-03-19T00:00:00.022178\", \"2020-03-19T00:00:00.023161\", \"2020-03-19T00:00:00.023161\", \"2020-03-19T00:00:00.022178\", \"2020-03-19T00:00:00.022178\", \"2020-03-19T00:00:00.022670\", \"2020-03-19T00:00:00.023544\", \"2020-03-19T00:00:00.023544\", \"2020-03-19T00:00:00.022670\"], \"y\": [0.8, 0.8, 1.2, 1.2, null, -0.2, -0.2, 0.2, 0.2]}, {\"legendgroup\": \"rgb(0, 255, 100)\", \"marker\": {\"color\": \"rgb(0, 255, 100)\", \"opacity\": 0, \"size\": 1}, \"mode\": \"markers\", \"name\": \"\", \"showlegend\": false, \"text\": [null, null, null, null, null, null, null, null, null, null, null, null, null, null, null, null, null, null, null, null], \"type\": \"scatter\", \"x\": [\"2020-03-19T00:00:00.018066\", \"2020-03-19T00:00:00.018111\", \"2020-03-19T00:00:00.019025\", \"2020-03-19T00:00:00.019071\", \"2020-03-19T00:00:00.017918\", \"2020-03-19T00:00:00.017963\", \"2020-03-19T00:00:00.024026\", \"2020-03-19T00:00:00.024072\", \"2020-03-19T00:00:00.020081\", \"2020-03-19T00:00:00.020127\", \"2020-03-19T00:00:00.020629\", \"2020-03-19T00:00:00.020675\", \"2020-03-19T00:00:00.018124\", \"2020-03-19T00:00:00.018168\", \"2020-03-19T00:00:00.024530\", \"2020-03-19T00:00:00.024575\", \"2020-03-19T00:00:00.019499\", \"2020-03-19T00:00:00.019546\", \"2020-03-19T00:00:00.017980\", \"2020-03-19T00:00:00.018026\"], \"y\": [1, 1, 1, 1, 1, 1, 1, 1, 1, 1, 0, 0, 0, 0, 0, 0, 0, 0, 0, 0]}, {\"legendgroup\": \"rgb(169, 169, 217)\", \"marker\": {\"color\": \"rgb(169, 169, 217)\", \"opacity\": 0, \"size\": 1}, \"mode\": \"markers\", \"name\": \"\", \"showlegend\": false, \"text\": [null, null, null, null], \"type\": \"scatter\", \"x\": [\"2020-03-19T00:00:00.021051\", \"2020-03-19T00:00:00.021427\", \"2020-03-19T00:00:00.021595\", \"2020-03-19T00:00:00.021985\"], \"y\": [1, 1, 0, 0]}, {\"legendgroup\": \"rgb(221, 48, 105)\", \"marker\": {\"color\": \"rgb(221, 48, 105)\", \"opacity\": 0, \"size\": 1}, \"mode\": \"markers\", \"name\": \"\", \"showlegend\": false, \"text\": [null, null, null, null, null, null, null, null, null, null, null, null, null, null, null, null, null, null, null, null, null, null, null, null], \"type\": \"scatter\", \"x\": [\"2020-03-19T00:00:00.021429\", \"2020-03-19T00:00:00.022176\", \"2020-03-19T00:00:00.023163\", \"2020-03-19T00:00:00.023926\", \"2020-03-19T00:00:00.018173\", \"2020-03-19T00:00:00.018912\", \"2020-03-19T00:00:00.019075\", \"2020-03-19T00:00:00.019957\", \"2020-03-19T00:00:00.024075\", \"2020-03-19T00:00:00.024988\", \"2020-03-19T00:00:00.020142\", \"2020-03-19T00:00:00.021049\", \"2020-03-19T00:00:00.020680\", \"2020-03-19T00:00:00.021589\", \"2020-03-19T00:00:00.018203\", \"2020-03-19T00:00:00.019423\", \"2020-03-19T00:00:00.024579\", \"2020-03-19T00:00:00.025460\", \"2020-03-19T00:00:00.019560\", \"2020-03-19T00:00:00.020520\", \"2020-03-19T00:00:00.021987\", \"2020-03-19T00:00:00.022669\", \"2020-03-19T00:00:00.023546\", \"2020-03-19T00:00:00.024437\"], \"y\": [1, 1, 1, 1, 1, 1, 1, 1, 1, 1, 1, 1, 0, 0, 0, 0, 0, 0, 0, 0, 0, 0, 0, 0]}, {\"legendgroup\": \"rgb(255, 0, 255)\", \"marker\": {\"color\": \"rgb(255, 0, 255)\", \"opacity\": 0, \"size\": 1}, \"mode\": \"markers\", \"name\": \"\", \"showlegend\": false, \"text\": [null, null, null, null], \"type\": \"scatter\", \"x\": [\"2020-03-19T00:00:00.017968\", \"2020-03-19T00:00:00.017979\", \"2020-03-19T00:00:00.018030\", \"2020-03-19T00:00:00.018034\"], \"y\": [1, 1, 0, 0]}, {\"legendgroup\": \"rgb(255, 230, 41)\", \"marker\": {\"color\": \"rgb(255, 230, 41)\", \"opacity\": 0, \"size\": 1}, \"mode\": \"markers\", \"name\": \"\", \"showlegend\": false, \"text\": [null, null, null, null], \"type\": \"scatter\", \"x\": [\"2020-03-19T00:00:00.024995\", \"2020-03-19T00:00:00.025037\", \"2020-03-19T00:00:00.025467\", \"2020-03-19T00:00:00.025509\"], \"y\": [1, 1, 0, 0]}, {\"legendgroup\": \"rgb(51, 153, 204)\", \"marker\": {\"color\": \"rgb(51, 153, 204)\", \"opacity\": 0, \"size\": 1}, \"mode\": \"markers\", \"name\": \"\", \"showlegend\": false, \"text\": [null, null, null, null], \"type\": \"scatter\", \"x\": [\"2020-03-19T00:00:00.022178\", \"2020-03-19T00:00:00.023161\", \"2020-03-19T00:00:00.022670\", \"2020-03-19T00:00:00.023544\"], \"y\": [1, 1, 0, 0]}],\n",
       "                        {\"font\": {\"color\": \"#7f7f7f\", \"family\": \"Courier New, monospace\", \"size\": 18}, \"height\": 750, \"hovermode\": \"closest\", \"showlegend\": true, \"template\": {\"data\": {\"bar\": [{\"error_x\": {\"color\": \"#2a3f5f\"}, \"error_y\": {\"color\": \"#2a3f5f\"}, \"marker\": {\"line\": {\"color\": \"#E5ECF6\", \"width\": 0.5}}, \"type\": \"bar\"}], \"barpolar\": [{\"marker\": {\"line\": {\"color\": \"#E5ECF6\", \"width\": 0.5}}, \"type\": \"barpolar\"}], \"carpet\": [{\"aaxis\": {\"endlinecolor\": \"#2a3f5f\", \"gridcolor\": \"white\", \"linecolor\": \"white\", \"minorgridcolor\": \"white\", \"startlinecolor\": \"#2a3f5f\"}, \"baxis\": {\"endlinecolor\": \"#2a3f5f\", \"gridcolor\": \"white\", \"linecolor\": \"white\", \"minorgridcolor\": \"white\", \"startlinecolor\": \"#2a3f5f\"}, \"type\": \"carpet\"}], \"choropleth\": [{\"colorbar\": {\"outlinewidth\": 0, \"ticks\": \"\"}, \"type\": \"choropleth\"}], \"contour\": [{\"colorbar\": {\"outlinewidth\": 0, \"ticks\": \"\"}, \"colorscale\": [[0.0, \"#0d0887\"], [0.1111111111111111, \"#46039f\"], [0.2222222222222222, \"#7201a8\"], [0.3333333333333333, \"#9c179e\"], [0.4444444444444444, \"#bd3786\"], [0.5555555555555556, \"#d8576b\"], [0.6666666666666666, \"#ed7953\"], [0.7777777777777778, \"#fb9f3a\"], [0.8888888888888888, \"#fdca26\"], [1.0, \"#f0f921\"]], \"type\": \"contour\"}], \"contourcarpet\": [{\"colorbar\": {\"outlinewidth\": 0, \"ticks\": \"\"}, \"type\": \"contourcarpet\"}], \"heatmap\": [{\"colorbar\": {\"outlinewidth\": 0, \"ticks\": \"\"}, \"colorscale\": [[0.0, \"#0d0887\"], [0.1111111111111111, \"#46039f\"], [0.2222222222222222, \"#7201a8\"], [0.3333333333333333, \"#9c179e\"], [0.4444444444444444, \"#bd3786\"], [0.5555555555555556, \"#d8576b\"], [0.6666666666666666, \"#ed7953\"], [0.7777777777777778, \"#fb9f3a\"], [0.8888888888888888, \"#fdca26\"], [1.0, \"#f0f921\"]], \"type\": \"heatmap\"}], \"heatmapgl\": [{\"colorbar\": {\"outlinewidth\": 0, \"ticks\": \"\"}, \"colorscale\": [[0.0, \"#0d0887\"], [0.1111111111111111, \"#46039f\"], [0.2222222222222222, \"#7201a8\"], [0.3333333333333333, \"#9c179e\"], [0.4444444444444444, \"#bd3786\"], [0.5555555555555556, \"#d8576b\"], [0.6666666666666666, \"#ed7953\"], [0.7777777777777778, \"#fb9f3a\"], [0.8888888888888888, \"#fdca26\"], [1.0, \"#f0f921\"]], \"type\": \"heatmapgl\"}], \"histogram\": [{\"marker\": {\"colorbar\": {\"outlinewidth\": 0, \"ticks\": \"\"}}, \"type\": \"histogram\"}], \"histogram2d\": [{\"colorbar\": {\"outlinewidth\": 0, \"ticks\": \"\"}, \"colorscale\": [[0.0, \"#0d0887\"], [0.1111111111111111, \"#46039f\"], [0.2222222222222222, \"#7201a8\"], [0.3333333333333333, \"#9c179e\"], [0.4444444444444444, \"#bd3786\"], [0.5555555555555556, \"#d8576b\"], [0.6666666666666666, \"#ed7953\"], [0.7777777777777778, \"#fb9f3a\"], [0.8888888888888888, \"#fdca26\"], [1.0, \"#f0f921\"]], \"type\": \"histogram2d\"}], \"histogram2dcontour\": [{\"colorbar\": {\"outlinewidth\": 0, \"ticks\": \"\"}, \"colorscale\": [[0.0, \"#0d0887\"], [0.1111111111111111, \"#46039f\"], [0.2222222222222222, \"#7201a8\"], [0.3333333333333333, \"#9c179e\"], [0.4444444444444444, \"#bd3786\"], [0.5555555555555556, \"#d8576b\"], [0.6666666666666666, \"#ed7953\"], [0.7777777777777778, \"#fb9f3a\"], [0.8888888888888888, \"#fdca26\"], [1.0, \"#f0f921\"]], \"type\": \"histogram2dcontour\"}], \"mesh3d\": [{\"colorbar\": {\"outlinewidth\": 0, \"ticks\": \"\"}, \"type\": \"mesh3d\"}], \"parcoords\": [{\"line\": {\"colorbar\": {\"outlinewidth\": 0, \"ticks\": \"\"}}, \"type\": \"parcoords\"}], \"pie\": [{\"automargin\": true, \"type\": \"pie\"}], \"scatter\": [{\"marker\": {\"colorbar\": {\"outlinewidth\": 0, \"ticks\": \"\"}}, \"type\": \"scatter\"}], \"scatter3d\": [{\"line\": {\"colorbar\": {\"outlinewidth\": 0, \"ticks\": \"\"}}, \"marker\": {\"colorbar\": {\"outlinewidth\": 0, \"ticks\": \"\"}}, \"type\": \"scatter3d\"}], \"scattercarpet\": [{\"marker\": {\"colorbar\": {\"outlinewidth\": 0, \"ticks\": \"\"}}, \"type\": \"scattercarpet\"}], \"scattergeo\": [{\"marker\": {\"colorbar\": {\"outlinewidth\": 0, \"ticks\": \"\"}}, \"type\": \"scattergeo\"}], \"scattergl\": [{\"marker\": {\"colorbar\": {\"outlinewidth\": 0, \"ticks\": \"\"}}, \"type\": \"scattergl\"}], \"scattermapbox\": [{\"marker\": {\"colorbar\": {\"outlinewidth\": 0, \"ticks\": \"\"}}, \"type\": \"scattermapbox\"}], \"scatterpolar\": [{\"marker\": {\"colorbar\": {\"outlinewidth\": 0, \"ticks\": \"\"}}, \"type\": \"scatterpolar\"}], \"scatterpolargl\": [{\"marker\": {\"colorbar\": {\"outlinewidth\": 0, \"ticks\": \"\"}}, \"type\": \"scatterpolargl\"}], \"scatterternary\": [{\"marker\": {\"colorbar\": {\"outlinewidth\": 0, \"ticks\": \"\"}}, \"type\": \"scatterternary\"}], \"surface\": [{\"colorbar\": {\"outlinewidth\": 0, \"ticks\": \"\"}, \"colorscale\": [[0.0, \"#0d0887\"], [0.1111111111111111, \"#46039f\"], [0.2222222222222222, \"#7201a8\"], [0.3333333333333333, \"#9c179e\"], [0.4444444444444444, \"#bd3786\"], [0.5555555555555556, \"#d8576b\"], [0.6666666666666666, \"#ed7953\"], [0.7777777777777778, \"#fb9f3a\"], [0.8888888888888888, \"#fdca26\"], [1.0, \"#f0f921\"]], \"type\": \"surface\"}], \"table\": [{\"cells\": {\"fill\": {\"color\": \"#EBF0F8\"}, \"line\": {\"color\": \"white\"}}, \"header\": {\"fill\": {\"color\": \"#C8D4E3\"}, \"line\": {\"color\": \"white\"}}, \"type\": \"table\"}]}, \"layout\": {\"annotationdefaults\": {\"arrowcolor\": \"#2a3f5f\", \"arrowhead\": 0, \"arrowwidth\": 1}, \"coloraxis\": {\"colorbar\": {\"outlinewidth\": 0, \"ticks\": \"\"}}, \"colorscale\": {\"diverging\": [[0, \"#8e0152\"], [0.1, \"#c51b7d\"], [0.2, \"#de77ae\"], [0.3, \"#f1b6da\"], [0.4, \"#fde0ef\"], [0.5, \"#f7f7f7\"], [0.6, \"#e6f5d0\"], [0.7, \"#b8e186\"], [0.8, \"#7fbc41\"], [0.9, \"#4d9221\"], [1, \"#276419\"]], \"sequential\": [[0.0, \"#0d0887\"], [0.1111111111111111, \"#46039f\"], [0.2222222222222222, \"#7201a8\"], [0.3333333333333333, \"#9c179e\"], [0.4444444444444444, \"#bd3786\"], [0.5555555555555556, \"#d8576b\"], [0.6666666666666666, \"#ed7953\"], [0.7777777777777778, \"#fb9f3a\"], [0.8888888888888888, \"#fdca26\"], [1.0, \"#f0f921\"]], \"sequentialminus\": [[0.0, \"#0d0887\"], [0.1111111111111111, \"#46039f\"], [0.2222222222222222, \"#7201a8\"], [0.3333333333333333, \"#9c179e\"], [0.4444444444444444, \"#bd3786\"], [0.5555555555555556, \"#d8576b\"], [0.6666666666666666, \"#ed7953\"], [0.7777777777777778, \"#fb9f3a\"], [0.8888888888888888, \"#fdca26\"], [1.0, \"#f0f921\"]]}, \"colorway\": [\"#636efa\", \"#EF553B\", \"#00cc96\", \"#ab63fa\", \"#FFA15A\", \"#19d3f3\", \"#FF6692\", \"#B6E880\", \"#FF97FF\", \"#FECB52\"], \"font\": {\"color\": \"#2a3f5f\"}, \"geo\": {\"bgcolor\": \"white\", \"lakecolor\": \"white\", \"landcolor\": \"#E5ECF6\", \"showlakes\": true, \"showland\": true, \"subunitcolor\": \"white\"}, \"hoverlabel\": {\"align\": \"left\"}, \"hovermode\": \"closest\", \"mapbox\": {\"style\": \"light\"}, \"paper_bgcolor\": \"white\", \"plot_bgcolor\": \"#E5ECF6\", \"polar\": {\"angularaxis\": {\"gridcolor\": \"white\", \"linecolor\": \"white\", \"ticks\": \"\"}, \"bgcolor\": \"#E5ECF6\", \"radialaxis\": {\"gridcolor\": \"white\", \"linecolor\": \"white\", \"ticks\": \"\"}}, \"scene\": {\"xaxis\": {\"backgroundcolor\": \"#E5ECF6\", \"gridcolor\": \"white\", \"gridwidth\": 2, \"linecolor\": \"white\", \"showbackground\": true, \"ticks\": \"\", \"zerolinecolor\": \"white\"}, \"yaxis\": {\"backgroundcolor\": \"#E5ECF6\", \"gridcolor\": \"white\", \"gridwidth\": 2, \"linecolor\": \"white\", \"showbackground\": true, \"ticks\": \"\", \"zerolinecolor\": \"white\"}, \"zaxis\": {\"backgroundcolor\": \"#E5ECF6\", \"gridcolor\": \"white\", \"gridwidth\": 2, \"linecolor\": \"white\", \"showbackground\": true, \"ticks\": \"\", \"zerolinecolor\": \"white\"}}, \"shapedefaults\": {\"line\": {\"color\": \"#2a3f5f\"}}, \"ternary\": {\"aaxis\": {\"gridcolor\": \"white\", \"linecolor\": \"white\", \"ticks\": \"\"}, \"baxis\": {\"gridcolor\": \"white\", \"linecolor\": \"white\", \"ticks\": \"\"}, \"bgcolor\": \"#E5ECF6\", \"caxis\": {\"gridcolor\": \"white\", \"linecolor\": \"white\", \"ticks\": \"\"}}, \"title\": {\"x\": 0.05}, \"xaxis\": {\"automargin\": true, \"gridcolor\": \"white\", \"linecolor\": \"white\", \"ticks\": \"\", \"title\": {\"standoff\": 15}, \"zerolinecolor\": \"white\", \"zerolinewidth\": 2}, \"yaxis\": {\"automargin\": true, \"gridcolor\": \"white\", \"linecolor\": \"white\", \"ticks\": \"\", \"title\": {\"standoff\": 15}, \"zerolinecolor\": \"white\", \"zerolinewidth\": 2}}}, \"title\": {\"text\": \"Transformer 2 heads -  GPU-GPU, CQ 1 Total Time 0.0255s\"}, \"width\": 1000, \"xaxis\": {\"rangeselector\": {\"buttons\": [{\"count\": 7, \"label\": \"1w\", \"step\": \"day\", \"stepmode\": \"backward\"}, {\"count\": 1, \"label\": \"1m\", \"step\": \"month\", \"stepmode\": \"backward\"}, {\"count\": 6, \"label\": \"6m\", \"step\": \"month\", \"stepmode\": \"backward\"}, {\"count\": 1, \"label\": \"YTD\", \"step\": \"year\", \"stepmode\": \"todate\"}, {\"count\": 1, \"label\": \"1y\", \"step\": \"year\", \"stepmode\": \"backward\"}, {\"step\": \"all\"}]}, \"showgrid\": false, \"tickformat\": \"%L\", \"title\": {\"text\": \"Time (milli seconds)\"}, \"type\": \"date\", \"zeroline\": false}, \"yaxis\": {\"autorange\": false, \"range\": [-1, 3], \"showgrid\": false, \"ticktext\": [\"gpu_1\", \"gpu_0\"], \"tickvals\": [0, 1], \"title\": {\"text\": \"Command Queue\"}, \"zeroline\": false}},\n",
       "                        {\"responsive\": true}\n",
       "                    ).then(function(){\n",
       "                            \n",
       "var gd = document.getElementById('d328c904-3337-4afc-9fca-553eff07f6f7');\n",
       "var x = new MutationObserver(function (mutations, observer) {{\n",
       "        var display = window.getComputedStyle(gd).display;\n",
       "        if (!display || display === 'none') {{\n",
       "            console.log([gd, 'removed!']);\n",
       "            Plotly.purge(gd);\n",
       "            observer.disconnect();\n",
       "        }}\n",
       "}});\n",
       "\n",
       "// Listen for the removal of the full notebook cells\n",
       "var notebookContainer = gd.closest('#notebook-container');\n",
       "if (notebookContainer) {{\n",
       "    x.observe(notebookContainer, {childList: true});\n",
       "}}\n",
       "\n",
       "// Listen for the clearing of the current output cell\n",
       "var outputEl = gd.closest('.output');\n",
       "if (outputEl) {{\n",
       "    x.observe(outputEl, {childList: true});\n",
       "}}\n",
       "\n",
       "                        })\n",
       "                };\n",
       "                });\n",
       "            </script>\n",
       "        </div>"
      ]
     },
     "metadata": {},
     "output_type": "display_data"
    }
   ],
   "source": [
    "df = []\n",
    "kernels = {}\n",
    "\n",
    "\n",
    "\n",
    "\n",
    "for kernel,events in relative_timestamps.items():\n",
    "    dev = events[\"device\"]\n",
    "    cq = events[\"cmdq\"]\n",
    "    #print kernel,cq\n",
    "    Task = \"{}_{}\".format(dev,cq)\n",
    "    ##events -> write,read,nd_range\n",
    "    ##event  -> device_queued,device_start,device-end\n",
    "#         for interval in intervals:\n",
    "#             Resource=event\n",
    "#             Start = now + timedelta(seconds=interval[0])\n",
    "#             Finish = now + timedelta(seconds=interval[1])\n",
    "#             df.append(dict(Task=Task,Start=Start,Finish=Finish,Resource=Resource))\n",
    "\n",
    "    \n",
    "    if events[\"write\"][\"device_start\"] > 0:\n",
    "        #write_overhead_start = to_time_delta(events[\"write\"][\"host_queued\"])\n",
    "        write_event_start = write_overhead_end = to_time_delta(events[\"write\"][\"device_start\"])\n",
    "        write_event_end = to_time_delta(events[\"write\"][\"device_end\"])\n",
    "        #df.append(dict(Task=Task,Start=write_overhead_start,Finish=write_overhead_end,Resource='overhead'))\n",
    "        df.append(dict(Task=Task,Start=write_event_start,Finish=write_event_end,Resource='write'))\n",
    "    \n",
    "\n",
    "    \n",
    "    if kernel.startswith('FFC'):\n",
    "        exec_resource = 'gemm'\n",
    "    elif \"transpose\" in kernel:\n",
    "        exec_resource = 'transpose'\n",
    "    elif 'softmax' in kernel:\n",
    "        exec_resource = 'softmax'\n",
    "    else:\n",
    "        exec_resource = 'copy'\n",
    "    \n",
    "    exec_event_start  = to_time_delta(events[\"nd_range\"][\"device_start\"])\n",
    "    exec_event_end = to_time_delta(events[\"nd_range\"][\"device_end\"])\n",
    "    df.append(dict(Task=Task,Start=exec_event_start,Finish=exec_event_end,Resource=exec_resource))\n",
    "    \n",
    "    \n",
    "    if events[\"read\"][\"device_start\"] > 0:\n",
    "        read_event_start = to_time_delta(events[\"read\"][\"device_start\"])\n",
    "        read_overhead_start = read_event_end = to_time_delta(events[\"read\"][\"device_end\"])\n",
    "    #read_overhead_end = to_time_delta(events[\"read\"][\"host_end\"])\n",
    "        df.append(dict(Task=Task,Start=read_event_start,Finish=read_event_end,Resource='read'))\n",
    "    #df.append(dict(Task=Task,Start=read_overhead_start,Finish=read_overhead_end,Resource='overhead'))\n",
    "    \n",
    "\n",
    "#print(df)\n",
    "    \n",
    "    \n",
    "# df = [dict(Task=\"Job-1\", Start='2017-01-01', Finish='2017-02-02', Resource='Complete'),\n",
    "#       dict(Task=\"Job-1\", Start='2017-02-15', Finish='2017-03-15', Resource='Incomplete'),\n",
    "#       dict(Task=\"Job-2\", Start='2017-01-17', Finish='2017-02-17', Resource='Not Started'),\n",
    "#       dict(Task=\"Job-2\", Start='2017-01-17', Finish='2017-02-17', Resource='Complete'),\n",
    "#       dict(Task=\"Job-3\", Start='2017-03-10', Finish='2017-03-20', Resource='Not Started'),\n",
    "#       dict(Task=\"Job-3\", Start='2017-04-01', Finish='2017-04-20', Resource='Not Started'),\n",
    "#       dict(Task=\"Job-3\", Start='2017-05-18', Finish='2017-06-18', Resource='Not Started'),\n",
    "#       dict(Task=\"Job-4\", Start='2017-01-14', Finish='2017-03-14', Resource='Complete')]\n",
    "\n",
    "colors = {'copy': '#ff00ff',\n",
    "          'read': (1, 0.9, 0.16),\n",
    "          'write': 'rgb(0, 255, 100)',\n",
    "         'overhead': 'rgb(0, 0, 255)',\n",
    "         'gemm': '#dd3069',\n",
    "         'transpose': '#a9a9d9',\n",
    "         'softmax': '#3399cc'}\n",
    "\n",
    "df.sort(key = lambda x : x['Task'])\n",
    "#modify_task_labels(df)\n",
    "fig = ff.create_gantt(df, colors=colors, index_col='Resource', show_colorbar=True,\n",
    "                      group_tasks=True,width=1000,height=750)\n",
    "\n",
    "fig.layout['xaxis']['tickformat'] = '%L'\n",
    "fig.layout['title'] = 'Transformer 2 heads -  GPU-GPU, CQ {0} Total Time {1:.4f}s'.format(num_queues,total_time)\n",
    "fig.layout['xaxis_title'] = 'Time (milli seconds)'\n",
    "fig.layout['yaxis_title'] = 'Command Queue'\n",
    "#fig.layout['xaxis_range']=[to_time_delta(0.017),to_time_delta(0.025)]\n",
    "#fig.layout['xaxis_range'] = [0,6]\n",
    "fig.layout['font'] = dict(\n",
    "        family=\"Courier New, monospace\",\n",
    "        size=18,\n",
    "        color=\"#7f7f7f\")\n",
    "\n",
    "\n",
    "\n",
    "fig.show()"
   ]
  },
  {
   "cell_type": "code",
   "execution_count": null,
   "metadata": {},
   "outputs": [],
   "source": []
  },
  {
   "cell_type": "code",
   "execution_count": null,
   "metadata": {},
   "outputs": [],
   "source": []
  },
  {
   "cell_type": "code",
   "execution_count": null,
   "metadata": {},
   "outputs": [],
   "source": []
  },
  {
   "cell_type": "code",
   "execution_count": null,
   "metadata": {},
   "outputs": [],
   "source": []
  },
  {
   "cell_type": "code",
   "execution_count": null,
   "metadata": {},
   "outputs": [],
   "source": []
  },
  {
   "cell_type": "code",
   "execution_count": null,
   "metadata": {},
   "outputs": [],
   "source": []
  }
 ],
 "metadata": {
  "kernelspec": {
   "display_name": "Python 2",
   "language": "python",
   "name": "python2"
  },
  "language_info": {
   "codemirror_mode": {
    "name": "ipython",
    "version": 2
   },
   "file_extension": ".py",
   "mimetype": "text/x-python",
   "name": "python",
   "nbconvert_exporter": "python",
   "pygments_lexer": "ipython2",
   "version": "2.7.12"
  }
 },
 "nbformat": 4,
 "nbformat_minor": 2
}
